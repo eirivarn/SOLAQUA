{
 "cells": [
  {
   "cell_type": "markdown",
   "id": "d3cf16b9",
   "metadata": {},
   "source": [
    "# SOLAQUA Video Export Demo\n",
    "\n",
    "This notebook demonstrates how to export **camera topics** from `*_video.bag` files to **MP4** or **PNG sequences**, and how to dump **CameraInfo** YAML."
   ]
  },
  {
   "cell_type": "code",
   "execution_count": 1,
   "id": "2815c63b",
   "metadata": {},
   "outputs": [
    {
     "name": "stdout",
     "output_type": "stream",
     "text": [
      "Working directory: /Users/eirikvarnes/code/SOLAQUA\n"
     ]
    }
   ],
   "source": [
    "# Ensure project root is on sys.path (edit if needed)\n",
    "import sys\n",
    "from pathlib import Path\n",
    "project_root = Path.cwd()\n",
    "if str(project_root) not in sys.path:\n",
    "    sys.path.insert(0, str(project_root))\n",
    "print(\"Working directory:\", Path.cwd())\n"
   ]
  },
  {
   "cell_type": "code",
   "execution_count": 2,
   "id": "7c934a6c",
   "metadata": {},
   "outputs": [],
   "source": [
    "from utils.video_export import (\n",
    "    list_camera_topics_in_bag,\n",
    "    export_all_video_bags_to_mp4, export_all_video_bags_to_png,\n",
    "    export_camera_topic_to_mp4, export_camera_topic_to_png_sequence,\n",
    "    export_camera_info_for_bag,\n",
    ")\n",
    "from utils.core import find_video_bags, sanitize_topic\n",
    "from pathlib import Path\n",
    "import pandas as pd\n"
   ]
  },
  {
   "cell_type": "markdown",
   "id": "06a92ee5",
   "metadata": {},
   "source": [
    "## Configure paths"
   ]
  },
  {
   "cell_type": "code",
   "execution_count": 3,
   "id": "4ac5ea04",
   "metadata": {},
   "outputs": [
    {
     "name": "stdout",
     "output_type": "stream",
     "text": [
      "Data dir: /Users/eirikvarnes/code/SOLAQUA/data\n",
      "Exports dir: /Users/eirikvarnes/code/SOLAQUA/exports\n"
     ]
    },
    {
     "data": {
      "text/plain": [
       "[PosixPath('data/2024-08-20_13-39-34_video.bag'),\n",
       " PosixPath('data/2024-08-20_13-40-35_video.bag'),\n",
       " PosixPath('data/2024-08-22_14-06-43_video.bag'),\n",
       " PosixPath('data/2024-08-22_14-29-05_video.bag'),\n",
       " PosixPath('data/2024-08-22_14-47-39_video.bag')]"
      ]
     },
     "execution_count": 3,
     "metadata": {},
     "output_type": "execute_result"
    }
   ],
   "source": [
    "DATA_DIR = Path(\"data\")  # <-- change to your folder with *_video.bag files\n",
    "EXPORTS_DIR = Path(\"exports\")\n",
    "EXPORTS_DIR.mkdir(parents=True, exist_ok=True)\n",
    "\n",
    "print(\"Data dir:\", DATA_DIR.resolve())\n",
    "print(\"Exports dir:\", EXPORTS_DIR.resolve())\n",
    "bags = find_video_bags(DATA_DIR, recursive=True)\n",
    "bags[:5]\n"
   ]
  },
  {
   "cell_type": "markdown",
   "id": "7ef8dd10",
   "metadata": {},
   "source": [
    "## List camera topics in one bag"
   ]
  },
  {
   "cell_type": "code",
   "execution_count": 4,
   "id": "ceda1264",
   "metadata": {},
   "outputs": [
    {
     "name": "stdout",
     "output_type": "stream",
     "text": [
      "Inspecting: 2024-08-20_13-39-34_video.bag\n"
     ]
    }
   ],
   "source": [
    "if bags:\n",
    "    bagpath = bags[0]\n",
    "    print(\"Inspecting:\", bagpath.name)\n",
    "    list_camera_topics_in_bag(bagpath)\n",
    "else:\n",
    "    print(\"No *_video.bag files found under\", DATA_DIR)\n"
   ]
  },
  {
   "cell_type": "markdown",
   "id": "77d749ad",
   "metadata": {},
   "source": [
    "## Export CameraInfo YAML"
   ]
  },
  {
   "cell_type": "code",
   "execution_count": 5,
   "id": "8abf8ccc",
   "metadata": {},
   "outputs": [
    {
     "data": {
      "text/html": [
       "<div>\n",
       "<style scoped>\n",
       "    .dataframe tbody tr th:only-of-type {\n",
       "        vertical-align: middle;\n",
       "    }\n",
       "\n",
       "    .dataframe tbody tr th {\n",
       "        vertical-align: top;\n",
       "    }\n",
       "\n",
       "    .dataframe thead th {\n",
       "        text-align: right;\n",
       "    }\n",
       "</style>\n",
       "<table border=\"1\" class=\"dataframe\">\n",
       "  <thead>\n",
       "    <tr style=\"text-align: right;\">\n",
       "      <th></th>\n",
       "      <th>bag</th>\n",
       "      <th>topic</th>\n",
       "      <th>out_file</th>\n",
       "    </tr>\n",
       "  </thead>\n",
       "  <tbody>\n",
       "    <tr>\n",
       "      <th>0</th>\n",
       "      <td>2024-08-20_13-39-34_video</td>\n",
       "      <td>/image/compressed_image/camera_info</td>\n",
       "      <td>exports/camera_info/2024-08-20_13-39-34_video_...</td>\n",
       "    </tr>\n",
       "  </tbody>\n",
       "</table>\n",
       "</div>"
      ],
      "text/plain": [
       "                         bag                                topic  \\\n",
       "0  2024-08-20_13-39-34_video  /image/compressed_image/camera_info   \n",
       "\n",
       "                                            out_file  \n",
       "0  exports/camera_info/2024-08-20_13-39-34_video_...  "
      ]
     },
     "metadata": {},
     "output_type": "display_data"
    }
   ],
   "source": [
    "if bags:\n",
    "    df_info = export_camera_info_for_bag(bags[0], out_dir=EXPORTS_DIR / \"camera_info\")\n",
    "    display(df_info.head(10))\n",
    "else:\n",
    "    print(\"Skipping CameraInfo export.\")\n"
   ]
  },
  {
   "cell_type": "markdown",
   "id": "2370dea6",
   "metadata": {},
   "source": [
    "## Export a single camera topic to MP4"
   ]
  },
  {
   "cell_type": "code",
   "execution_count": 6,
   "id": "a89bef3b",
   "metadata": {},
   "outputs": [],
   "source": [
    "if bags:\n",
    "    bag = bags[0]\n",
    "    topics = [t for (t, _mt) in list_camera_topics_in_bag(bag)]\n",
    "    if topics:\n",
    "        topic = topics[0]\n",
    "        mp4_path = EXPORTS_DIR / \"videos\" / f\"{bag.stem}__{sanitize_topic(topic)}.mp4\"\n",
    "        res = export_camera_topic_to_mp4(bag, topic, mp4_path, target_fps=None)  # auto-estimate FPS\n",
    "        res\n",
    "    else:\n",
    "        print(\"No camera topics found in\", bag.name)\n",
    "else:\n",
    "    print(\"No video bags found to export from.\")\n"
   ]
  },
  {
   "cell_type": "markdown",
   "id": "ad637a97",
   "metadata": {},
   "source": [
    "## Export **all** video bags to MP4"
   ]
  },
  {
   "cell_type": "code",
   "execution_count": 7,
   "id": "021f09e3",
   "metadata": {},
   "outputs": [
    {
     "name": "stdout",
     "output_type": "stream",
     "text": [
      "(skip) exists: exports/videos/2024-08-20_13-39-34_video__image_compressed_image_data.mp4\n",
      "Wrote exports/videos/2024-08-20_13-39-34_video__ted_image.mp4 (1121 frames @ ~23.02 FPS).\n",
      "Wrote exports/videos/2024-08-20_13-40-35_video__image_compressed_image_data.mp4 (1184 frames @ ~22.53 FPS).\n",
      "Wrote exports/videos/2024-08-20_13-40-35_video__ted_image.mp4 (1187 frames @ ~22.76 FPS).\n",
      "Wrote exports/videos/2024-08-22_14-06-43_video__image_compressed_image_data.mp4 (945 frames @ ~22.70 FPS).\n",
      "Wrote exports/videos/2024-08-22_14-29-05_video__image_compressed_image_data.mp4 (1585 frames @ ~22.44 FPS).\n",
      "Wrote exports/videos/2024-08-22_14-47-39_video__image_compressed_image_data.mp4 (1157 frames @ ~22.54 FPS).\n",
      "\n",
      "Index written: exports/index_video_mp4.csv (7 rows).\n"
     ]
    },
    {
     "data": {
      "text/html": [
       "<div>\n",
       "<style scoped>\n",
       "    .dataframe tbody tr th:only-of-type {\n",
       "        vertical-align: middle;\n",
       "    }\n",
       "\n",
       "    .dataframe tbody tr th {\n",
       "        vertical-align: top;\n",
       "    }\n",
       "\n",
       "    .dataframe thead th {\n",
       "        text-align: right;\n",
       "    }\n",
       "</style>\n",
       "<table border=\"1\" class=\"dataframe\">\n",
       "  <thead>\n",
       "    <tr style=\"text-align: right;\">\n",
       "      <th></th>\n",
       "      <th>bag</th>\n",
       "      <th>topic</th>\n",
       "      <th>out_file</th>\n",
       "      <th>frames</th>\n",
       "      <th>fps</th>\n",
       "      <th>codec</th>\n",
       "      <th>skipped</th>\n",
       "    </tr>\n",
       "  </thead>\n",
       "  <tbody>\n",
       "    <tr>\n",
       "      <th>0</th>\n",
       "      <td>2024-08-20_13-39-34_video</td>\n",
       "      <td>/image/compressed_image/data</td>\n",
       "      <td>exports/videos/2024-08-20_13-39-34_video__imag...</td>\n",
       "      <td>NaN</td>\n",
       "      <td>NaN</td>\n",
       "      <td>mp4v</td>\n",
       "      <td>True</td>\n",
       "    </tr>\n",
       "    <tr>\n",
       "      <th>1</th>\n",
       "      <td>2024-08-20_13-39-34_video</td>\n",
       "      <td>/ted/image</td>\n",
       "      <td>exports/videos/2024-08-20_13-39-34_video__ted_...</td>\n",
       "      <td>1121.0</td>\n",
       "      <td>23.024879</td>\n",
       "      <td>mp4v</td>\n",
       "      <td>False</td>\n",
       "    </tr>\n",
       "    <tr>\n",
       "      <th>2</th>\n",
       "      <td>2024-08-20_13-40-35_video</td>\n",
       "      <td>/image/compressed_image/data</td>\n",
       "      <td>exports/videos/2024-08-20_13-40-35_video__imag...</td>\n",
       "      <td>1184.0</td>\n",
       "      <td>22.533909</td>\n",
       "      <td>mp4v</td>\n",
       "      <td>False</td>\n",
       "    </tr>\n",
       "    <tr>\n",
       "      <th>3</th>\n",
       "      <td>2024-08-20_13-40-35_video</td>\n",
       "      <td>/ted/image</td>\n",
       "      <td>exports/videos/2024-08-20_13-40-35_video__ted_...</td>\n",
       "      <td>1187.0</td>\n",
       "      <td>22.763212</td>\n",
       "      <td>mp4v</td>\n",
       "      <td>False</td>\n",
       "    </tr>\n",
       "    <tr>\n",
       "      <th>4</th>\n",
       "      <td>2024-08-22_14-06-43_video</td>\n",
       "      <td>/image/compressed_image/data</td>\n",
       "      <td>exports/videos/2024-08-22_14-06-43_video__imag...</td>\n",
       "      <td>945.0</td>\n",
       "      <td>22.703084</td>\n",
       "      <td>mp4v</td>\n",
       "      <td>False</td>\n",
       "    </tr>\n",
       "    <tr>\n",
       "      <th>5</th>\n",
       "      <td>2024-08-22_14-29-05_video</td>\n",
       "      <td>/image/compressed_image/data</td>\n",
       "      <td>exports/videos/2024-08-22_14-29-05_video__imag...</td>\n",
       "      <td>1585.0</td>\n",
       "      <td>22.436632</td>\n",
       "      <td>mp4v</td>\n",
       "      <td>False</td>\n",
       "    </tr>\n",
       "    <tr>\n",
       "      <th>6</th>\n",
       "      <td>2024-08-22_14-47-39_video</td>\n",
       "      <td>/image/compressed_image/data</td>\n",
       "      <td>exports/videos/2024-08-22_14-47-39_video__imag...</td>\n",
       "      <td>1157.0</td>\n",
       "      <td>22.536088</td>\n",
       "      <td>mp4v</td>\n",
       "      <td>False</td>\n",
       "    </tr>\n",
       "  </tbody>\n",
       "</table>\n",
       "</div>"
      ],
      "text/plain": [
       "                         bag                         topic  \\\n",
       "0  2024-08-20_13-39-34_video  /image/compressed_image/data   \n",
       "1  2024-08-20_13-39-34_video                    /ted/image   \n",
       "2  2024-08-20_13-40-35_video  /image/compressed_image/data   \n",
       "3  2024-08-20_13-40-35_video                    /ted/image   \n",
       "4  2024-08-22_14-06-43_video  /image/compressed_image/data   \n",
       "5  2024-08-22_14-29-05_video  /image/compressed_image/data   \n",
       "6  2024-08-22_14-47-39_video  /image/compressed_image/data   \n",
       "\n",
       "                                            out_file  frames        fps codec  \\\n",
       "0  exports/videos/2024-08-20_13-39-34_video__imag...     NaN        NaN  mp4v   \n",
       "1  exports/videos/2024-08-20_13-39-34_video__ted_...  1121.0  23.024879  mp4v   \n",
       "2  exports/videos/2024-08-20_13-40-35_video__imag...  1184.0  22.533909  mp4v   \n",
       "3  exports/videos/2024-08-20_13-40-35_video__ted_...  1187.0  22.763212  mp4v   \n",
       "4  exports/videos/2024-08-22_14-06-43_video__imag...   945.0  22.703084  mp4v   \n",
       "5  exports/videos/2024-08-22_14-29-05_video__imag...  1585.0  22.436632  mp4v   \n",
       "6  exports/videos/2024-08-22_14-47-39_video__imag...  1157.0  22.536088  mp4v   \n",
       "\n",
       "   skipped  \n",
       "0     True  \n",
       "1    False  \n",
       "2    False  \n",
       "3    False  \n",
       "4    False  \n",
       "5    False  \n",
       "6    False  "
      ]
     },
     "metadata": {},
     "output_type": "display_data"
    }
   ],
   "source": [
    "if bags:\n",
    "    idx_mp4 = export_all_video_bags_to_mp4(DATA_DIR, out_dir=EXPORTS_DIR, recursive=True)\n",
    "    display(idx_mp4.head(20))\n",
    "else:\n",
    "    print(\"No video bags found.\")\n"
   ]
  },
  {
   "cell_type": "markdown",
   "id": "b23152a1",
   "metadata": {},
   "source": [
    "## Export PNG frame sequences"
   ]
  },
  {
   "cell_type": "code",
   "execution_count": 8,
   "id": "07c2a7dd",
   "metadata": {},
   "outputs": [
    {
     "name": "stdout",
     "output_type": "stream",
     "text": [
      "Wrote 225 PNGs to exports/frames/2024-08-20_13-39-34_video__image_compressed_image_data with index: exports/frames/2024-08-20_13-39-34_video__image_compressed_image_data/index.csv\n",
      "Wrote 225 PNGs to exports/frames/2024-08-20_13-39-34_video__image_compressed_image_data.\n",
      "Wrote 225 PNGs to exports/frames/2024-08-20_13-39-34_video__ted_image with index: exports/frames/2024-08-20_13-39-34_video__ted_image/index.csv\n",
      "Wrote 225 PNGs to exports/frames/2024-08-20_13-39-34_video__ted_image.\n",
      "Wrote 237 PNGs to exports/frames/2024-08-20_13-40-35_video__image_compressed_image_data with index: exports/frames/2024-08-20_13-40-35_video__image_compressed_image_data/index.csv\n",
      "Wrote 237 PNGs to exports/frames/2024-08-20_13-40-35_video__image_compressed_image_data.\n",
      "Wrote 238 PNGs to exports/frames/2024-08-20_13-40-35_video__ted_image with index: exports/frames/2024-08-20_13-40-35_video__ted_image/index.csv\n",
      "Wrote 238 PNGs to exports/frames/2024-08-20_13-40-35_video__ted_image.\n",
      "Wrote 189 PNGs to exports/frames/2024-08-22_14-06-43_video__image_compressed_image_data with index: exports/frames/2024-08-22_14-06-43_video__image_compressed_image_data/index.csv\n",
      "Wrote 189 PNGs to exports/frames/2024-08-22_14-06-43_video__image_compressed_image_data.\n",
      "Wrote 317 PNGs to exports/frames/2024-08-22_14-29-05_video__image_compressed_image_data with index: exports/frames/2024-08-22_14-29-05_video__image_compressed_image_data/index.csv\n",
      "Wrote 317 PNGs to exports/frames/2024-08-22_14-29-05_video__image_compressed_image_data.\n",
      "Wrote 232 PNGs to exports/frames/2024-08-22_14-47-39_video__image_compressed_image_data with index: exports/frames/2024-08-22_14-47-39_video__image_compressed_image_data/index.csv\n",
      "Wrote 232 PNGs to exports/frames/2024-08-22_14-47-39_video__image_compressed_image_data.\n",
      "\n",
      "Index written: exports/index_video_png.csv (7 rows).\n"
     ]
    },
    {
     "data": {
      "text/html": [
       "<div>\n",
       "<style scoped>\n",
       "    .dataframe tbody tr th:only-of-type {\n",
       "        vertical-align: middle;\n",
       "    }\n",
       "\n",
       "    .dataframe tbody tr th {\n",
       "        vertical-align: top;\n",
       "    }\n",
       "\n",
       "    .dataframe thead th {\n",
       "        text-align: right;\n",
       "    }\n",
       "</style>\n",
       "<table border=\"1\" class=\"dataframe\">\n",
       "  <thead>\n",
       "    <tr style=\"text-align: right;\">\n",
       "      <th></th>\n",
       "      <th>bag</th>\n",
       "      <th>topic</th>\n",
       "      <th>out_dir</th>\n",
       "      <th>frames</th>\n",
       "      <th>skipped</th>\n",
       "    </tr>\n",
       "  </thead>\n",
       "  <tbody>\n",
       "    <tr>\n",
       "      <th>0</th>\n",
       "      <td>2024-08-20_13-39-34_video</td>\n",
       "      <td>/image/compressed_image/data</td>\n",
       "      <td>exports/frames/2024-08-20_13-39-34_video__imag...</td>\n",
       "      <td>225</td>\n",
       "      <td>False</td>\n",
       "    </tr>\n",
       "    <tr>\n",
       "      <th>1</th>\n",
       "      <td>2024-08-20_13-39-34_video</td>\n",
       "      <td>/ted/image</td>\n",
       "      <td>exports/frames/2024-08-20_13-39-34_video__ted_...</td>\n",
       "      <td>225</td>\n",
       "      <td>False</td>\n",
       "    </tr>\n",
       "    <tr>\n",
       "      <th>2</th>\n",
       "      <td>2024-08-20_13-40-35_video</td>\n",
       "      <td>/image/compressed_image/data</td>\n",
       "      <td>exports/frames/2024-08-20_13-40-35_video__imag...</td>\n",
       "      <td>237</td>\n",
       "      <td>False</td>\n",
       "    </tr>\n",
       "    <tr>\n",
       "      <th>3</th>\n",
       "      <td>2024-08-20_13-40-35_video</td>\n",
       "      <td>/ted/image</td>\n",
       "      <td>exports/frames/2024-08-20_13-40-35_video__ted_...</td>\n",
       "      <td>238</td>\n",
       "      <td>False</td>\n",
       "    </tr>\n",
       "    <tr>\n",
       "      <th>4</th>\n",
       "      <td>2024-08-22_14-06-43_video</td>\n",
       "      <td>/image/compressed_image/data</td>\n",
       "      <td>exports/frames/2024-08-22_14-06-43_video__imag...</td>\n",
       "      <td>189</td>\n",
       "      <td>False</td>\n",
       "    </tr>\n",
       "    <tr>\n",
       "      <th>5</th>\n",
       "      <td>2024-08-22_14-29-05_video</td>\n",
       "      <td>/image/compressed_image/data</td>\n",
       "      <td>exports/frames/2024-08-22_14-29-05_video__imag...</td>\n",
       "      <td>317</td>\n",
       "      <td>False</td>\n",
       "    </tr>\n",
       "    <tr>\n",
       "      <th>6</th>\n",
       "      <td>2024-08-22_14-47-39_video</td>\n",
       "      <td>/image/compressed_image/data</td>\n",
       "      <td>exports/frames/2024-08-22_14-47-39_video__imag...</td>\n",
       "      <td>232</td>\n",
       "      <td>False</td>\n",
       "    </tr>\n",
       "  </tbody>\n",
       "</table>\n",
       "</div>"
      ],
      "text/plain": [
       "                         bag                         topic  \\\n",
       "0  2024-08-20_13-39-34_video  /image/compressed_image/data   \n",
       "1  2024-08-20_13-39-34_video                    /ted/image   \n",
       "2  2024-08-20_13-40-35_video  /image/compressed_image/data   \n",
       "3  2024-08-20_13-40-35_video                    /ted/image   \n",
       "4  2024-08-22_14-06-43_video  /image/compressed_image/data   \n",
       "5  2024-08-22_14-29-05_video  /image/compressed_image/data   \n",
       "6  2024-08-22_14-47-39_video  /image/compressed_image/data   \n",
       "\n",
       "                                             out_dir  frames  skipped  \n",
       "0  exports/frames/2024-08-20_13-39-34_video__imag...     225    False  \n",
       "1  exports/frames/2024-08-20_13-39-34_video__ted_...     225    False  \n",
       "2  exports/frames/2024-08-20_13-40-35_video__imag...     237    False  \n",
       "3  exports/frames/2024-08-20_13-40-35_video__ted_...     238    False  \n",
       "4  exports/frames/2024-08-22_14-06-43_video__imag...     189    False  \n",
       "5  exports/frames/2024-08-22_14-29-05_video__imag...     317    False  \n",
       "6  exports/frames/2024-08-22_14-47-39_video__imag...     232    False  "
      ]
     },
     "metadata": {},
     "output_type": "display_data"
    }
   ],
   "source": [
    "if bags:\n",
    "    idx_png = export_all_video_bags_to_png(\n",
    "        DATA_DIR, out_dir=EXPORTS_DIR, recursive=True,\n",
    "        stride=5, limit=None, resize_to=None\n",
    "    )\n",
    "    display(idx_png.head(20))\n",
    "else:\n",
    "    print(\"No video bags found.\")\n"
   ]
  }
 ],
 "metadata": {
  "kernelspec": {
   "display_name": "venv",
   "language": "python",
   "name": "python3"
  },
  "language_info": {
   "codemirror_mode": {
    "name": "ipython",
    "version": 3
   },
   "file_extension": ".py",
   "mimetype": "text/x-python",
   "name": "python",
   "nbconvert_exporter": "python",
   "pygments_lexer": "ipython3",
   "version": "3.13.5"
  }
 },
 "nbformat": 4,
 "nbformat_minor": 5
}
