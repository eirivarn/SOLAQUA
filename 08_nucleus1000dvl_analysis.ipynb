{
 "cells": [
  {
   "cell_type": "code",
   "execution_count": 1,
   "id": "17613ddf",
   "metadata": {},
   "outputs": [
    {
     "name": "stdout",
     "output_type": "stream",
     "text": [
      "✅ Libraries imported successfully!\n",
      "📊 Enhanced visualization: Seaborn=True, Plotly=True\n"
     ]
    }
   ],
   "source": [
    "# 🔧 IMPORT REQUIRED LIBRARIES\n",
    "# ============================\n",
    "\n",
    "# Core data analysis\n",
    "import pandas as pd\n",
    "import numpy as np\n",
    "from pathlib import Path\n",
    "import warnings\n",
    "from datetime import datetime\n",
    "\n",
    "# Visualization libraries\n",
    "import matplotlib.pyplot as plt\n",
    "import matplotlib.dates as mdates\n",
    "from matplotlib.gridspec import GridSpec\n",
    "\n",
    "# Enhanced plotting (optional - graceful fallback if not available)\n",
    "try:\n",
    "    import seaborn as sns\n",
    "    sns.set_style(\"whitegrid\")\n",
    "    HAS_SEABORN = True\n",
    "except ImportError:\n",
    "    HAS_SEABORN = False\n",
    "    print(\"📦 Seaborn not available - using matplotlib defaults\")\n",
    "\n",
    "try:\n",
    "    import plotly.graph_objects as go\n",
    "    import plotly.express as px\n",
    "    from plotly.subplots import make_subplots\n",
    "    import plotly.offline as pyo\n",
    "    HAS_PLOTLY = True\n",
    "except ImportError:\n",
    "    HAS_PLOTLY = False\n",
    "    print(\"📦 Plotly not available - using matplotlib only\")\n",
    "\n",
    "# Custom utilities\n",
    "import utils.nucleus1000dvl_analysis as dvl_utils\n",
    "\n",
    "# Configuration\n",
    "warnings.filterwarnings('ignore', category=FutureWarning)\n",
    "plt.rcParams['figure.figsize'] = (12, 8)\n",
    "plt.rcParams['font.size'] = 10\n",
    "\n",
    "print(\"✅ Libraries imported successfully!\")\n",
    "print(f\"📊 Enhanced visualization: Seaborn={HAS_SEABORN}, Plotly={HAS_PLOTLY}\")\n"
   ]
  },
  {
   "cell_type": "code",
   "execution_count": 2,
   "id": "6e03211a",
   "metadata": {},
   "outputs": [
    {
     "name": "stdout",
     "output_type": "stream",
     "text": [
      "⚙️  Configuration loaded:\n",
      "   📂 Data folder: exports/by_bag\n",
      "   🎨 Plot style: interactive\n",
      "   📅 Bag selection: All bags\n",
      "   🔧 Sensor selection: All sensors\n",
      "   💾 Export summary: True\n",
      "   📊 Export plots: False\n"
     ]
    }
   ],
   "source": [
    "# 🔍 CONFIGURATION PARAMETERS\n",
    "# ===========================\n",
    "# Modify these parameters to customize the analysis\n",
    "\n",
    "# Data source configuration\n",
    "BY_BAG_FOLDER = \"exports/by_bag\"  # Path to CSV files\n",
    "\n",
    "# Visualization preferences\n",
    "PLOT_STYLE = \"interactive\" if HAS_PLOTLY else \"static\"  # 'interactive' or 'static'\n",
    "FIGURE_SIZE = (12, 8)  # Default figure size for matplotlib\n",
    "COLOR_PALETTE = \"Set1\"  # Color palette for plots\n",
    "\n",
    "# Analysis parameters  \n",
    "BAG_SELECTION = None  # None for all bags, or specify like \"2024-08-22_14-06-43\"\n",
    "SENSOR_SELECTION = None  # None for all sensors, or specify like [\"bottomtrack\", \"ins\"]\n",
    "\n",
    "# Export settings\n",
    "EXPORT_SUMMARY = True  # Export data summary to CSV\n",
    "EXPORT_PLOTS = False   # Save plots to files\n",
    "OUTPUT_FOLDER = \"exports/outputs\"  # Output folder for exports\n",
    "\n",
    "print(\"⚙️  Configuration loaded:\")\n",
    "print(f\"   📂 Data folder: {BY_BAG_FOLDER}\")\n",
    "print(f\"   🎨 Plot style: {PLOT_STYLE}\")\n",
    "print(f\"   📅 Bag selection: {BAG_SELECTION or 'All bags'}\")\n",
    "print(f\"   🔧 Sensor selection: {SENSOR_SELECTION or 'All sensors'}\")\n",
    "print(f\"   💾 Export summary: {EXPORT_SUMMARY}\")\n",
    "print(f\"   📊 Export plots: {EXPORT_PLOTS}\")"
   ]
  },
  {
   "cell_type": "code",
   "execution_count": 3,
   "id": "e697be8f",
   "metadata": {},
   "outputs": [
    {
     "name": "stdout",
     "output_type": "stream",
     "text": [
      "🔍 Discovering Nucleus1000DVL data files...\n",
      "🔍 Found DVL data:\n",
      "   📅 Bags: 3\n",
      "   📊 Sensors: 6\n",
      "   Sensors: altimeter, bottomtrack, imu, ins, magnetometer, watertrack\n",
      "\n",
      "📋 Data Discovery Summary:\n",
      "   📅 Available bags: 3\n",
      "   🔧 Available sensors: 6\n",
      "\n",
      "📅 Bags found:\n",
      "   • 2024-08-22_14-06-43\n",
      "   • 2024-08-22_14-29-05\n",
      "   • 2024-08-22_14-47-39\n",
      "\n",
      "🔧 Sensors found:\n",
      "   • altimeter\n",
      "   • bottomtrack\n",
      "   • imu\n",
      "   • ins\n",
      "   • magnetometer\n",
      "   • watertrack\n",
      "\n",
      "📊 Detailed data summary:\n",
      "📊 Nucleus1000DVL Data Summary\n",
      "========================================\n",
      "\n",
      "🔧 ALTIMETER:\n",
      "   📅 2024-08-22_14-06-43: 17 samples, 0.6 min\n",
      "   📅 2024-08-22_14-29-05: 31 samples, 1.0 min\n",
      "   📅 2024-08-22_14-47-39: 20 samples, 0.7 min\n",
      "\n",
      "🔧 BOTTOMTRACK:\n",
      "   📅 2024-08-22_14-06-43: 52 samples, 0.6 min\n",
      "   📅 2024-08-22_14-29-05: 81 samples, 1.0 min\n",
      "   📅 2024-08-22_14-47-39: 62 samples, 0.7 min\n",
      "\n",
      "🔧 IMU:\n",
      "   📅 2024-08-22_14-06-43: 3580 samples, 0.6 min\n",
      "   📅 2024-08-22_14-29-05: 6034 samples, 1.0 min\n",
      "   📅 2024-08-22_14-47-39: 4400 samples, 0.7 min\n",
      "\n",
      "🔧 INS:\n",
      "   📅 2024-08-22_14-06-43: 366 samples, 0.6 min\n",
      "   📅 2024-08-22_14-29-05: 562 samples, 1.0 min\n",
      "   📅 2024-08-22_14-47-39: 402 samples, 0.7 min\n",
      "\n",
      "🔧 MAGNETOMETER:\n",
      "   📅 2024-08-22_14-06-43: 2039 samples, 0.6 min\n",
      "   📅 2024-08-22_14-29-05: 3297 samples, 1.0 min\n",
      "   📅 2024-08-22_14-47-39: 1999 samples, 0.7 min\n",
      "\n",
      "🔧 WATERTRACK:\n",
      "   📅 2024-08-22_14-06-43: 53 samples, 0.6 min\n",
      "   📅 2024-08-22_14-29-05: 79 samples, 0.9 min\n",
      "   📅 2024-08-22_14-47-39: No data\n"
     ]
    }
   ],
   "source": [
    "# 🔍 FILE DISCOVERY AND DATA LOADING\n",
    "# ==================================\n",
    "\n",
    "print(\"🔍 Discovering Nucleus1000DVL data files...\")\n",
    "\n",
    "# Initialize the analyzer\n",
    "analyzer = dvl_utils.Nucleus1000DVLAnalyzer(BY_BAG_FOLDER)\n",
    "\n",
    "print(f\"\\n📋 Data Discovery Summary:\")\n",
    "print(f\"   📅 Available bags: {len(analyzer.available_bags)}\")\n",
    "print(f\"   🔧 Available sensors: {len(analyzer.available_sensors)}\")\n",
    "\n",
    "if analyzer.available_bags:\n",
    "    print(f\"\\n📅 Bags found:\")\n",
    "    for bag in analyzer.available_bags:\n",
    "        print(f\"   • {bag}\")\n",
    "\n",
    "if analyzer.available_sensors:\n",
    "    print(f\"\\n🔧 Sensors found:\")\n",
    "    for sensor in analyzer.available_sensors:\n",
    "        print(f\"   • {sensor}\")\n",
    "\n",
    "# Get detailed summary\n",
    "print(f\"\\n📊 Detailed data summary:\")\n",
    "analyzer.get_summary()"
   ]
  },
  {
   "cell_type": "code",
   "execution_count": 4,
   "id": "a04578e6",
   "metadata": {},
   "outputs": [
    {
     "name": "stdout",
     "output_type": "stream",
     "text": [
      "📊 Exploring data structure and content...\n",
      "📅 Auto-selected bag: 2024-08-22_14-06-43\n",
      "\n",
      "🔍 Exploring bag: 2024-08-22_14-06-43\n",
      "\n",
      "🔧 ALTIMETER Data:\n",
      "   📏 Shape: (17, 21)\n",
      "   ⏱️  Duration: 0.6 minutes\n",
      "   📊 Sample rate: 0.5 Hz\n",
      "   🔑 Key data preview:\n",
      "      altimeter_distance: 0.071 ± 0.294\n",
      "      altimeter_quality: 15793.118 ± 345.703\n",
      "\n",
      "🔧 BOTTOMTRACK Data:\n",
      "   📏 Shape: (52, 35)\n",
      "   ⏱️  Duration: 0.6 minutes\n",
      "   📊 Sample rate: 1.5 Hz\n",
      "   🔑 Key data preview:\n",
      "      dvl_velocity_xyz.x: -3.016 ± 9.799\n",
      "      dvl_velocity_xyz.y: -3.167 ± 9.749\n",
      "      dvl_velocity_xyz.z: -3.141 ± 9.758\n",
      "\n",
      "🔧 IMU Data:\n",
      "   📏 Shape: (3580, 24)\n",
      "   ⏱️  Duration: 0.6 minutes\n",
      "   📊 Sample rate: 95.5 Hz\n",
      "\n",
      "🔧 INS Data:\n",
      "   📏 Shape: (366, 50)\n",
      "   ⏱️  Duration: 0.6 minutes\n",
      "   📊 Sample rate: 9.6 Hz\n",
      "   🔑 Key data preview:\n",
      "      positionFrame.x: 4.422 ± 1.479\n",
      "      positionFrame.y: 10.345 ± 0.890\n",
      "      velocityNed.x: 0.118 ± 0.070\n",
      "\n",
      "🔧 MAGNETOMETER Data:\n",
      "   📏 Shape: (2039, 20)\n",
      "   ⏱️  Duration: 0.6 minutes\n",
      "   📊 Sample rate: 55.5 Hz\n",
      "\n",
      "🔧 WATERTRACK Data:\n",
      "   📏 Shape: (53, 35)\n",
      "   ⏱️  Duration: 0.6 minutes\n",
      "   📊 Sample rate: 1.5 Hz\n",
      "\n",
      "✅ Data exploration complete!\n"
     ]
    }
   ],
   "source": [
    "# 📊 BASIC DATA EXPLORATION\n",
    "# =========================\n",
    "\n",
    "print(\"📊 Exploring data structure and content...\")\n",
    "\n",
    "# Select bag for detailed exploration\n",
    "if BAG_SELECTION and BAG_SELECTION in analyzer.available_bags:\n",
    "    selected_bag = BAG_SELECTION\n",
    "elif analyzer.available_bags:\n",
    "    selected_bag = analyzer.available_bags[0]  # Use first available bag\n",
    "    print(f\"📅 Auto-selected bag: {selected_bag}\")\n",
    "else:\n",
    "    print(\"❌ No bags available for analysis\")\n",
    "    selected_bag = None\n",
    "\n",
    "if selected_bag:\n",
    "    print(f\"\\n🔍 Exploring bag: {selected_bag}\")\n",
    "    \n",
    "    # Load and explore each sensor type\n",
    "    for sensor in analyzer.available_sensors:\n",
    "        print(f\"\\n🔧 {sensor.upper()} Data:\")\n",
    "        \n",
    "        data = analyzer.load_sensor_data(sensor, selected_bag, verbose=False)\n",
    "        \n",
    "        if data is not None and len(data) > 0:\n",
    "            print(f\"   📏 Shape: {data.shape}\")\n",
    "            print(f\"   ⏱️  Duration: {data['t_rel'].max()/60:.1f} minutes\")\n",
    "            print(f\"   📊 Sample rate: {len(data)/(data['t_rel'].max()):.1f} Hz\")\n",
    "            \n",
    "            # Show key columns\n",
    "            key_cols = []\n",
    "            if sensor == 'bottomtrack':\n",
    "                key_cols = ['dvl_velocity_xyz.x', 'dvl_velocity_xyz.y', 'dvl_velocity_xyz.z', 'data_valid']\n",
    "            elif sensor == 'ins':\n",
    "                key_cols = ['positionFrame.x', 'positionFrame.y', 'velocityNed.x', 'velocityNed.y']\n",
    "            elif sensor == 'altimeter':\n",
    "                key_cols = ['altimeter_distance', 'altimeter_quality']\n",
    "            elif sensor == 'imu':\n",
    "                key_cols = ['linear_acceleration.x', 'angular_velocity.z']\n",
    "            \n",
    "            available_key_cols = [col for col in key_cols if col in data.columns]\n",
    "            if available_key_cols:\n",
    "                print(f\"   🔑 Key data preview:\")\n",
    "                for col in available_key_cols[:3]:  # Show first 3 key columns\n",
    "                    if data[col].dtype in ['float64', 'int64']:\n",
    "                        print(f\"      {col}: {data[col].mean():.3f} ± {data[col].std():.3f}\")\n",
    "        else:\n",
    "            print(f\"   ❌ No data available\")\n",
    "\n",
    "print(f\"\\n✅ Data exploration complete!\")\n"
   ]
  },
  {
   "cell_type": "code",
   "execution_count": 5,
   "id": "4e730457",
   "metadata": {},
   "outputs": [
    {
     "name": "stdout",
     "output_type": "stream",
     "text": [
      "🚀 Creating bottom track velocity visualizations...\n",
      "📊 Plotting bottom track velocity for all bags\n"
     ]
    },
    {
     "data": {
      "application/vnd.plotly.v1+json": {
       "config": {
        "plotlyServerURL": "https://plot.ly"
       },
       "data": [
        {
         "legendgroup": "2024-08-22_14-06-43",
         "line": {
          "color": "rgb(228,26,28)"
         },
         "name": "2024-08-22_14-06-43 - X",
         "type": "scatter",
         "x": {
          "bdata": "EREREYGCkD/v7u7uhpGYPxERERFtGaA/VVVVVVcMqD/e3d3d+/+rP+7u7u6I7a8/IiIiIjbKsz+amZmZP9G1P83MzMwyx7c/vLu7u8g5vz8iIiKiwp/APwAAAADJmcE/MzMzs5Sfwz/v7u5uLpLEP2dmZub/jMU/7+7ubqSTxz+8u7s7rS7JP+/u7m6dfMo/3t3d3cCDzD+rqqqqiFzNPwAAAIBCXs4/vLu7e8s10D+amZnZw7fQPzMzM7PENNE/AAAAwMdA0j93d3d327nSP1VVVdXaLtM/zczMjNlB1D9VVVXVQMPUP6uqquqdSNU/IyIiIs221z/e3d2dW0HYPwAAAEC1wtg/zczMjDTk2D/NzMzMcmXZP83MzMwi69k/mpmZWUD72j+bmZlZsu3bP3d3d3c/c90/VVVV1Z3w3T9mZmYmBe/eP2ZmZqYAjd8/3t3dPQTS4D+JiIhICQ/hP6uqqiqQmuE/ERERsZlo4j9mZmYmHqniPw==",
          "dtype": "f8"
         },
         "xaxis": "x",
         "y": {
          "bdata": "/v//30G7zj////+/hZ7LP////x/9mso/////f40j0D/+////RW/KP////9+b2sA/AAAAYIoRzD/9//9/u2PKP/3//z+v1sk//////5cQyz////+/xE7PPwAAAIAQXcg/////f5OPzD8AAAAADFnHP////7/W2Mg/////3yNixD/+////+oLIPwAAAOBnN8g//f//nwLCyT////+ffwbNP/7//z/W38g/AAAAwDSoyj/+//8f/6nHP/3//x/qdMk/AAAAoO++xj8AAABA/obEP/7//3/yHso/////3yePzD/+//8fAw3IPwAAAMD/4sk/AAAAQBoLyD////8f5aPAPwAAAOC6Lbk/+////zFksD/+////xVmmP/z//3/hSqw/4v//X3nQjj////9/eZasPwAAAABNgak/9f//3wnylz/p//9f//CYP/7//3/2Yac/+v//H2IVoj/7//8fCaOsP+7//x/F4Z4/8///3wRRnj/z//+/s5yjPw==",
          "dtype": "f8"
         },
         "yaxis": "y"
        },
        {
         "legendgroup": "2024-08-22_14-06-43",
         "line": {
          "color": "rgb(228,26,28)",
          "dash": "dash"
         },
         "name": "2024-08-22_14-06-43 - Y",
         "type": "scatter",
         "x": {
          "bdata": "EREREYGCkD/v7u7uhpGYPxERERFtGaA/VVVVVVcMqD/e3d3d+/+rP+7u7u6I7a8/IiIiIjbKsz+amZmZP9G1P83MzMwyx7c/vLu7u8g5vz8iIiKiwp/APwAAAADJmcE/MzMzs5Sfwz/v7u5uLpLEP2dmZub/jMU/7+7ubqSTxz+8u7s7rS7JP+/u7m6dfMo/3t3d3cCDzD+rqqqqiFzNPwAAAIBCXs4/vLu7e8s10D+amZnZw7fQPzMzM7PENNE/AAAAwMdA0j93d3d327nSP1VVVdXaLtM/zczMjNlB1D9VVVXVQMPUP6uqquqdSNU/IyIiIs221z/e3d2dW0HYPwAAAEC1wtg/zczMjDTk2D/NzMzMcmXZP83MzMwi69k/mpmZWUD72j+bmZlZsu3bP3d3d3c/c90/VVVV1Z3w3T9mZmYmBe/eP2ZmZqYAjd8/3t3dPQTS4D+JiIhICQ/hP6uqqiqQmuE/ERERsZlo4j9mZmYmHqniPw==",
          "dtype": "f8"
         },
         "xaxis": "x2",
         "y": {
          "bdata": "+P//v1wupL/z///fSaqmP/X//z/dHKg//f//P3Qzsb/m//9/vBqRP/3//7+MhaQ/9P//36O4r7/m//8/Go6JP/j//99kRJc/7f//Xyp7k78n////qShmv/f//1/KqY0//v//fy/ooL/w//8/E2efP+X//18Z7JC/////vwMdmz81+v8/Zms1P7P//9/s03S//v//38XTnD/q//9/dchyP+///9+cV52/+P//fwdDlD/z//9fIRiHP9r//58jAIS/8f//nwdCkD/6//9f7LGHv8///19W6oi/8f//n40vcr/e//8/1E12v+7//1/dJ4O/6P7/Py1mRz/8//+f/SmqvwAAAIDbhrS/n///v1tweT////9/sjiRPwAAAGBl56e/SP3//+AoQj/1////AQaov/v//7/c9rG/6f//H3GZkr/8//9f9aGtv/v//58dk7e//P//ny6esr/6//9fp7a0v/r//789lrG/+f//H47Oq7/8////0Hu8vw==",
          "dtype": "f8"
         },
         "yaxis": "y2"
        },
        {
         "legendgroup": "2024-08-22_14-06-43",
         "line": {
          "color": "rgb(228,26,28)",
          "dash": "dot"
         },
         "name": "2024-08-22_14-06-43 - Z",
         "type": "scatter",
         "x": {
          "bdata": "EREREYGCkD/v7u7uhpGYPxERERFtGaA/VVVVVVcMqD/e3d3d+/+rP+7u7u6I7a8/IiIiIjbKsz+amZmZP9G1P83MzMwyx7c/vLu7u8g5vz8iIiKiwp/APwAAAADJmcE/MzMzs5Sfwz/v7u5uLpLEP2dmZub/jMU/7+7ubqSTxz+8u7s7rS7JP+/u7m6dfMo/3t3d3cCDzD+rqqqqiFzNPwAAAIBCXs4/vLu7e8s10D+amZnZw7fQPzMzM7PENNE/AAAAwMdA0j93d3d327nSP1VVVdXaLtM/zczMjNlB1D9VVVXVQMPUP6uqquqdSNU/IyIiIs221z/e3d2dW0HYPwAAAEC1wtg/zczMjDTk2D/NzMzMcmXZP83MzMwi69k/mpmZWUD72j+bmZlZsu3bP3d3d3c/c90/VVVV1Z3w3T9mZmYmBe/eP2ZmZqYAjd8/3t3dPQTS4D+JiIhICQ/hP6uqqiqQmuE/ERERsZlo4j9mZmYmHqniPw==",
          "dtype": "f8"
         },
         "xaxis": "x3",
         "y": {
          "bdata": "/P//37jJvL/t////bs6AP/j//59Au68/AAAAwP/Aub/l//9fGRiXv/z//9/AkrE//P//39BEsL/5//9/FMyqP/P//9+WS6M/3///P7TVfD/d//9fKaWJP////19EnbM/8v//n8+For8AAACg49y1P/v//5/MHaC/+///fx0XuD/T//+/O7mBv/n//98oT64//v//38X2sj/0////ObyeP/T//98RWqI/////P+NeoT/7//+fITugP+H//7/F0YM/+P//35m1kj/9////IqGFv8j+/38nrVM/2v//P85MjT/4//8/IM2Fv+T//5/DDpm/9v//fw6Vq7/+//8/zpG6v/7//1+VHbO/7P//Xylbjj/2//+fCkKoP////1847Ko/////fzjSnj////9fOKycPwAAAABJ2qo//v//n7Foqj/S//8fuVZ3P/j//98bvoE/2v//H53ufj/t//9f/X+LP/L//9+mfZg/4///X2G6ij/6//8fbu6RPw==",
          "dtype": "f8"
         },
         "yaxis": "y3"
        },
        {
         "legendgroup": "2024-08-22_14-29-05",
         "line": {
          "color": "rgb(55,126,184)"
         },
         "name": "2024-08-22_14-29-05 - X",
         "type": "scatter",
         "x": {
          "bdata": "AAAAAAAAAADMzMzM/BR/P+/u7u7GKI4/EhEREZ1+nz+amZmZl56jP6uqqqqAYac/ISIiIrhzrz93d3d3aO2xP4mIiIgnZbQ/EREREZGxuD9VVVVVUrK7P3d3d3d9o70/3t3dXZ+8wD8AAACAMq7BP2ZmZmb+rsI/////f3msxT8zMzMzeJ/GPzIzMzOQmsc/ERERETXzyT8jIiKiYzrMP0RERMSAfM4/VVVVFR0b0D8iIiLi3JfQP1VVVRVMjdE/q6qqaocT0j8AAADAteDTP7y7uzss8NQ/7+7uboT/1T8RERFR0oPWP7y7u/uw/dc/mpmZ2Vt+2D+KiIgIkf/YP+/u7u4tBto/m5mZ2ZWL2j/NzMyMLBHbPzIzMzNiC9w/EBERkTKI3D+rqqpqkhXdP+/u7q6YC94/zczMTLCE3j9VVVVVHgrfPyIiIoL9BeA/3d3dfZBE4D9mZmaG8YLgP5qZmTnSA+E/REREBL2P4T8AAADgLM7hP1VVVTVojeI/zczMLE4E4z+JiIiIGYHjP83MzGzIw+M/zczMjN8K5D+rqqoK74nkPyIiIoL6xeQ/7+7uzgt35T+rqqrq/C3mP2dmZoaXqeY/EREREQzm5j8zMzNThCbnP6uqqmq0q+c/7+7ujs/n5z/NzMzsgSjoPzMzM/OTqeg/REREpHPs6D8zMzOzJy3pP+/u7q7sp+k/q6qqKnno6T93d3dX6CjqP1VVVZXrpeo/vLu7Wy7k6j8iIiKCL53rP1VVVXXzD+w/vLu7u5JU7D+rqqqqFJPsPyIiIqLgL+0/vLu7m/dW7T9VVVX1GZftP0RERARDFu4/IiIiIohS7j8RERGRMZHuPw==",
          "dtype": "f8"
         },
         "xaxis": "x",
         "y": {
          "bdata": "+f//3ySCtT/7////eq+vP/n//x9+wqo/AAAAQARLtj/0//8/sKmsP/P//9+O0ao/+v//H6s5vD/8//9f8YW4P/n//x8xarQ//v//X1zpsj/7//+fo0m/P////99Ku8Q/7f///+SfnT8AAACAZQC2P////78Pqb8/+v//PykUtz/9////KuS/P/v//3+DI78/+///n05Utz/8//9/Pkq9P/3//x9kWbw/////v8K7uz////+fzkq5P/7//9/JGrc/////n4kavz/7//+/1M+7PwAAAGCWx7I/+///f179tz/8//8fX++3P/3///9lqsA/////P+t8vD////+/D566PwAAAMA8x7c//v//P8pUuT/9//9/kAK1P/3//78OBL0//f//318SvD/9////mGizP/r//3/DxLs//P//n/0luj/7//9fxKOxP/7//58jrLI/+///35tIuj/9///fMj27P/T//z8uW6s//f//391ptD8AAACApsK4P/7//18fYbw/+v//P5cKuz/7//+/LSu7P/////+d/r0/////n9ICwz/9//+/oAe4P/7////JFb8/+///H0YQvz8AAAAABvbDPwAAAAAQRLc//f//f1d2sj/8///fNlC9PwAAACC3Xbk/AAAAgM8nvD8AAACAVZO4P/7//990AL4//v//X3C+vj////+/F/63P/3//x+xR7s/+v//P+Tguz/9//9fM8K1P/7//x/eGL4/AAAAgFG0vz/+//8fA9a3P/z//5/EebY//f//n5AKuT/+///fzcm3PwAAAGDHxrQ/AAAAQAA7tj//////odu1P/v//x9ryL8/8v//v5YFqT/4////TNCYPw==",
          "dtype": "f8"
         },
         "yaxis": "y"
        },
        {
         "legendgroup": "2024-08-22_14-29-05",
         "line": {
          "color": "rgb(55,126,184)",
          "dash": "dash"
         },
         "name": "2024-08-22_14-29-05 - Y",
         "type": "scatter",
         "x": {
          "bdata": "AAAAAAAAAADMzMzM/BR/P+/u7u7GKI4/EhEREZ1+nz+amZmZl56jP6uqqqqAYac/ISIiIrhzrz93d3d3aO2xP4mIiIgnZbQ/EREREZGxuD9VVVVVUrK7P3d3d3d9o70/3t3dXZ+8wD8AAACAMq7BP2ZmZmb+rsI/////f3msxT8zMzMzeJ/GPzIzMzOQmsc/ERERETXzyT8jIiKiYzrMP0RERMSAfM4/VVVVFR0b0D8iIiLi3JfQP1VVVRVMjdE/q6qqaocT0j8AAADAteDTP7y7uzss8NQ/7+7uboT/1T8RERFR0oPWP7y7u/uw/dc/mpmZ2Vt+2D+KiIgIkf/YP+/u7u4tBto/m5mZ2ZWL2j/NzMyMLBHbPzIzMzNiC9w/EBERkTKI3D+rqqpqkhXdP+/u7q6YC94/zczMTLCE3j9VVVVVHgrfPyIiIoL9BeA/3d3dfZBE4D9mZmaG8YLgP5qZmTnSA+E/REREBL2P4T8AAADgLM7hP1VVVTVojeI/zczMLE4E4z+JiIiIGYHjP83MzGzIw+M/zczMjN8K5D+rqqoK74nkPyIiIoL6xeQ/7+7uzgt35T+rqqrq/C3mP2dmZoaXqeY/EREREQzm5j8zMzNThCbnP6uqqmq0q+c/7+7ujs/n5z/NzMzsgSjoPzMzM/OTqeg/REREpHPs6D8zMzOzJy3pP+/u7q7sp+k/q6qqKnno6T93d3dX6CjqP1VVVZXrpeo/vLu7Wy7k6j8iIiKCL53rP1VVVXXzD+w/vLu7u5JU7D+rqqqqFJPsPyIiIqLgL+0/vLu7m/dW7T9VVVX1GZftP0RERARDFu4/IiIiIohS7j8RERGRMZHuPw==",
          "dtype": "f8"
         },
         "xaxis": "x2",
         "y": {
          "bdata": "/v///ztPob/n//8fS2SSv6P9/9/rHES/9P////SOXr84//+f7NBfv+r//780FIg/2f//36yeiT/q//8/3yaeP3L+/1+dxEY/4f//P1Bkjb+v//8/iaFWv+r//5+FVoO/+v//39tdpL/w///fqaqFP/D//z9Er4e/o///36aUfr/2//+fgJeVP7///38w3Xe/2///P6YqiD/4//8/dVKSv+n//z8HyZC/0P//f0YAhT/y//9/IDadv+///9/ZzoM/+v//nzGPhL+f////wJ19v6T//9+KTXc/AAAAwN+/nr+Z//+fqVJ8v/////+VLYO/zf//v4U0gD/r//+/IIOUP4X//x/nTGw/+P//n0QUoL/R//+fPmiLP+v//7+qzZW/+v//X5+Upr8AAAAAuxCuv/v//39iNru/sf7/f825Vb/i//+/ysJVvwAAAKB51Jw/6///fxipjD8p//8/YlpjP/7//98zTaK/9v//X3w6nL/l//+/r4+fP/D//1+hjJC/8///fy3joz////9/SCqJv5L//7/iY3O/rP///zkafr/e//8/xImIv9v///8rIHA/mv//36XVdD/u//8/X2qXv9////8J94S/zf//30gfiz/R//8f/keDP8r//x/6h30/3v//H7Qjgr/o//+frdCbv97//x/9hXg/+f//H0XAmr/n//8fR0+Rv/D//7/2w4M/5P//3xxpfj9d//8f8ZRrv/T//x9jgJu/8v//P7fHp7/5//9/VdaBv+n//7+xA5E/zf//H5JNi7/7//+f0LaDP/r//59FNIa/lPz/HypWOj/q//9/LBqfv/r//18tWo4/+P///x+9lT/r//8/vy6Hvw==",
          "dtype": "f8"
         },
         "yaxis": "y2"
        },
        {
         "legendgroup": "2024-08-22_14-29-05",
         "line": {
          "color": "rgb(55,126,184)",
          "dash": "dot"
         },
         "name": "2024-08-22_14-29-05 - Z",
         "type": "scatter",
         "x": {
          "bdata": "AAAAAAAAAADMzMzM/BR/P+/u7u7GKI4/EhEREZ1+nz+amZmZl56jP6uqqqqAYac/ISIiIrhzrz93d3d3aO2xP4mIiIgnZbQ/EREREZGxuD9VVVVVUrK7P3d3d3d9o70/3t3dXZ+8wD8AAACAMq7BP2ZmZmb+rsI/////f3msxT8zMzMzeJ/GPzIzMzOQmsc/ERERETXzyT8jIiKiYzrMP0RERMSAfM4/VVVVFR0b0D8iIiLi3JfQP1VVVRVMjdE/q6qqaocT0j8AAADAteDTP7y7uzss8NQ/7+7uboT/1T8RERFR0oPWP7y7u/uw/dc/mpmZ2Vt+2D+KiIgIkf/YP+/u7u4tBto/m5mZ2ZWL2j/NzMyMLBHbPzIzMzNiC9w/EBERkTKI3D+rqqpqkhXdP+/u7q6YC94/zczMTLCE3j9VVVVVHgrfPyIiIoL9BeA/3d3dfZBE4D9mZmaG8YLgP5qZmTnSA+E/REREBL2P4T8AAADgLM7hP1VVVTVojeI/zczMLE4E4z+JiIiIGYHjP83MzGzIw+M/zczMjN8K5D+rqqoK74nkPyIiIoL6xeQ/7+7uzgt35T+rqqrq/C3mP2dmZoaXqeY/EREREQzm5j8zMzNThCbnP6uqqmq0q+c/7+7ujs/n5z/NzMzsgSjoPzMzM/OTqeg/REREpHPs6D8zMzOzJy3pP+/u7q7sp+k/q6qqKnno6T93d3dX6CjqP1VVVZXrpeo/vLu7Wy7k6j8iIiKCL53rP1VVVXXzD+w/vLu7u5JU7D+rqqqqFJPsPyIiIqLgL+0/vLu7m/dW7T9VVVX1GZftP0RERARDFu4/IiIiIohS7j8RERGRMZHuPw==",
          "dtype": "f8"
         },
         "xaxis": "x3",
         "y": {
          "bdata": "+v///0n1q7/7//+/n3ijv43//99dVX2/////n0jsjL/2//8/wdOjv/z//3/xJKC/9///Pwvmqz/7//8/Pt6hP+X//58dFZS/8P///y/Gnz/7///fGYWjP+X//1/Iw4i/6f//X/8wjL/8///fzC2sP/D//z/Cupo/k///n0BJfD/6////SY+WP/L//38ILIk/8////57xrD/r///fJGaXv/P//7+znKO/9P//P0rUqD/6//8fDVqgv+j//3/qiZM//v//n3zJoj/x//9fZcmAP/T//182JYC//f//f09woL/r//9/WZGRP/7///8O/IK/4v//n4m4ib+u//+fTzl8P/T//9+jBqo/5f//H5NOnr+z//8fc1l+P2D//z9Qjm2/tP3/v1IyOz/r//8/r16aP+n//19I75C/+P//n/sZoD/y//9/SRyTv/n//58ozZe/9P///yULgr/y//8f7MKTPwAAAKB5rbC/5P//H+i3nr/5//+fGFGYP/f//x/3yI2/+v//H06mkT/R//8fP9hnv/7//z+JVpE/+f//n+9qmT+5//8f4AN1v/7//3+pepU//v//P+IEpb/6//9/8Eqwv/z//7/MXaW/+v//Hy3GnL/s//+/bvKEv/n//5+enpY/7f7/H7omXj////+/ncN3v/L//z/0kqU/0f//H80zhj/m//+/wM+QP+P//z8UjYo/+///fyFZhb/U////TDGOP8z//7+xn3g/9f//H4zGnb/V//9fDA+Bvzn+/3+RO1G/1v//v47Fe7/3///frS6XP/7//3831pG/2P//X+Ezjr/1//9fa+Kav/X//9/5kaM/6f//n+ZuiD/k//+fUa6Yvw==",
          "dtype": "f8"
         },
         "yaxis": "y3"
        },
        {
         "legendgroup": "2024-08-22_14-47-39",
         "line": {
          "color": "rgb(77,175,74)"
         },
         "name": "2024-08-22_14-47-39 - X",
         "type": "scatter",
         "x": {
          "bdata": "AAAAAAAAAAC8u7u7yyV9P7y7u7u7k40/ZmZmZuaPnT+rqqqqwYG4P2ZmZmZxdLo/q6qqqlg2vD/NzMzMVd/AP4mIiIjWzcM/mZmZmfaqxz8AAACA2GTJP2ZmZmZgQ8o/q6qqKnMZyz9VVVXV8fLMP+7u7m7m5M0/NDMzs5tj0D8AAABACO3QP2ZmZiZnYdE/VVVVlbFW0j8RERERosHSP5uZmRnfvtM/7+7uLqmq1D8zMzNzoB7VP0RERERJj9U/rKqqqmzb1j+JiIhI9lPXP83MzMx0v9c/MzMz80k53D8iIiIiNXrdP83MzEym6t0/ERERUXxW3j8RERGR01jfP6uqqkoyDOA/ZmZmxkxE4D8iIiICTMHgPxEREVEDH+E/vLu7W10t4j8iIiIipGXiP0RERAQO/OI/REREpA5F4z9mZmaG+JXjP5qZmRklEeQ/q6qqipRJ5D8iIiJCUIjkP1VVVVXJBeU/ZmZmpjBX5T8=",
          "dtype": "f8"
         },
         "xaxis": "x",
         "y": {
          "bdata": "Rf//3yThZr/7//9/0Dq5P/3//9+QzLU//v//n7XgvD8AAADAeRKtP/7//9+ttrc/vv//H7ZYe7/8//+/zLe4PwAAACC/pbo/+v///8+Fsj/2////oFmnP/3//19TsbA/+v///+PutT/8//8fxYW1P/3///+Yibk/9f//X9nZlT/////f1H7PP/r//9+CWbI/////f9CyxD/1//8/oF+tP/b//3+A96k/////PzDKtT8AAADAtvK0P/T//x+486s/+////34nsz////9frka9P/3//x+t48M//v//ny8rtT/5///fdfqsP/j//x8waa0//v//v8FjwT/+//+f+CvDP//////iNLk/8///HxV9oj/9///f48/LP////z9lBco/////v2AQuz/+//+fP83DP/3//59DL7I//v//f6EIuj////8f8zG+PwAAAGCahrE/9f//X5hZnD/+//8/ndfFP/n//59V97o//f//n0eiuD8=",
          "dtype": "f8"
         },
         "yaxis": "y"
        },
        {
         "legendgroup": "2024-08-22_14-47-39",
         "line": {
          "color": "rgb(77,175,74)",
          "dash": "dash"
         },
         "name": "2024-08-22_14-47-39 - Y",
         "type": "scatter",
         "x": {
          "bdata": "AAAAAAAAAAC8u7u7yyV9P7y7u7u7k40/ZmZmZuaPnT+rqqqqwYG4P2ZmZmZxdLo/q6qqqlg2vD/NzMzMVd/AP4mIiIjWzcM/mZmZmfaqxz8AAACA2GTJP2ZmZmZgQ8o/q6qqKnMZyz9VVVXV8fLMP+7u7m7m5M0/NDMzs5tj0D8AAABACO3QP2ZmZiZnYdE/VVVVlbFW0j8RERERosHSP5uZmRnfvtM/7+7uLqmq1D8zMzNzoB7VP0RERERJj9U/rKqqqmzb1j+JiIhI9lPXP83MzMx0v9c/MzMz80k53D8iIiIiNXrdP83MzEym6t0/ERERUXxW3j8RERGR01jfP6uqqkoyDOA/ZmZmxkxE4D8iIiICTMHgPxEREVEDH+E/vLu7W10t4j8iIiIipGXiP0RERAQO/OI/REREpA5F4z9mZmaG+JXjP5qZmRklEeQ/q6qqipRJ5D8iIiJCUIjkP1VVVVXJBeU/ZmZmpjBX5T8=",
          "dtype": "f8"
         },
         "xaxis": "x2",
         "y": {
          "bdata": "/v///3iNx795/f8fUkA7v/X//1+gM5y//f//P6mApb/+//9f4tO4v/v//z+L2LC/////H55itj/9//9/W6uiP/3//9/t8Zu/0v//35RBhr/5/////0qgP////99Ur6g/7v//P1/unD/9///fFtK8v+r//x+iSZg//P//nzpet7/9//9ffN2Qv/v//9+fN7W/+v//3xwWrT/a//+/fKCOP+7//z9PVp8//f//f8mUu7/q//8fiieOv/f//9/mmJC//P//fzontL9t//9fvQlgP/3//1+Qaqs/9///f2QGk7+x//8/CBFyv/n////rQ5K/7f//XzbSlj/0//9/g8ilPyL//58tFGG/v///37bEdL/9//9/x6vLP////x8efMI/+f//H03goT/1//+/c96jv8D//3817nA/yv//f2cRhL9V//8fk95RP/T//18Jwqq/+v///xSuur/6//8/p4q5PwAAAAC7Hnw/x///f/jlgj8=",
          "dtype": "f8"
         },
         "yaxis": "y2"
        },
        {
         "legendgroup": "2024-08-22_14-47-39",
         "line": {
          "color": "rgb(77,175,74)",
          "dash": "dot"
         },
         "name": "2024-08-22_14-47-39 - Z",
         "type": "scatter",
         "x": {
          "bdata": "AAAAAAAAAAC8u7u7yyV9P7y7u7u7k40/ZmZmZuaPnT+rqqqqwYG4P2ZmZmZxdLo/q6qqqlg2vD/NzMzMVd/AP4mIiIjWzcM/mZmZmfaqxz8AAACA2GTJP2ZmZmZgQ8o/q6qqKnMZyz9VVVXV8fLMP+7u7m7m5M0/NDMzs5tj0D8AAABACO3QP2ZmZiZnYdE/VVVVlbFW0j8RERERosHSP5uZmRnfvtM/7+7uLqmq1D8zMzNzoB7VP0RERERJj9U/rKqqqmzb1j+JiIhI9lPXP83MzMx0v9c/MzMz80k53D8iIiIiNXrdP83MzEym6t0/ERERUXxW3j8RERGR01jfP6uqqkoyDOA/ZmZmxkxE4D8iIiICTMHgPxEREVEDH+E/vLu7W10t4j8iIiIipGXiP0RERAQO/OI/REREpA5F4z9mZmaG+JXjP5qZmRklEeQ/q6qqipRJ5D8iIiJCUIjkP1VVVVXJBeU/ZmZmpjBX5T8=",
          "dtype": "f8"
         },
         "xaxis": "x3",
         "y": {
          "bdata": "6P//P+ILmD/2/v9fz55fP+H//3/iVIi/5P///2l+mL/p//8fxmaMv/7//790Taw/5P//v1Ggnz/p//8/geOQPwAAACBZwJA/zf//v30iiD/X//9/BReHv/L//7+S0KQ/+///3+iIpz/U//8/9weAv/X//x+ImaE/6v//33WGmD/z//+f/IykP+7//z8aiZE/q////3rae7/m//8/sCN3P+3///8RV4k/AAAAoBzzoj/u//+fuEqcv8P//x8zl3+/////v5UEsj/2//+/WwKqP/v//z8NJqM/zv//fxBzcb9N/v9fpctZP/T//x+sYpU/wv//348adb/y//9fDHOYv5L9/x9koU2//v//n701mz/3//9foYunv/L//5/Pv6q/9v//P/q9qD/7//+/YlmQP6///1/Ks3U/+v//X26+n7/h//9f1j+Dv6X//1/1T2s/2///X21mfD/n////JmWRv7z////xBXQ/+P//HySQnj8=",
          "dtype": "f8"
         },
         "yaxis": "y3"
        }
       ],
       "layout": {
        "annotations": [
         {
          "font": {
           "size": 16
          },
          "showarrow": false,
          "text": "X Velocity",
          "x": 0.5,
          "xanchor": "center",
          "xref": "paper",
          "y": 1,
          "yanchor": "bottom",
          "yref": "paper"
         },
         {
          "font": {
           "size": 16
          },
          "showarrow": false,
          "text": "Y Velocity",
          "x": 0.5,
          "xanchor": "center",
          "xref": "paper",
          "y": 0.6399999999999999,
          "yanchor": "bottom",
          "yref": "paper"
         },
         {
          "font": {
           "size": 16
          },
          "showarrow": false,
          "text": "Z Velocity",
          "x": 0.5,
          "xanchor": "center",
          "xref": "paper",
          "y": 0.27999999999999997,
          "yanchor": "bottom",
          "yref": "paper"
         }
        ],
        "height": 800,
        "hovermode": "x unified",
        "template": {
         "data": {
          "bar": [
           {
            "error_x": {
             "color": "#2a3f5f"
            },
            "error_y": {
             "color": "#2a3f5f"
            },
            "marker": {
             "line": {
              "color": "#E5ECF6",
              "width": 0.5
             },
             "pattern": {
              "fillmode": "overlay",
              "size": 10,
              "solidity": 0.2
             }
            },
            "type": "bar"
           }
          ],
          "barpolar": [
           {
            "marker": {
             "line": {
              "color": "#E5ECF6",
              "width": 0.5
             },
             "pattern": {
              "fillmode": "overlay",
              "size": 10,
              "solidity": 0.2
             }
            },
            "type": "barpolar"
           }
          ],
          "carpet": [
           {
            "aaxis": {
             "endlinecolor": "#2a3f5f",
             "gridcolor": "white",
             "linecolor": "white",
             "minorgridcolor": "white",
             "startlinecolor": "#2a3f5f"
            },
            "baxis": {
             "endlinecolor": "#2a3f5f",
             "gridcolor": "white",
             "linecolor": "white",
             "minorgridcolor": "white",
             "startlinecolor": "#2a3f5f"
            },
            "type": "carpet"
           }
          ],
          "choropleth": [
           {
            "colorbar": {
             "outlinewidth": 0,
             "ticks": ""
            },
            "type": "choropleth"
           }
          ],
          "contour": [
           {
            "colorbar": {
             "outlinewidth": 0,
             "ticks": ""
            },
            "colorscale": [
             [
              0,
              "#0d0887"
             ],
             [
              0.1111111111111111,
              "#46039f"
             ],
             [
              0.2222222222222222,
              "#7201a8"
             ],
             [
              0.3333333333333333,
              "#9c179e"
             ],
             [
              0.4444444444444444,
              "#bd3786"
             ],
             [
              0.5555555555555556,
              "#d8576b"
             ],
             [
              0.6666666666666666,
              "#ed7953"
             ],
             [
              0.7777777777777778,
              "#fb9f3a"
             ],
             [
              0.8888888888888888,
              "#fdca26"
             ],
             [
              1,
              "#f0f921"
             ]
            ],
            "type": "contour"
           }
          ],
          "contourcarpet": [
           {
            "colorbar": {
             "outlinewidth": 0,
             "ticks": ""
            },
            "type": "contourcarpet"
           }
          ],
          "heatmap": [
           {
            "colorbar": {
             "outlinewidth": 0,
             "ticks": ""
            },
            "colorscale": [
             [
              0,
              "#0d0887"
             ],
             [
              0.1111111111111111,
              "#46039f"
             ],
             [
              0.2222222222222222,
              "#7201a8"
             ],
             [
              0.3333333333333333,
              "#9c179e"
             ],
             [
              0.4444444444444444,
              "#bd3786"
             ],
             [
              0.5555555555555556,
              "#d8576b"
             ],
             [
              0.6666666666666666,
              "#ed7953"
             ],
             [
              0.7777777777777778,
              "#fb9f3a"
             ],
             [
              0.8888888888888888,
              "#fdca26"
             ],
             [
              1,
              "#f0f921"
             ]
            ],
            "type": "heatmap"
           }
          ],
          "histogram": [
           {
            "marker": {
             "pattern": {
              "fillmode": "overlay",
              "size": 10,
              "solidity": 0.2
             }
            },
            "type": "histogram"
           }
          ],
          "histogram2d": [
           {
            "colorbar": {
             "outlinewidth": 0,
             "ticks": ""
            },
            "colorscale": [
             [
              0,
              "#0d0887"
             ],
             [
              0.1111111111111111,
              "#46039f"
             ],
             [
              0.2222222222222222,
              "#7201a8"
             ],
             [
              0.3333333333333333,
              "#9c179e"
             ],
             [
              0.4444444444444444,
              "#bd3786"
             ],
             [
              0.5555555555555556,
              "#d8576b"
             ],
             [
              0.6666666666666666,
              "#ed7953"
             ],
             [
              0.7777777777777778,
              "#fb9f3a"
             ],
             [
              0.8888888888888888,
              "#fdca26"
             ],
             [
              1,
              "#f0f921"
             ]
            ],
            "type": "histogram2d"
           }
          ],
          "histogram2dcontour": [
           {
            "colorbar": {
             "outlinewidth": 0,
             "ticks": ""
            },
            "colorscale": [
             [
              0,
              "#0d0887"
             ],
             [
              0.1111111111111111,
              "#46039f"
             ],
             [
              0.2222222222222222,
              "#7201a8"
             ],
             [
              0.3333333333333333,
              "#9c179e"
             ],
             [
              0.4444444444444444,
              "#bd3786"
             ],
             [
              0.5555555555555556,
              "#d8576b"
             ],
             [
              0.6666666666666666,
              "#ed7953"
             ],
             [
              0.7777777777777778,
              "#fb9f3a"
             ],
             [
              0.8888888888888888,
              "#fdca26"
             ],
             [
              1,
              "#f0f921"
             ]
            ],
            "type": "histogram2dcontour"
           }
          ],
          "mesh3d": [
           {
            "colorbar": {
             "outlinewidth": 0,
             "ticks": ""
            },
            "type": "mesh3d"
           }
          ],
          "parcoords": [
           {
            "line": {
             "colorbar": {
              "outlinewidth": 0,
              "ticks": ""
             }
            },
            "type": "parcoords"
           }
          ],
          "pie": [
           {
            "automargin": true,
            "type": "pie"
           }
          ],
          "scatter": [
           {
            "fillpattern": {
             "fillmode": "overlay",
             "size": 10,
             "solidity": 0.2
            },
            "type": "scatter"
           }
          ],
          "scatter3d": [
           {
            "line": {
             "colorbar": {
              "outlinewidth": 0,
              "ticks": ""
             }
            },
            "marker": {
             "colorbar": {
              "outlinewidth": 0,
              "ticks": ""
             }
            },
            "type": "scatter3d"
           }
          ],
          "scattercarpet": [
           {
            "marker": {
             "colorbar": {
              "outlinewidth": 0,
              "ticks": ""
             }
            },
            "type": "scattercarpet"
           }
          ],
          "scattergeo": [
           {
            "marker": {
             "colorbar": {
              "outlinewidth": 0,
              "ticks": ""
             }
            },
            "type": "scattergeo"
           }
          ],
          "scattergl": [
           {
            "marker": {
             "colorbar": {
              "outlinewidth": 0,
              "ticks": ""
             }
            },
            "type": "scattergl"
           }
          ],
          "scattermap": [
           {
            "marker": {
             "colorbar": {
              "outlinewidth": 0,
              "ticks": ""
             }
            },
            "type": "scattermap"
           }
          ],
          "scattermapbox": [
           {
            "marker": {
             "colorbar": {
              "outlinewidth": 0,
              "ticks": ""
             }
            },
            "type": "scattermapbox"
           }
          ],
          "scatterpolar": [
           {
            "marker": {
             "colorbar": {
              "outlinewidth": 0,
              "ticks": ""
             }
            },
            "type": "scatterpolar"
           }
          ],
          "scatterpolargl": [
           {
            "marker": {
             "colorbar": {
              "outlinewidth": 0,
              "ticks": ""
             }
            },
            "type": "scatterpolargl"
           }
          ],
          "scatterternary": [
           {
            "marker": {
             "colorbar": {
              "outlinewidth": 0,
              "ticks": ""
             }
            },
            "type": "scatterternary"
           }
          ],
          "surface": [
           {
            "colorbar": {
             "outlinewidth": 0,
             "ticks": ""
            },
            "colorscale": [
             [
              0,
              "#0d0887"
             ],
             [
              0.1111111111111111,
              "#46039f"
             ],
             [
              0.2222222222222222,
              "#7201a8"
             ],
             [
              0.3333333333333333,
              "#9c179e"
             ],
             [
              0.4444444444444444,
              "#bd3786"
             ],
             [
              0.5555555555555556,
              "#d8576b"
             ],
             [
              0.6666666666666666,
              "#ed7953"
             ],
             [
              0.7777777777777778,
              "#fb9f3a"
             ],
             [
              0.8888888888888888,
              "#fdca26"
             ],
             [
              1,
              "#f0f921"
             ]
            ],
            "type": "surface"
           }
          ],
          "table": [
           {
            "cells": {
             "fill": {
              "color": "#EBF0F8"
             },
             "line": {
              "color": "white"
             }
            },
            "header": {
             "fill": {
              "color": "#C8D4E3"
             },
             "line": {
              "color": "white"
             }
            },
            "type": "table"
           }
          ]
         },
         "layout": {
          "annotationdefaults": {
           "arrowcolor": "#2a3f5f",
           "arrowhead": 0,
           "arrowwidth": 1
          },
          "autotypenumbers": "strict",
          "coloraxis": {
           "colorbar": {
            "outlinewidth": 0,
            "ticks": ""
           }
          },
          "colorscale": {
           "diverging": [
            [
             0,
             "#8e0152"
            ],
            [
             0.1,
             "#c51b7d"
            ],
            [
             0.2,
             "#de77ae"
            ],
            [
             0.3,
             "#f1b6da"
            ],
            [
             0.4,
             "#fde0ef"
            ],
            [
             0.5,
             "#f7f7f7"
            ],
            [
             0.6,
             "#e6f5d0"
            ],
            [
             0.7,
             "#b8e186"
            ],
            [
             0.8,
             "#7fbc41"
            ],
            [
             0.9,
             "#4d9221"
            ],
            [
             1,
             "#276419"
            ]
           ],
           "sequential": [
            [
             0,
             "#0d0887"
            ],
            [
             0.1111111111111111,
             "#46039f"
            ],
            [
             0.2222222222222222,
             "#7201a8"
            ],
            [
             0.3333333333333333,
             "#9c179e"
            ],
            [
             0.4444444444444444,
             "#bd3786"
            ],
            [
             0.5555555555555556,
             "#d8576b"
            ],
            [
             0.6666666666666666,
             "#ed7953"
            ],
            [
             0.7777777777777778,
             "#fb9f3a"
            ],
            [
             0.8888888888888888,
             "#fdca26"
            ],
            [
             1,
             "#f0f921"
            ]
           ],
           "sequentialminus": [
            [
             0,
             "#0d0887"
            ],
            [
             0.1111111111111111,
             "#46039f"
            ],
            [
             0.2222222222222222,
             "#7201a8"
            ],
            [
             0.3333333333333333,
             "#9c179e"
            ],
            [
             0.4444444444444444,
             "#bd3786"
            ],
            [
             0.5555555555555556,
             "#d8576b"
            ],
            [
             0.6666666666666666,
             "#ed7953"
            ],
            [
             0.7777777777777778,
             "#fb9f3a"
            ],
            [
             0.8888888888888888,
             "#fdca26"
            ],
            [
             1,
             "#f0f921"
            ]
           ]
          },
          "colorway": [
           "#636efa",
           "#EF553B",
           "#00cc96",
           "#ab63fa",
           "#FFA15A",
           "#19d3f3",
           "#FF6692",
           "#B6E880",
           "#FF97FF",
           "#FECB52"
          ],
          "font": {
           "color": "#2a3f5f"
          },
          "geo": {
           "bgcolor": "white",
           "lakecolor": "white",
           "landcolor": "#E5ECF6",
           "showlakes": true,
           "showland": true,
           "subunitcolor": "white"
          },
          "hoverlabel": {
           "align": "left"
          },
          "hovermode": "closest",
          "mapbox": {
           "style": "light"
          },
          "paper_bgcolor": "white",
          "plot_bgcolor": "#E5ECF6",
          "polar": {
           "angularaxis": {
            "gridcolor": "white",
            "linecolor": "white",
            "ticks": ""
           },
           "bgcolor": "#E5ECF6",
           "radialaxis": {
            "gridcolor": "white",
            "linecolor": "white",
            "ticks": ""
           }
          },
          "scene": {
           "xaxis": {
            "backgroundcolor": "#E5ECF6",
            "gridcolor": "white",
            "gridwidth": 2,
            "linecolor": "white",
            "showbackground": true,
            "ticks": "",
            "zerolinecolor": "white"
           },
           "yaxis": {
            "backgroundcolor": "#E5ECF6",
            "gridcolor": "white",
            "gridwidth": 2,
            "linecolor": "white",
            "showbackground": true,
            "ticks": "",
            "zerolinecolor": "white"
           },
           "zaxis": {
            "backgroundcolor": "#E5ECF6",
            "gridcolor": "white",
            "gridwidth": 2,
            "linecolor": "white",
            "showbackground": true,
            "ticks": "",
            "zerolinecolor": "white"
           }
          },
          "shapedefaults": {
           "line": {
            "color": "#2a3f5f"
           }
          },
          "ternary": {
           "aaxis": {
            "gridcolor": "white",
            "linecolor": "white",
            "ticks": ""
           },
           "baxis": {
            "gridcolor": "white",
            "linecolor": "white",
            "ticks": ""
           },
           "bgcolor": "#E5ECF6",
           "caxis": {
            "gridcolor": "white",
            "linecolor": "white",
            "ticks": ""
           }
          },
          "title": {
           "x": 0.05
          },
          "xaxis": {
           "automargin": true,
           "gridcolor": "white",
           "linecolor": "white",
           "ticks": "",
           "title": {
            "standoff": 15
           },
           "zerolinecolor": "white",
           "zerolinewidth": 2
          },
          "yaxis": {
           "automargin": true,
           "gridcolor": "white",
           "linecolor": "white",
           "ticks": "",
           "title": {
            "standoff": 15
           },
           "zerolinecolor": "white",
           "zerolinewidth": 2
          }
         }
        },
        "title": {
         "text": "Bottom Track Velocity - All Bags"
        },
        "xaxis": {
         "anchor": "y",
         "domain": [
          0,
          1
         ],
         "matches": "x3",
         "showticklabels": false
        },
        "xaxis2": {
         "anchor": "y2",
         "domain": [
          0,
          1
         ],
         "matches": "x3",
         "showticklabels": false
        },
        "xaxis3": {
         "anchor": "y3",
         "domain": [
          0,
          1
         ],
         "title": {
          "text": "Time (minutes)"
         }
        },
        "yaxis": {
         "anchor": "x",
         "domain": [
          0.72,
          1
         ],
         "title": {
          "text": "Velocity (m/s)"
         }
        },
        "yaxis2": {
         "anchor": "x2",
         "domain": [
          0.36,
          0.6399999999999999
         ],
         "title": {
          "text": "Velocity (m/s)"
         }
        },
        "yaxis3": {
         "anchor": "x3",
         "domain": [
          0,
          0.27999999999999997
         ],
         "title": {
          "text": "Velocity (m/s)"
         }
        }
       }
      }
     },
     "metadata": {},
     "output_type": "display_data"
    },
    {
     "name": "stdout",
     "output_type": "stream",
     "text": [
      "✅ Bottom track velocity plots complete!\n"
     ]
    }
   ],
   "source": [
    "# 🚀 BOTTOM TRACK VELOCITY VISUALIZATION\n",
    "# ======================================\n",
    "\n",
    "print(\"🚀 Creating bottom track velocity visualizations...\")\n",
    "\n",
    "# Plot bottom track velocity for selected bag(s)\n",
    "if 'bottomtrack' in analyzer.available_sensors:\n",
    "    \n",
    "    if BAG_SELECTION:\n",
    "        print(f\"📊 Plotting bottom track velocity for bag: {BAG_SELECTION}\")\n",
    "        analyzer.plot_bottomtrack_velocity(BAG_SELECTION, interactive=(PLOT_STYLE == \"interactive\"))\n",
    "    else:\n",
    "        print(f\"📊 Plotting bottom track velocity for all bags\")\n",
    "        analyzer.plot_bottomtrack_velocity(None, interactive=(PLOT_STYLE == \"interactive\"))\n",
    "    \n",
    "    print(\"✅ Bottom track velocity plots complete!\")\n",
    "    \n",
    "else:\n",
    "    print(\"⚠️  No bottom track data available\")"
   ]
  },
  {
   "cell_type": "code",
   "execution_count": 7,
   "id": "3b045a19",
   "metadata": {},
   "outputs": [
    {
     "name": "stdout",
     "output_type": "stream",
     "text": [
      "🗺️ Creating vehicle trajectory visualizations...\n",
      "📍 Plotting trajectories for all bags\n"
     ]
    },
    {
     "data": {
      "application/vnd.plotly.v1+json": {
       "config": {
        "plotlyServerURL": "https://plot.ly"
       },
       "data": [
        {
         "line": {
          "color": "rgb(228,26,28)"
         },
         "marker": {
          "size": 3
         },
         "mode": "lines+markers",
         "name": "2024-08-22_14-06-43",
         "type": "scatter",
         "x": {
          "bdata": "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",
          "dtype": "f8"
         },
         "y": {
          "bdata": "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",
          "dtype": "f8"
         }
        },
        {
         "marker": {
          "color": "rgb(228,26,28)",
          "size": 10,
          "symbol": "square"
         },
         "mode": "markers",
         "name": "2024-08-22_14-06-43 Start",
         "showlegend": false,
         "type": "scatter",
         "x": [
          2.0682220458984375
         ],
         "y": [
          8.339937210083008
         ]
        },
        {
         "marker": {
          "color": "rgb(228,26,28)",
          "size": 10,
          "symbol": "diamond"
         },
         "mode": "markers",
         "name": "2024-08-22_14-06-43 End",
         "showlegend": false,
         "type": "scatter",
         "x": [
          6.387754917144775
         ],
         "y": [
          10.955239295959473
         ]
        },
        {
         "line": {
          "color": "rgb(55,126,184)"
         },
         "marker": {
          "size": 3
         },
         "mode": "lines+markers",
         "name": "2024-08-22_14-29-05",
         "type": "scatter",
         "x": {
          "bdata": "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",
          "dtype": "f8"
         },
         "y": {
          "bdata": "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",
          "dtype": "f8"
         }
        },
        {
         "marker": {
          "color": "rgb(55,126,184)",
          "size": 10,
          "symbol": "square"
         },
         "mode": "markers",
         "name": "2024-08-22_14-29-05 Start",
         "showlegend": false,
         "type": "scatter",
         "x": [
          1.2384378910064695
         ],
         "y": [
          1.6104687452316284
         ]
        },
        {
         "marker": {
          "color": "rgb(55,126,184)",
          "size": 10,
          "symbol": "diamond"
         },
         "mode": "markers",
         "name": "2024-08-22_14-29-05 End",
         "showlegend": false,
         "type": "scatter",
         "x": [
          6.196017265319824
         ],
         "y": [
          4.274919033050537
         ]
        },
        {
         "line": {
          "color": "rgb(77,175,74)"
         },
         "marker": {
          "size": 3
         },
         "mode": "lines+markers",
         "name": "2024-08-22_14-47-39",
         "type": "scatter",
         "x": {
          "bdata": "AAAAQNq87r////8/68DuvwAAAECBxu6/AQAAgADM7r////9fLtHuvwEAAODRqe6/AAAAwKtl7r8AAAAgeiHuv////z846+2/AAAAgGuY7b8AAADg+VXtv////19CFe2/AAAAgGDU7L8AAABgZJPsvwAAACDRUuy/AAAA4MMR7L8AAABgPNDrvwAAAIDzjuu/AAAAwFVN678AAADgTQvrvwAAAABcuuq/AAAAYDJg6r8AAACgMAbqvwAAAABNrOm/AAAAID1S6b8AAABgN/novwAAAOAtpOi/AAAAoB1T6L8AAABg7wXovwAAAGB5vOe/AAAAAJd2578AAAAAMTTnvwAAACAZ9ea/AAAAYCu55r8AAAAgQ4DmvwAAAEBNSua/AAAA4CIX5r8AAADApublvwAAAKA/3eW/AAAAYLKM5b8AAAAgoWLlvwAAACChOuW/AAAAYJYU5b8AAADgWfDkvwAAAKDFzeS/AAAAYMas5L8AAABAQo3kvwAAAIAwb+S/AAAAAINS5L8AAACgLTfkvwAAAEAkHeS/AAAAAE4E5L8AAADgp+zjvwAAAMAp1uO/AAAAYMzA478AAAAAf6zjvwAAACAvmeO/AAAAYMuG478AAABgQ3XjvwAAAACTZOO/AAAAgCpB478AAABgRRDjvwAAAKAr3+K/AAAA4Auu4r8AAACAzXzivwAAAEDwTOK/AAAAwCQe4r8AAADAOu/hvwAAAKDMwOG/AAAAQFSS4b8AAACgZYvhvwAAAACZnuG/AAAAQLax4b8AAABgFMXhvwAAAICa2OG/AAAAYEHs4b8AAABAKADivwAAAKDKE+K/AAAAgBUn4r8AAADASzrivwAAAGDDHeK/AAAAINzg4b8AAABg2KPhvwAAAMC2ZuG/AAAAIE8p4b8AAADgcOzgvwAAAIBtsuC/AAAAQHl74L8AAACgbEfgvwAAAOD1FeC/////31i0378AAACgtyffvwAAAOB/C9+/////31hC3L//////Gazbv/////+sf9u/AAAAQN562r8AAACALurZv/////8madm/AAAAIEjt2L/////fV3TYvwAAAIBR/de/////f4SI178AAABgnRbXvwAAACA5qda/AAAAoG1B1r8AAACgnd/Vv////99OftW/AAAA4AUr1b/////fTeTUv////3/GqNS/AAAAoKlt1L8AAADAwOvTvwAAAGAlq9O/////30uV078AAADA3n/TvwAAAGCJV9O/////vxoC078AAADgB5rSv////x80RdK/AAAAgNwt0r////9fr1HSvwAAAKAzI9K/////32Dx0b8AAAAg1b7Rv////1/zldG/////vwxR0b////9/zRfRv////3/7zdC/////f7l70L////8f9R/Qv/7//7+Eic+/AAAAwH/Lzr/+//+frf/NvwAAAKAcVs2//v///9GxzL/9//+fQ37IvwAAAIDpu8e/AAAAIH4Dx78AAACAlE7Gv/3//x+1oMW/AAAAwAGOxL/+//+ffsbDv////7+b68K/////f7oBwr8AAADggxXBvwAAAIBRR8C//f//n18jv78AAADgQMi9v/r//79RfLy//P//n0I/u78AAABgIBG6v/n//18E8bi/AAAAAIbet7/+///fBtm2vwAAAOAs4LW/+///33I7tb8AAACg78G0v/7//z+ZOLS//v//P9a3s7/7//8fOjazv/T////wGaK/8P//X4UFmb/8////PuCKv3v//58uOFq/+f//n6q9hT+n//8/ZMl3v0j//1+oWW4/7f//v5fEij/p////ZJSXP/T//197IqI/+f//3+vxqD/3//+/cOWvP////x8wBbM/////n9Yztj/9//+/Ft66P/7//9/Bnb8//f//Py8Ewj8AAAAgDM7DP////x/3KsU/AAAAwHWQxj8AAACgMMPEP/7//x+Vb8U//////yMlxj8AAACAjh7HP////79kfsc/AAAAoB7xwz////8fKP3EP/////9yDcY//v//fzcyxz/9//8/MWPIPwAAACAUmsk//////3S4yj8AAACgGL/LP/7//x+RnM0/AAAAgGsizz////+/WlvQPwAAAGDk8tA/AAAAwK1i0T8AAACAXrDRP////3+0/9E//////5sM0j////9/BLrSPwAAAKCsndM/////v8Oe1D8AAABA2l/VP/////+rLNY/////nzpz1j/////fVqvWP////59I59Y/////PzH+1j////+/1x7XPwAAAGCpNtc/AAAAYNzx1j//////bAHXPwAAACCTk9c/AAAAgJIY2D////+f/pPYP////z/02tg/AAAAAIgv2T////9/tWLZPwAAAIBhpdo/////XwLr2j/////fIJfbPwAAAKDhItw//////2y03D////+f0CzfPwAAAGDexd8/AAAAwG0t4D8AAACARXPgPwAAAAD3t+A/AAAAQMkA4T8AAABAOx/hPwAAAKCGaOE/AAAAAAjH4T8AAABgWyviPwAAAECPi+I/AAAAYFno4j8AAABAgUDjPwAAAEA9lOM/AAAAgJ/j4z8AAABg5C7kPwAAAGA7duQ/AAAA4Oy55D8AAAAgKfrkPwAAAMA9N+U/AAAAwAV35T8AAACgFa7lPwAAAIBk3eU/AAAAoIoP5j8AAADgLD/mPwAAAABlbOY/AAAAoEuX5j8AAAAg5L/mPwAAAOBM5uY/AAAAYJkK5z8AAACA8yznPwAAACCLTec/AAAAgIds5z8AAAAgF4rnPwAAAKBGpuc/AAAAYCLB5z8AAAAgKt3nPwAAAIBQ9ec/AAAAIP0J6D8AAAAg6CHoPwAAAAAtS+g/AAAA4El86D8AAACAYKvoPwAAAEDM1ug/AAAAoGID6T8AAACAVTDpPwAAAMDDXek/AAAA4PaB6T8AAADAd6vpPwAAAICd0Ok/AAAAYFPj6T8AAACAZxLqPwAAAGCbP+o/AAAA4Ldo6j8AAABAMprqPwAAAMCGZ+o/AAAA4NWV6j8AAAAgVMfqPwAAAOBj9uo/AAAAgIkx6z8AAAAAHBvsPwAAAICKauw/AAAAoFTM7D8AAADAbSXtPwAAACASfu0/AQAAwE3U7T8AAACAECruPwAAAKAige4/AAAAgGXX7j/////fTinvPwAAAGDXOPA/AAAAQEpo8D8AAACA5JbwPwAAAMCrwPA/AAAAAPTz8D////8/JuDwPwAAAECNAvE/AAAA4HAp8T8AAABgT0nxPwAAAEBKcPE/AAAAICEW8T8AAABg2y7xPwAAAMAYSPE/AAAAIAtj8T8AAABg/37xPwAAAGDinPE/AAAAQKG78T8AAACgeNvxPwAAAEDe+/E/AAAAIMof8j////8/o1nzPwAAAGC/oPM/AAAAoJzo8z8AAABAbSn0PwAAAAC6ePQ/AAAAwI3p9D8AAADgczP1P/////9SfPU/AAAAgMa89T8AAADAcwr2PwAAAOAqVfY/AAAAIEWg9j8AAAAgOef2PwEAAIALKvc/AAAAAM5o9z8AAACAmaP3PwEAAICL2vc/AQAAILIN+D8AAACgQz34PwAAAGC4afg/AAAAgOCT+D8AAADgX7z4PwAAAKBE4/g/////X+oE+T8AAACATCz5P////5/7Rvk/AAAAAM1d+T8AAACgrnL5PwAAAOACjfk/AAAA4MC/+T8AAAAACs35PwAAAGA3Cfo/AQAAYIBJ+j8AAAAgq4X6PwAAAOBptfo/AAAAIOHy+j8AAADAeij7PwAAAABqSvs/////H9po+z8AAACAEIT7PwAAAAD4n/s/AAAAYHa2+z8AAABgOc/7PwAAAMAU6Ps/AAAAgL8E/D8AAACgimP8PwAAACBXi/w/AAAAwF2v/D8AAADAMM/8PwAAACB18/w/AAAAAAQ9/T8AAACAjmb9P////7+Rj/0/AAAAoCe5/T8BAAAgMuT9PwEAAEC4Dv4/AQAAYEMz/j8AAACAFGP+PwAAAIDMkP4/AAAA4He+/j8AAACgYSn+PwEAAIC5SP4/AAAAgBpn/j8BAAAAJ4L+P////z9pov4/AAAAICta/j8AAADA8mX+PwAAAAAHcf4/AAAAwGN5/j8AAABg24L+PwAAAIBMdv8/AAAAQLad/z8BAABgOcT/PwEAAKBJ6/8/AAAAwEMJAEAAAADg6hwAQAAAAMARLQBAAAAAIAE9AEAAAADAR00AQAAAAKA1XwBAAAAAwFNUAEAAAADg+2cAQAAAAGCOewBAAQAA4GWNAEAAAADgpqMAQAAAAODTlQBA",
          "dtype": "f8"
         },
         "y": {
          "bdata": "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",
          "dtype": "f8"
         }
        },
        {
         "marker": {
          "color": "rgb(77,175,74)",
          "size": 10,
          "symbol": "square"
         },
         "mode": "markers",
         "name": "2024-08-22_14-47-39 Start",
         "showlegend": false,
         "type": "scatter",
         "x": [
          -0.9605532884597778
         ],
         "y": [
          1.9200801849365232
         ]
        },
        {
         "marker": {
          "color": "rgb(77,175,74)",
          "size": 10,
          "symbol": "diamond"
         },
         "mode": "markers",
         "name": "2024-08-22_14-47-39 End",
         "showlegend": false,
         "type": "scatter",
         "x": [
          2.073158025741577
         ],
         "y": [
          3.942232608795166
         ]
        }
       ],
       "layout": {
        "height": 600,
        "template": {
         "data": {
          "bar": [
           {
            "error_x": {
             "color": "#2a3f5f"
            },
            "error_y": {
             "color": "#2a3f5f"
            },
            "marker": {
             "line": {
              "color": "#E5ECF6",
              "width": 0.5
             },
             "pattern": {
              "fillmode": "overlay",
              "size": 10,
              "solidity": 0.2
             }
            },
            "type": "bar"
           }
          ],
          "barpolar": [
           {
            "marker": {
             "line": {
              "color": "#E5ECF6",
              "width": 0.5
             },
             "pattern": {
              "fillmode": "overlay",
              "size": 10,
              "solidity": 0.2
             }
            },
            "type": "barpolar"
           }
          ],
          "carpet": [
           {
            "aaxis": {
             "endlinecolor": "#2a3f5f",
             "gridcolor": "white",
             "linecolor": "white",
             "minorgridcolor": "white",
             "startlinecolor": "#2a3f5f"
            },
            "baxis": {
             "endlinecolor": "#2a3f5f",
             "gridcolor": "white",
             "linecolor": "white",
             "minorgridcolor": "white",
             "startlinecolor": "#2a3f5f"
            },
            "type": "carpet"
           }
          ],
          "choropleth": [
           {
            "colorbar": {
             "outlinewidth": 0,
             "ticks": ""
            },
            "type": "choropleth"
           }
          ],
          "contour": [
           {
            "colorbar": {
             "outlinewidth": 0,
             "ticks": ""
            },
            "colorscale": [
             [
              0,
              "#0d0887"
             ],
             [
              0.1111111111111111,
              "#46039f"
             ],
             [
              0.2222222222222222,
              "#7201a8"
             ],
             [
              0.3333333333333333,
              "#9c179e"
             ],
             [
              0.4444444444444444,
              "#bd3786"
             ],
             [
              0.5555555555555556,
              "#d8576b"
             ],
             [
              0.6666666666666666,
              "#ed7953"
             ],
             [
              0.7777777777777778,
              "#fb9f3a"
             ],
             [
              0.8888888888888888,
              "#fdca26"
             ],
             [
              1,
              "#f0f921"
             ]
            ],
            "type": "contour"
           }
          ],
          "contourcarpet": [
           {
            "colorbar": {
             "outlinewidth": 0,
             "ticks": ""
            },
            "type": "contourcarpet"
           }
          ],
          "heatmap": [
           {
            "colorbar": {
             "outlinewidth": 0,
             "ticks": ""
            },
            "colorscale": [
             [
              0,
              "#0d0887"
             ],
             [
              0.1111111111111111,
              "#46039f"
             ],
             [
              0.2222222222222222,
              "#7201a8"
             ],
             [
              0.3333333333333333,
              "#9c179e"
             ],
             [
              0.4444444444444444,
              "#bd3786"
             ],
             [
              0.5555555555555556,
              "#d8576b"
             ],
             [
              0.6666666666666666,
              "#ed7953"
             ],
             [
              0.7777777777777778,
              "#fb9f3a"
             ],
             [
              0.8888888888888888,
              "#fdca26"
             ],
             [
              1,
              "#f0f921"
             ]
            ],
            "type": "heatmap"
           }
          ],
          "histogram": [
           {
            "marker": {
             "pattern": {
              "fillmode": "overlay",
              "size": 10,
              "solidity": 0.2
             }
            },
            "type": "histogram"
           }
          ],
          "histogram2d": [
           {
            "colorbar": {
             "outlinewidth": 0,
             "ticks": ""
            },
            "colorscale": [
             [
              0,
              "#0d0887"
             ],
             [
              0.1111111111111111,
              "#46039f"
             ],
             [
              0.2222222222222222,
              "#7201a8"
             ],
             [
              0.3333333333333333,
              "#9c179e"
             ],
             [
              0.4444444444444444,
              "#bd3786"
             ],
             [
              0.5555555555555556,
              "#d8576b"
             ],
             [
              0.6666666666666666,
              "#ed7953"
             ],
             [
              0.7777777777777778,
              "#fb9f3a"
             ],
             [
              0.8888888888888888,
              "#fdca26"
             ],
             [
              1,
              "#f0f921"
             ]
            ],
            "type": "histogram2d"
           }
          ],
          "histogram2dcontour": [
           {
            "colorbar": {
             "outlinewidth": 0,
             "ticks": ""
            },
            "colorscale": [
             [
              0,
              "#0d0887"
             ],
             [
              0.1111111111111111,
              "#46039f"
             ],
             [
              0.2222222222222222,
              "#7201a8"
             ],
             [
              0.3333333333333333,
              "#9c179e"
             ],
             [
              0.4444444444444444,
              "#bd3786"
             ],
             [
              0.5555555555555556,
              "#d8576b"
             ],
             [
              0.6666666666666666,
              "#ed7953"
             ],
             [
              0.7777777777777778,
              "#fb9f3a"
             ],
             [
              0.8888888888888888,
              "#fdca26"
             ],
             [
              1,
              "#f0f921"
             ]
            ],
            "type": "histogram2dcontour"
           }
          ],
          "mesh3d": [
           {
            "colorbar": {
             "outlinewidth": 0,
             "ticks": ""
            },
            "type": "mesh3d"
           }
          ],
          "parcoords": [
           {
            "line": {
             "colorbar": {
              "outlinewidth": 0,
              "ticks": ""
             }
            },
            "type": "parcoords"
           }
          ],
          "pie": [
           {
            "automargin": true,
            "type": "pie"
           }
          ],
          "scatter": [
           {
            "fillpattern": {
             "fillmode": "overlay",
             "size": 10,
             "solidity": 0.2
            },
            "type": "scatter"
           }
          ],
          "scatter3d": [
           {
            "line": {
             "colorbar": {
              "outlinewidth": 0,
              "ticks": ""
             }
            },
            "marker": {
             "colorbar": {
              "outlinewidth": 0,
              "ticks": ""
             }
            },
            "type": "scatter3d"
           }
          ],
          "scattercarpet": [
           {
            "marker": {
             "colorbar": {
              "outlinewidth": 0,
              "ticks": ""
             }
            },
            "type": "scattercarpet"
           }
          ],
          "scattergeo": [
           {
            "marker": {
             "colorbar": {
              "outlinewidth": 0,
              "ticks": ""
             }
            },
            "type": "scattergeo"
           }
          ],
          "scattergl": [
           {
            "marker": {
             "colorbar": {
              "outlinewidth": 0,
              "ticks": ""
             }
            },
            "type": "scattergl"
           }
          ],
          "scattermap": [
           {
            "marker": {
             "colorbar": {
              "outlinewidth": 0,
              "ticks": ""
             }
            },
            "type": "scattermap"
           }
          ],
          "scattermapbox": [
           {
            "marker": {
             "colorbar": {
              "outlinewidth": 0,
              "ticks": ""
             }
            },
            "type": "scattermapbox"
           }
          ],
          "scatterpolar": [
           {
            "marker": {
             "colorbar": {
              "outlinewidth": 0,
              "ticks": ""
             }
            },
            "type": "scatterpolar"
           }
          ],
          "scatterpolargl": [
           {
            "marker": {
             "colorbar": {
              "outlinewidth": 0,
              "ticks": ""
             }
            },
            "type": "scatterpolargl"
           }
          ],
          "scatterternary": [
           {
            "marker": {
             "colorbar": {
              "outlinewidth": 0,
              "ticks": ""
             }
            },
            "type": "scatterternary"
           }
          ],
          "surface": [
           {
            "colorbar": {
             "outlinewidth": 0,
             "ticks": ""
            },
            "colorscale": [
             [
              0,
              "#0d0887"
             ],
             [
              0.1111111111111111,
              "#46039f"
             ],
             [
              0.2222222222222222,
              "#7201a8"
             ],
             [
              0.3333333333333333,
              "#9c179e"
             ],
             [
              0.4444444444444444,
              "#bd3786"
             ],
             [
              0.5555555555555556,
              "#d8576b"
             ],
             [
              0.6666666666666666,
              "#ed7953"
             ],
             [
              0.7777777777777778,
              "#fb9f3a"
             ],
             [
              0.8888888888888888,
              "#fdca26"
             ],
             [
              1,
              "#f0f921"
             ]
            ],
            "type": "surface"
           }
          ],
          "table": [
           {
            "cells": {
             "fill": {
              "color": "#EBF0F8"
             },
             "line": {
              "color": "white"
             }
            },
            "header": {
             "fill": {
              "color": "#C8D4E3"
             },
             "line": {
              "color": "white"
             }
            },
            "type": "table"
           }
          ]
         },
         "layout": {
          "annotationdefaults": {
           "arrowcolor": "#2a3f5f",
           "arrowhead": 0,
           "arrowwidth": 1
          },
          "autotypenumbers": "strict",
          "coloraxis": {
           "colorbar": {
            "outlinewidth": 0,
            "ticks": ""
           }
          },
          "colorscale": {
           "diverging": [
            [
             0,
             "#8e0152"
            ],
            [
             0.1,
             "#c51b7d"
            ],
            [
             0.2,
             "#de77ae"
            ],
            [
             0.3,
             "#f1b6da"
            ],
            [
             0.4,
             "#fde0ef"
            ],
            [
             0.5,
             "#f7f7f7"
            ],
            [
             0.6,
             "#e6f5d0"
            ],
            [
             0.7,
             "#b8e186"
            ],
            [
             0.8,
             "#7fbc41"
            ],
            [
             0.9,
             "#4d9221"
            ],
            [
             1,
             "#276419"
            ]
           ],
           "sequential": [
            [
             0,
             "#0d0887"
            ],
            [
             0.1111111111111111,
             "#46039f"
            ],
            [
             0.2222222222222222,
             "#7201a8"
            ],
            [
             0.3333333333333333,
             "#9c179e"
            ],
            [
             0.4444444444444444,
             "#bd3786"
            ],
            [
             0.5555555555555556,
             "#d8576b"
            ],
            [
             0.6666666666666666,
             "#ed7953"
            ],
            [
             0.7777777777777778,
             "#fb9f3a"
            ],
            [
             0.8888888888888888,
             "#fdca26"
            ],
            [
             1,
             "#f0f921"
            ]
           ],
           "sequentialminus": [
            [
             0,
             "#0d0887"
            ],
            [
             0.1111111111111111,
             "#46039f"
            ],
            [
             0.2222222222222222,
             "#7201a8"
            ],
            [
             0.3333333333333333,
             "#9c179e"
            ],
            [
             0.4444444444444444,
             "#bd3786"
            ],
            [
             0.5555555555555556,
             "#d8576b"
            ],
            [
             0.6666666666666666,
             "#ed7953"
            ],
            [
             0.7777777777777778,
             "#fb9f3a"
            ],
            [
             0.8888888888888888,
             "#fdca26"
            ],
            [
             1,
             "#f0f921"
            ]
           ]
          },
          "colorway": [
           "#636efa",
           "#EF553B",
           "#00cc96",
           "#ab63fa",
           "#FFA15A",
           "#19d3f3",
           "#FF6692",
           "#B6E880",
           "#FF97FF",
           "#FECB52"
          ],
          "font": {
           "color": "#2a3f5f"
          },
          "geo": {
           "bgcolor": "white",
           "lakecolor": "white",
           "landcolor": "#E5ECF6",
           "showlakes": true,
           "showland": true,
           "subunitcolor": "white"
          },
          "hoverlabel": {
           "align": "left"
          },
          "hovermode": "closest",
          "mapbox": {
           "style": "light"
          },
          "paper_bgcolor": "white",
          "plot_bgcolor": "#E5ECF6",
          "polar": {
           "angularaxis": {
            "gridcolor": "white",
            "linecolor": "white",
            "ticks": ""
           },
           "bgcolor": "#E5ECF6",
           "radialaxis": {
            "gridcolor": "white",
            "linecolor": "white",
            "ticks": ""
           }
          },
          "scene": {
           "xaxis": {
            "backgroundcolor": "#E5ECF6",
            "gridcolor": "white",
            "gridwidth": 2,
            "linecolor": "white",
            "showbackground": true,
            "ticks": "",
            "zerolinecolor": "white"
           },
           "yaxis": {
            "backgroundcolor": "#E5ECF6",
            "gridcolor": "white",
            "gridwidth": 2,
            "linecolor": "white",
            "showbackground": true,
            "ticks": "",
            "zerolinecolor": "white"
           },
           "zaxis": {
            "backgroundcolor": "#E5ECF6",
            "gridcolor": "white",
            "gridwidth": 2,
            "linecolor": "white",
            "showbackground": true,
            "ticks": "",
            "zerolinecolor": "white"
           }
          },
          "shapedefaults": {
           "line": {
            "color": "#2a3f5f"
           }
          },
          "ternary": {
           "aaxis": {
            "gridcolor": "white",
            "linecolor": "white",
            "ticks": ""
           },
           "baxis": {
            "gridcolor": "white",
            "linecolor": "white",
            "ticks": ""
           },
           "bgcolor": "#E5ECF6",
           "caxis": {
            "gridcolor": "white",
            "linecolor": "white",
            "ticks": ""
           }
          },
          "title": {
           "x": 0.05
          },
          "xaxis": {
           "automargin": true,
           "gridcolor": "white",
           "linecolor": "white",
           "ticks": "",
           "title": {
            "standoff": 15
           },
           "zerolinecolor": "white",
           "zerolinewidth": 2
          },
          "yaxis": {
           "automargin": true,
           "gridcolor": "white",
           "linecolor": "white",
           "ticks": "",
           "title": {
            "standoff": 15
           },
           "zerolinecolor": "white",
           "zerolinewidth": 2
          }
         }
        },
        "title": {
         "text": "Vehicle Trajectory - All Bags"
        },
        "xaxis": {
         "title": {
          "text": "X Position (m)"
         }
        },
        "yaxis": {
         "scaleanchor": "x",
         "scaleratio": 1,
         "title": {
          "text": "Y Position (m)"
         }
        }
       }
      }
     },
     "metadata": {},
     "output_type": "display_data"
    },
    {
     "name": "stdout",
     "output_type": "stream",
     "text": [
      "✅ Trajectory plots complete!\n"
     ]
    }
   ],
   "source": [
    "# 🗺️ SPATIAL DATA VISUALIZATION - TRAJECTORIES  \n",
    "# =============================================\n",
    "\n",
    "print(\"🗺️ Creating vehicle trajectory visualizations...\")\n",
    "\n",
    "# Plot 2D trajectory from INS data\n",
    "if 'ins' in analyzer.available_sensors:\n",
    "    \n",
    "    if BAG_SELECTION:\n",
    "        print(f\"📍 Plotting trajectory for bag: {BAG_SELECTION}\")\n",
    "        analyzer.plot_trajectory_2d(BAG_SELECTION, interactive=(PLOT_STYLE == \"interactive\"))\n",
    "    else:\n",
    "        print(f\"📍 Plotting trajectories for all bags\")\n",
    "        analyzer.plot_trajectory_2d(None, interactive=(PLOT_STYLE == \"interactive\"))\n",
    "    \n",
    "    print(\"✅ Trajectory plots complete!\")\n",
    "    \n",
    "else:\n",
    "    print(\"⚠️  No INS data available for trajectory plotting\")"
   ]
  },
  {
   "cell_type": "code",
   "execution_count": 8,
   "id": "9e5038c4",
   "metadata": {},
   "outputs": [
    {
     "name": "stdout",
     "output_type": "stream",
     "text": [
      "🧭 Creating INS (Inertial Navigation System) visualizations...\n",
      "📊 Plotting INS data for bag: 2024-08-22_14-06-43\n"
     ]
    },
    {
     "data": {
      "application/vnd.plotly.v1+json": {
       "config": {
        "plotlyServerURL": "https://plot.ly"
       },
       "data": [
        {
         "line": {
          "color": "red"
         },
         "name": "pos_x",
         "type": "scatter",
         "x": {
          "bdata": "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",
          "dtype": "f8"
         },
         "xaxis": "x",
         "y": {
          "bdata": "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",
          "dtype": "f8"
         },
         "yaxis": "y"
        },
        {
         "line": {
          "color": "green"
         },
         "name": "pos_y",
         "type": "scatter",
         "x": {
          "bdata": "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",
          "dtype": "f8"
         },
         "xaxis": "x",
         "y": {
          "bdata": "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",
          "dtype": "f8"
         },
         "yaxis": "y"
        },
        {
         "line": {
          "color": "blue"
         },
         "name": "pos_z",
         "type": "scatter",
         "x": {
          "bdata": "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",
          "dtype": "f8"
         },
         "xaxis": "x",
         "y": {
          "bdata": "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",
          "dtype": "f8"
         },
         "yaxis": "y"
        },
        {
         "line": {
          "color": "red"
         },
         "name": "vel_N",
         "type": "scatter",
         "x": {
          "bdata": "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",
          "dtype": "f8"
         },
         "xaxis": "x2",
         "y": {
          "bdata": "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",
          "dtype": "f8"
         },
         "yaxis": "y2"
        },
        {
         "line": {
          "color": "green"
         },
         "name": "vel_E",
         "type": "scatter",
         "x": {
          "bdata": "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",
          "dtype": "f8"
         },
         "xaxis": "x2",
         "y": {
          "bdata": "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",
          "dtype": "f8"
         },
         "yaxis": "y2"
        },
        {
         "line": {
          "color": "blue"
         },
         "name": "vel_D",
         "type": "scatter",
         "x": {
          "bdata": "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",
          "dtype": "f8"
         },
         "xaxis": "x2",
         "y": {
          "bdata": "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",
          "dtype": "f8"
         },
         "yaxis": "y2"
        },
        {
         "line": {
          "color": "red"
         },
         "name": "qx",
         "type": "scatter",
         "x": {
          "bdata": "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",
          "dtype": "f8"
         },
         "xaxis": "x3",
         "y": {
          "bdata": "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",
          "dtype": "f8"
         },
         "yaxis": "y3"
        },
        {
         "line": {
          "color": "green"
         },
         "name": "qy",
         "type": "scatter",
         "x": {
          "bdata": "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",
          "dtype": "f8"
         },
         "xaxis": "x3",
         "y": {
          "bdata": "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",
          "dtype": "f8"
         },
         "yaxis": "y3"
        },
        {
         "line": {
          "color": "blue"
         },
         "name": "qz",
         "type": "scatter",
         "x": {
          "bdata": "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",
          "dtype": "f8"
         },
         "xaxis": "x3",
         "y": {
          "bdata": "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",
          "dtype": "f8"
         },
         "yaxis": "y3"
        },
        {
         "line": {
          "color": "orange"
         },
         "name": "qw",
         "type": "scatter",
         "x": {
          "bdata": "AAAAAAAAAADFzMzMTFZZP/7///8fJWk/RERERATscz//////jy96PyIiIiKKOYA/VVVVVd1ggz9mZmZmXnqGP97d3d11nYk/VVVVVe24jD8BAAAAUNKPP97d3d1BfJE/AAAAAPwIkz9EREREBJ6UPzIzMzOfM5Y/RERERLQFmD8zMzMzqx2aP97d3d0R7Js/zczMzNjCnT8RERERtVOfPwEAAAA4cqA/RERERIZdoT9VVVVVWwWiP+/u7u7grKI/VVVVVc2Toz+amZmZbV6kP+/u7u7UJqU/zczMzDrKpT93d3d3RXamPwAAAACmPac/VVVVVS0FqD93d3d3ccuoPxERERH1kqk/IiIiIsw6qj+JiIiIlAGrP5qZmZnxyas/VVVVVT21rD8iIiIi8n6tPwAAAAAkSq4/RERERHp4rz8zMzMzPh6wP0VEREQ0hLA/3t3d3QjYsD8iIiIizjuxP83MzMw7wbE/IiIiImslsj/NzMzMEZuyPwAAAADo7bI/ZmZmZrJAsz8AAAAAV6SzP7y7u7vrCbQ/RERERLxutD+rqqqqRtW0P4mIiIgSKrU/EREREZSdtT8AAAAAwwG2PyIiIiISZ7Y/zczMzKzbtj8RERER2j+3P3d3d3f+orc/ERERETQHuD/v7u7ug2y4P83MzMywz7g/AAAAAJcjuT8RERERYZq5PxERERG+/7k/EREREQ5luj/e3d3dD7m6P1VVVVVIHbs/q6qqqtaEuz/v7u7u9ee7P97d3d0FXLw/q6qqqj7AvD+8u7u78RG9P97d3d0Tdb0/7+7u7mLavT9VVVVVmz6+P1VVVVXdor4/MzMzM/8Fvz8zMzMzZ2i/P4mIiIhJvL8/EREREeEXwD8iIiIiTkHAP3d3d/fIc8A/EREREbGmwD9VVVXVQdjAP83MzExeCsE/AAAAAH48wT8RERGR43bBP83MzMw7qME/MzMzs3/awT+rqqqqEhbCPwAAAIBsP8I/iYiIiBtqwj93d3d3M/fCP6uqqirAMcM/zczMzGdkwz9FRETExp/DP4mIiIhY0cM/VVVV1aphxT8RERGR3ZTFP3d3d3fIxsU/3t3dXb/wxT9WVVXV7jPGP2VmZmb8bcY/MzMzMxOgxj+9u7s7L9LGPxIREZGb+8Y/ZmZm5nUuxz//////F2HHP97d3V3jcMc/ERERkdnLxz8zMzMzif7HPyIiIiK/H8g/AAAAgBFayD8AAAAAbZTIP0VERMSvzsg/IiIiokAAyT/d3d3dXDLJP97d3d0pZMk/VVVV1dWWyT/NzMzMfsnJPyIiIiIS+8k/d3d3d0cuyj+JiIiIH2DKPzMzM7OOkco/ioiICADEyj/w7u7uOe7KPwAAAIC7KMs/vLu7uy1byz9VVVXVy43LPwAAAACfyMs/RERExLzxyz93d3d3rRvMP97d3d3ETcw/RERExAiIzD/e3d3dJLrMP7y7uzvR7Mw/7+7ubl0ezT9ERETEkFHNP2ZmZuaVgs0/ioiICCLGzT+bmZkZh+/NP1ZVVVWVGc4/EREREbBUzj+7u7u7US/PP2ZmZuZUYc8/MzMzs0OLzz9ERETEWr3PP5qZmRl3788/VVVV1eEU0D9VVVWVVlfQP4mIiMiQbNA/3t3d3VuF0D/d3d3daZ7QP6uqquokt9A/q6qq6iS30D9VVVUVaOnQPzMzM7OKAtE/3t3dXXMk0T9ERETEyT3RP83MzIyRVtE/q6qqKtBr0T9mZmbmMpXRP5qZmdmKrtE/ERERUVPH0T/e3d1dSdzRP+/u7u4P9dE/mpmZmTcS0j/NzMyMQivSP2ZmZmZURNI/MzMzsyFd0j8RERFRi3rSP7y7uzudl9I/MzMzM3O10j8zMzNzHs7SP7y7u/vQ4tI/REREhLH/0j8AAABAvRjTPwAAAAD4MdM/IiIiYsNK0z/d3d2d0mPTP3d3dzc4gdM/3t3dnWya0z+amZmZMrPTPyMiIqJrzNM/3t3d3cbl0z/e3d1dv/rTPyIiIiJGE9Q/iYiIiKsw1D+JiIhIFU7UP3l3d7fHYtQ/vLu7Ox581D8iIiLiLJXUP8zMzEyWstQ/eXd397zP1D9EREREJu3UP4mIiEi9BtU/ZmZm5oof1T+JiIhIxEDVP4mIiEgYWtU/mpmZWSpz1T8iIiIik4fVP83MzMyjoNU/vLu7e9W51T95d3d3C9PVP2ZmZuY17NU/ERERkegA1j9UVVUVsRnWP97d3V3GMtY/q6qqqrpH1j+8u7t7PWHWP6uqqurrddY/VFVV1Q+T1j+rqqoqx6vWP5uZmdkAzdY/3t3dnRHm1j8iIiKieAPXPzMzM3OUHNc/RERExJQ11z+amZmZylLXP97d3Z3cb9c/q6qq6pKN1z8AAADAWKbXP1VVVVUlv9c/vLu7uzHY1z+rqqrqRvHXPwAAAABpDtg/VlVV1TMn2D+rqqoqbkTYPxEREZH5Xdg/VVVV1eN22D8iIiJi5I/YPxERERHxqNg/q6qq6kLC2D/v7u7uat/YP0REREQc9Ng/7+7urnAN2T8RERFRnyrZPyIiIuK+Q9k/EREREc1c2T8jIiKi0uTaP97d3V3u+do/d3d3d/wS2z9VVVVVZjDbP5qZmZlBVts/REREBF5v2z+HiIgIKIjbP6uqquo6ods/vLu7e0C62z8iIiIiqtfbP7y7u7sT9ds/q6qq6oT92z9VVVXVyS/cP2ZmZmYQTdw/iYiISNdl3D9VVVUVCX/cP5qZmdl1k9w/vLu7u8ms3D/e3d2d8cncPxEREVGT69w/AAAAgCkE3T8zMzOzIxndPxEREREgLt0/ERERkeRG3T9ERETEKWDdPxEREVGPfd0/7+7uLrOa3T+8u7s7Z7jdP3d3d3dw0d0/iYiISGPv3T9mZmYmIQzeP9/d3Z2LKd4/q6qqagxC3j8RERGRX1veP+/u7i63dN4/IiIiYoCN3j8RERFRe6LePzMzM7Mtt94/VVVVFdDU3j9mZmam9O3eP6uqqmoqC98/zczMzBAg3z8QERGRxzTfPxEREZHRTd8/VVVVlZhr3z/e3d3dXYTfPwAAAICxnd8/IiIiYr+23z+7u7s7s9ffP4mIiIgf9d8/VVVV1RYH4D+8u7tbsxPgP1VVVVU8IOA/vLu7O9Is4D9mZmaGgTngPxEREZEURuA/zczMTKFQ4D/e3d1dUl/gPzMzMxPXa+A/AAAAgE544D8iIiJC1ITgP1VVVTV+keA/ZmZmZvqb4D9EREQkYKjgP1VVVVUWt+A/7+7uDpzD4D9VVVUV78/gP0RERERr2uA/7+7uLiLp4D8RERFxqPXgP3d3dxcNAuE/NDMzU4UO4T+JiIgoABnhP2ZmZkZkJeE/7+7uzv0x4T+JiIiI/07hP1VVVbVjW+E/mpmZuThs4T+rqqoK8nzhP6uqquqOjeE/ZmZmpkOc4T93d3e3tarhP+/u7u5Ht+E/q6qqauXD4T/e3d1datDhP1VVVTUf3+E/mpmZOabr4T+8u7t7CvjhP5qZmTmuBuI/AAAAQDUT4j8RERGx0B/iP2ZmZmauLuI/mpmZ2QI54j+rqqpqiUXiP97d3f3sUeI/3t3dHXRe4j/e3d0dBmniP97d3T1vc+I/q6qqymKE4j8zMzNTAJHiP7y7u3uZneI/ZmZmRjio4j93d3eXkbLiPxERERGMx+I/ZmZmJhHU4j8iIiJiduDiPzMzMxMf7eI/IiIiQrL74j+JiIjoTQzjP3d3dxe1GOM/vLu7Wzgn4z+amZkZtjHjP3d3d7cYPOM/3t3dvcJK4z8iIiLiGVfjP97d3f3DY+M/iYiIyND/4z9ERERkFwrkPyIiIkKnFuQ/IiIiggsj5D/e3d29njHkP7y7u5tCQOQ/REREJMtM5D8RERERHlnkP2ZmZsa2ZeQ/",
          "dtype": "f8"
         },
         "xaxis": "x3",
         "y": {
          "bdata": "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",
          "dtype": "f8"
         },
         "yaxis": "y3"
        }
       ],
       "layout": {
        "annotations": [
         {
          "font": {
           "size": 16
          },
          "showarrow": false,
          "text": "Position",
          "x": 0.5,
          "xanchor": "center",
          "xref": "paper",
          "y": 1,
          "yanchor": "bottom",
          "yref": "paper"
         },
         {
          "font": {
           "size": 16
          },
          "showarrow": false,
          "text": "Velocity",
          "x": 0.5,
          "xanchor": "center",
          "xref": "paper",
          "y": 0.6399999999999999,
          "yanchor": "bottom",
          "yref": "paper"
         },
         {
          "font": {
           "size": 16
          },
          "showarrow": false,
          "text": "Quaternion",
          "x": 0.5,
          "xanchor": "center",
          "xref": "paper",
          "y": 0.27999999999999997,
          "yanchor": "bottom",
          "yref": "paper"
         }
        ],
        "height": 700,
        "hovermode": "x unified",
        "template": {
         "data": {
          "bar": [
           {
            "error_x": {
             "color": "#2a3f5f"
            },
            "error_y": {
             "color": "#2a3f5f"
            },
            "marker": {
             "line": {
              "color": "#E5ECF6",
              "width": 0.5
             },
             "pattern": {
              "fillmode": "overlay",
              "size": 10,
              "solidity": 0.2
             }
            },
            "type": "bar"
           }
          ],
          "barpolar": [
           {
            "marker": {
             "line": {
              "color": "#E5ECF6",
              "width": 0.5
             },
             "pattern": {
              "fillmode": "overlay",
              "size": 10,
              "solidity": 0.2
             }
            },
            "type": "barpolar"
           }
          ],
          "carpet": [
           {
            "aaxis": {
             "endlinecolor": "#2a3f5f",
             "gridcolor": "white",
             "linecolor": "white",
             "minorgridcolor": "white",
             "startlinecolor": "#2a3f5f"
            },
            "baxis": {
             "endlinecolor": "#2a3f5f",
             "gridcolor": "white",
             "linecolor": "white",
             "minorgridcolor": "white",
             "startlinecolor": "#2a3f5f"
            },
            "type": "carpet"
           }
          ],
          "choropleth": [
           {
            "colorbar": {
             "outlinewidth": 0,
             "ticks": ""
            },
            "type": "choropleth"
           }
          ],
          "contour": [
           {
            "colorbar": {
             "outlinewidth": 0,
             "ticks": ""
            },
            "colorscale": [
             [
              0,
              "#0d0887"
             ],
             [
              0.1111111111111111,
              "#46039f"
             ],
             [
              0.2222222222222222,
              "#7201a8"
             ],
             [
              0.3333333333333333,
              "#9c179e"
             ],
             [
              0.4444444444444444,
              "#bd3786"
             ],
             [
              0.5555555555555556,
              "#d8576b"
             ],
             [
              0.6666666666666666,
              "#ed7953"
             ],
             [
              0.7777777777777778,
              "#fb9f3a"
             ],
             [
              0.8888888888888888,
              "#fdca26"
             ],
             [
              1,
              "#f0f921"
             ]
            ],
            "type": "contour"
           }
          ],
          "contourcarpet": [
           {
            "colorbar": {
             "outlinewidth": 0,
             "ticks": ""
            },
            "type": "contourcarpet"
           }
          ],
          "heatmap": [
           {
            "colorbar": {
             "outlinewidth": 0,
             "ticks": ""
            },
            "colorscale": [
             [
              0,
              "#0d0887"
             ],
             [
              0.1111111111111111,
              "#46039f"
             ],
             [
              0.2222222222222222,
              "#7201a8"
             ],
             [
              0.3333333333333333,
              "#9c179e"
             ],
             [
              0.4444444444444444,
              "#bd3786"
             ],
             [
              0.5555555555555556,
              "#d8576b"
             ],
             [
              0.6666666666666666,
              "#ed7953"
             ],
             [
              0.7777777777777778,
              "#fb9f3a"
             ],
             [
              0.8888888888888888,
              "#fdca26"
             ],
             [
              1,
              "#f0f921"
             ]
            ],
            "type": "heatmap"
           }
          ],
          "histogram": [
           {
            "marker": {
             "pattern": {
              "fillmode": "overlay",
              "size": 10,
              "solidity": 0.2
             }
            },
            "type": "histogram"
           }
          ],
          "histogram2d": [
           {
            "colorbar": {
             "outlinewidth": 0,
             "ticks": ""
            },
            "colorscale": [
             [
              0,
              "#0d0887"
             ],
             [
              0.1111111111111111,
              "#46039f"
             ],
             [
              0.2222222222222222,
              "#7201a8"
             ],
             [
              0.3333333333333333,
              "#9c179e"
             ],
             [
              0.4444444444444444,
              "#bd3786"
             ],
             [
              0.5555555555555556,
              "#d8576b"
             ],
             [
              0.6666666666666666,
              "#ed7953"
             ],
             [
              0.7777777777777778,
              "#fb9f3a"
             ],
             [
              0.8888888888888888,
              "#fdca26"
             ],
             [
              1,
              "#f0f921"
             ]
            ],
            "type": "histogram2d"
           }
          ],
          "histogram2dcontour": [
           {
            "colorbar": {
             "outlinewidth": 0,
             "ticks": ""
            },
            "colorscale": [
             [
              0,
              "#0d0887"
             ],
             [
              0.1111111111111111,
              "#46039f"
             ],
             [
              0.2222222222222222,
              "#7201a8"
             ],
             [
              0.3333333333333333,
              "#9c179e"
             ],
             [
              0.4444444444444444,
              "#bd3786"
             ],
             [
              0.5555555555555556,
              "#d8576b"
             ],
             [
              0.6666666666666666,
              "#ed7953"
             ],
             [
              0.7777777777777778,
              "#fb9f3a"
             ],
             [
              0.8888888888888888,
              "#fdca26"
             ],
             [
              1,
              "#f0f921"
             ]
            ],
            "type": "histogram2dcontour"
           }
          ],
          "mesh3d": [
           {
            "colorbar": {
             "outlinewidth": 0,
             "ticks": ""
            },
            "type": "mesh3d"
           }
          ],
          "parcoords": [
           {
            "line": {
             "colorbar": {
              "outlinewidth": 0,
              "ticks": ""
             }
            },
            "type": "parcoords"
           }
          ],
          "pie": [
           {
            "automargin": true,
            "type": "pie"
           }
          ],
          "scatter": [
           {
            "fillpattern": {
             "fillmode": "overlay",
             "size": 10,
             "solidity": 0.2
            },
            "type": "scatter"
           }
          ],
          "scatter3d": [
           {
            "line": {
             "colorbar": {
              "outlinewidth": 0,
              "ticks": ""
             }
            },
            "marker": {
             "colorbar": {
              "outlinewidth": 0,
              "ticks": ""
             }
            },
            "type": "scatter3d"
           }
          ],
          "scattercarpet": [
           {
            "marker": {
             "colorbar": {
              "outlinewidth": 0,
              "ticks": ""
             }
            },
            "type": "scattercarpet"
           }
          ],
          "scattergeo": [
           {
            "marker": {
             "colorbar": {
              "outlinewidth": 0,
              "ticks": ""
             }
            },
            "type": "scattergeo"
           }
          ],
          "scattergl": [
           {
            "marker": {
             "colorbar": {
              "outlinewidth": 0,
              "ticks": ""
             }
            },
            "type": "scattergl"
           }
          ],
          "scattermap": [
           {
            "marker": {
             "colorbar": {
              "outlinewidth": 0,
              "ticks": ""
             }
            },
            "type": "scattermap"
           }
          ],
          "scattermapbox": [
           {
            "marker": {
             "colorbar": {
              "outlinewidth": 0,
              "ticks": ""
             }
            },
            "type": "scattermapbox"
           }
          ],
          "scatterpolar": [
           {
            "marker": {
             "colorbar": {
              "outlinewidth": 0,
              "ticks": ""
             }
            },
            "type": "scatterpolar"
           }
          ],
          "scatterpolargl": [
           {
            "marker": {
             "colorbar": {
              "outlinewidth": 0,
              "ticks": ""
             }
            },
            "type": "scatterpolargl"
           }
          ],
          "scatterternary": [
           {
            "marker": {
             "colorbar": {
              "outlinewidth": 0,
              "ticks": ""
             }
            },
            "type": "scatterternary"
           }
          ],
          "surface": [
           {
            "colorbar": {
             "outlinewidth": 0,
             "ticks": ""
            },
            "colorscale": [
             [
              0,
              "#0d0887"
             ],
             [
              0.1111111111111111,
              "#46039f"
             ],
             [
              0.2222222222222222,
              "#7201a8"
             ],
             [
              0.3333333333333333,
              "#9c179e"
             ],
             [
              0.4444444444444444,
              "#bd3786"
             ],
             [
              0.5555555555555556,
              "#d8576b"
             ],
             [
              0.6666666666666666,
              "#ed7953"
             ],
             [
              0.7777777777777778,
              "#fb9f3a"
             ],
             [
              0.8888888888888888,
              "#fdca26"
             ],
             [
              1,
              "#f0f921"
             ]
            ],
            "type": "surface"
           }
          ],
          "table": [
           {
            "cells": {
             "fill": {
              "color": "#EBF0F8"
             },
             "line": {
              "color": "white"
             }
            },
            "header": {
             "fill": {
              "color": "#C8D4E3"
             },
             "line": {
              "color": "white"
             }
            },
            "type": "table"
           }
          ]
         },
         "layout": {
          "annotationdefaults": {
           "arrowcolor": "#2a3f5f",
           "arrowhead": 0,
           "arrowwidth": 1
          },
          "autotypenumbers": "strict",
          "coloraxis": {
           "colorbar": {
            "outlinewidth": 0,
            "ticks": ""
           }
          },
          "colorscale": {
           "diverging": [
            [
             0,
             "#8e0152"
            ],
            [
             0.1,
             "#c51b7d"
            ],
            [
             0.2,
             "#de77ae"
            ],
            [
             0.3,
             "#f1b6da"
            ],
            [
             0.4,
             "#fde0ef"
            ],
            [
             0.5,
             "#f7f7f7"
            ],
            [
             0.6,
             "#e6f5d0"
            ],
            [
             0.7,
             "#b8e186"
            ],
            [
             0.8,
             "#7fbc41"
            ],
            [
             0.9,
             "#4d9221"
            ],
            [
             1,
             "#276419"
            ]
           ],
           "sequential": [
            [
             0,
             "#0d0887"
            ],
            [
             0.1111111111111111,
             "#46039f"
            ],
            [
             0.2222222222222222,
             "#7201a8"
            ],
            [
             0.3333333333333333,
             "#9c179e"
            ],
            [
             0.4444444444444444,
             "#bd3786"
            ],
            [
             0.5555555555555556,
             "#d8576b"
            ],
            [
             0.6666666666666666,
             "#ed7953"
            ],
            [
             0.7777777777777778,
             "#fb9f3a"
            ],
            [
             0.8888888888888888,
             "#fdca26"
            ],
            [
             1,
             "#f0f921"
            ]
           ],
           "sequentialminus": [
            [
             0,
             "#0d0887"
            ],
            [
             0.1111111111111111,
             "#46039f"
            ],
            [
             0.2222222222222222,
             "#7201a8"
            ],
            [
             0.3333333333333333,
             "#9c179e"
            ],
            [
             0.4444444444444444,
             "#bd3786"
            ],
            [
             0.5555555555555556,
             "#d8576b"
            ],
            [
             0.6666666666666666,
             "#ed7953"
            ],
            [
             0.7777777777777778,
             "#fb9f3a"
            ],
            [
             0.8888888888888888,
             "#fdca26"
            ],
            [
             1,
             "#f0f921"
            ]
           ]
          },
          "colorway": [
           "#636efa",
           "#EF553B",
           "#00cc96",
           "#ab63fa",
           "#FFA15A",
           "#19d3f3",
           "#FF6692",
           "#B6E880",
           "#FF97FF",
           "#FECB52"
          ],
          "font": {
           "color": "#2a3f5f"
          },
          "geo": {
           "bgcolor": "white",
           "lakecolor": "white",
           "landcolor": "#E5ECF6",
           "showlakes": true,
           "showland": true,
           "subunitcolor": "white"
          },
          "hoverlabel": {
           "align": "left"
          },
          "hovermode": "closest",
          "mapbox": {
           "style": "light"
          },
          "paper_bgcolor": "white",
          "plot_bgcolor": "#E5ECF6",
          "polar": {
           "angularaxis": {
            "gridcolor": "white",
            "linecolor": "white",
            "ticks": ""
           },
           "bgcolor": "#E5ECF6",
           "radialaxis": {
            "gridcolor": "white",
            "linecolor": "white",
            "ticks": ""
           }
          },
          "scene": {
           "xaxis": {
            "backgroundcolor": "#E5ECF6",
            "gridcolor": "white",
            "gridwidth": 2,
            "linecolor": "white",
            "showbackground": true,
            "ticks": "",
            "zerolinecolor": "white"
           },
           "yaxis": {
            "backgroundcolor": "#E5ECF6",
            "gridcolor": "white",
            "gridwidth": 2,
            "linecolor": "white",
            "showbackground": true,
            "ticks": "",
            "zerolinecolor": "white"
           },
           "zaxis": {
            "backgroundcolor": "#E5ECF6",
            "gridcolor": "white",
            "gridwidth": 2,
            "linecolor": "white",
            "showbackground": true,
            "ticks": "",
            "zerolinecolor": "white"
           }
          },
          "shapedefaults": {
           "line": {
            "color": "#2a3f5f"
           }
          },
          "ternary": {
           "aaxis": {
            "gridcolor": "white",
            "linecolor": "white",
            "ticks": ""
           },
           "baxis": {
            "gridcolor": "white",
            "linecolor": "white",
            "ticks": ""
           },
           "bgcolor": "#E5ECF6",
           "caxis": {
            "gridcolor": "white",
            "linecolor": "white",
            "ticks": ""
           }
          },
          "title": {
           "x": 0.05
          },
          "xaxis": {
           "automargin": true,
           "gridcolor": "white",
           "linecolor": "white",
           "ticks": "",
           "title": {
            "standoff": 15
           },
           "zerolinecolor": "white",
           "zerolinewidth": 2
          },
          "yaxis": {
           "automargin": true,
           "gridcolor": "white",
           "linecolor": "white",
           "ticks": "",
           "title": {
            "standoff": 15
           },
           "zerolinecolor": "white",
           "zerolinewidth": 2
          }
         }
        },
        "title": {
         "text": "INS Data - 2024-08-22_14-06-43"
        },
        "xaxis": {
         "anchor": "y",
         "domain": [
          0,
          1
         ],
         "matches": "x3",
         "showticklabels": false
        },
        "xaxis2": {
         "anchor": "y2",
         "domain": [
          0,
          1
         ],
         "matches": "x3",
         "showticklabels": false
        },
        "xaxis3": {
         "anchor": "y3",
         "domain": [
          0,
          1
         ],
         "title": {
          "text": "Time (minutes)"
         }
        },
        "yaxis": {
         "anchor": "x",
         "domain": [
          0.72,
          1
         ]
        },
        "yaxis2": {
         "anchor": "x2",
         "domain": [
          0.36,
          0.6399999999999999
         ]
        },
        "yaxis3": {
         "anchor": "x3",
         "domain": [
          0,
          0.27999999999999997
         ]
        }
       }
      }
     },
     "metadata": {},
     "output_type": "display_data"
    },
    {
     "name": "stdout",
     "output_type": "stream",
     "text": [
      "✅ INS data plots complete!\n"
     ]
    }
   ],
   "source": [
    "# 🧭 INS DATA VISUALIZATION\n",
    "# =========================\n",
    "\n",
    "print(\"🧭 Creating INS (Inertial Navigation System) visualizations...\")\n",
    "\n",
    "# Plot INS data (position, velocity, orientation)\n",
    "if 'ins' in analyzer.available_sensors:\n",
    "    \n",
    "    # Select variables to plot\n",
    "    ins_variables = ['position', 'velocity', 'quaternion']\n",
    "    \n",
    "    if BAG_SELECTION:\n",
    "        print(f\"📊 Plotting INS data for bag: {BAG_SELECTION}\")\n",
    "        analyzer.plot_ins_data(BAG_SELECTION, variables=ins_variables, \n",
    "                             interactive=(PLOT_STYLE == \"interactive\"))\n",
    "    else:\n",
    "        # Plot for first available bag\n",
    "        first_bag = analyzer.available_bags[0] if analyzer.available_bags else None\n",
    "        if first_bag:\n",
    "            print(f\"📊 Plotting INS data for bag: {first_bag}\")\n",
    "            analyzer.plot_ins_data(first_bag, variables=ins_variables,\n",
    "                                 interactive=(PLOT_STYLE == \"interactive\"))\n",
    "    \n",
    "    print(\"✅ INS data plots complete!\")\n",
    "    \n",
    "else:\n",
    "    print(\"⚠️  No INS data available\")"
   ]
  },
  {
   "cell_type": "code",
   "execution_count": 9,
   "id": "d5373ccd",
   "metadata": {},
   "outputs": [
    {
     "name": "stdout",
     "output_type": "stream",
     "text": [
      "📈 Creating multi-file comparison analysis...\n",
      "📊 Comparing data across 3 bags\n",
      "🔄 Comparing bottom track velocities...\n"
     ]
    },
    {
     "data": {
      "image/png": "[encoded data removed]",
      "text/plain": [
       "<Figure size 1500x1000 with 4 Axes>"
      ]
     },
     "metadata": {},
     "output_type": "display_data"
    },
    {
     "name": "stdout",
     "output_type": "stream",
     "text": [
      "✅ Multi-file comparison complete!\n"
     ]
    }
   ],
   "source": [
    "# 📈 MULTI-FILE COMPARISON ANALYSIS\n",
    "# =================================\n",
    "\n",
    "print(\"📈 Creating multi-file comparison analysis...\")\n",
    "\n",
    "# Create custom comparison plots for multiple bags\n",
    "if len(analyzer.available_bags) > 1:\n",
    "    \n",
    "    print(f\"📊 Comparing data across {len(analyzer.available_bags)} bags\")\n",
    "    \n",
    "    # Compare bottom track velocities across bags\n",
    "    if 'bottomtrack' in analyzer.available_sensors:\n",
    "        print(\"🔄 Comparing bottom track velocities...\")\n",
    "        \n",
    "        fig, axes = plt.subplots(2, 2, figsize=(15, 10))\n",
    "        fig.suptitle('Bottom Track Velocity Comparison Across Bags', fontsize=14)\n",
    "        \n",
    "        colors = plt.cm.Set1(np.linspace(0, 1, len(analyzer.available_bags)))\n",
    "        \n",
    "        for i, bag in enumerate(analyzer.available_bags):\n",
    "            data = analyzer.load_sensor_data(\"bottomtrack\", bag, verbose=False)\n",
    "            \n",
    "            if isinstance(data, dict):\n",
    "                data = data.get(bag)\n",
    "            \n",
    "            if data is not None and 'dvl_velocity_xyz.x' in data.columns:\n",
    "                # Filter valid data\n",
    "                valid_mask = data.get('data_valid', pd.Series([True] * len(data))) == True\n",
    "                data_valid = data[valid_mask]\n",
    "                \n",
    "                if len(data_valid) > 0:\n",
    "                    color = colors[i]\n",
    "                    \n",
    "                    # X velocity\n",
    "                    axes[0,0].plot(data_valid['t_rel_min'], data_valid['dvl_velocity_xyz.x'], \n",
    "                                 color=color, label=bag, alpha=0.7)\n",
    "                    \n",
    "                    # Y velocity  \n",
    "                    axes[0,1].plot(data_valid['t_rel_min'], data_valid['dvl_velocity_xyz.y'], \n",
    "                                 color=color, alpha=0.7)\n",
    "                    \n",
    "                    # Z velocity\n",
    "                    axes[1,0].plot(data_valid['t_rel_min'], data_valid['dvl_velocity_xyz.z'], \n",
    "                                 color=color, alpha=0.7)\n",
    "                    \n",
    "                    # Speed magnitude\n",
    "                    speed = np.sqrt(data_valid['dvl_velocity_xyz.x']**2 + \n",
    "                                  data_valid['dvl_velocity_xyz.y']**2 + \n",
    "                                  data_valid['dvl_velocity_xyz.z']**2)\n",
    "                    axes[1,1].plot(data_valid['t_rel_min'], speed, \n",
    "                                 color=color, alpha=0.7)\n",
    "        \n",
    "        # Format subplots\n",
    "        axes[0,0].set_title('X Velocity')\n",
    "        axes[0,0].set_ylabel('Velocity (m/s)')\n",
    "        axes[0,0].legend()\n",
    "        axes[0,0].grid(True, alpha=0.3)\n",
    "        \n",
    "        axes[0,1].set_title('Y Velocity')\n",
    "        axes[0,1].set_ylabel('Velocity (m/s)')\n",
    "        axes[0,1].grid(True, alpha=0.3)\n",
    "        \n",
    "        axes[1,0].set_title('Z Velocity')\n",
    "        axes[1,0].set_ylabel('Velocity (m/s)')\n",
    "        axes[1,0].set_xlabel('Time (minutes)')\n",
    "        axes[1,0].grid(True, alpha=0.3)\n",
    "        \n",
    "        axes[1,1].set_title('Speed Magnitude')\n",
    "        axes[1,1].set_ylabel('Speed (m/s)')\n",
    "        axes[1,1].set_xlabel('Time (minutes)')\n",
    "        axes[1,1].grid(True, alpha=0.3)\n",
    "        \n",
    "        plt.tight_layout()\n",
    "        \n",
    "        if EXPORT_PLOTS:\n",
    "            output_path = Path(OUTPUT_FOLDER) / \"bottomtrack_comparison.png\"\n",
    "            output_path.parent.mkdir(parents=True, exist_ok=True)\n",
    "            plt.savefig(output_path, dpi=300, bbox_inches='tight')\n",
    "            print(f\"💾 Saved plot: {output_path}\")\n",
    "        \n",
    "        plt.show()\n",
    "    \n",
    "    print(\"✅ Multi-file comparison complete!\")\n",
    "    \n",
    "else:\n",
    "    print(\"⚠️  Only one bag available - skipping comparison analysis\")\n"
   ]
  },
  {
   "cell_type": "code",
   "execution_count": 10,
   "id": "73a7308f",
   "metadata": {},
   "outputs": [
    {
     "name": "stdout",
     "output_type": "stream",
     "text": [
      "📊 Calculating statistical summary and metrics...\n",
      "\n",
      "🔧 ALTIMETER Statistics:\n",
      "   📅 2024-08-22_14-06-43:\n",
      "      🌊 Altitude: 0.07 ± 0.29m\n",
      "      📏 Range: 0.00 - 1.21m\n",
      "   📅 2024-08-22_14-29-05:\n",
      "      🌊 Altitude: 0.03 ± 0.13m\n",
      "      📏 Range: 0.00 - 0.55m\n",
      "   📅 2024-08-22_14-47-39:\n",
      "      🌊 Altitude: 0.19 ± 0.63m\n",
      "      📏 Range: 0.00 - 2.54m\n",
      "\n",
      "🔧 BOTTOMTRACK Statistics:\n",
      "   📅 2024-08-22_14-06-43:\n",
      "      💨 Mean speed: 0.168 ± 0.064 m/s\n",
      "      🚀 Max speed: 0.280 m/s\n",
      "      ✅ Valid data: 90.4%\n",
      "   📅 2024-08-22_14-29-05:\n",
      "      💨 Mean speed: 0.104 ± 0.024 m/s\n",
      "      🚀 Max speed: 0.170 m/s\n",
      "      ✅ Valid data: 98.8%\n",
      "   📅 2024-08-22_14-47-39:\n",
      "      💨 Mean speed: 0.119 ± 0.054 m/s\n",
      "      🚀 Max speed: 0.310 m/s\n",
      "      ✅ Valid data: 74.2%\n",
      "\n",
      "🔧 IMU Statistics:\n",
      "\n",
      "🔧 INS Statistics:\n",
      "   📅 2024-08-22_14-06-43:\n",
      "      📍 Position range: X=4.36m, Y=2.94m\n",
      "      🛣️  Total distance: 5.95m\n",
      "   📅 2024-08-22_14-29-05:\n",
      "      📍 Position range: X=4.97m, Y=2.67m\n",
      "      🛣️  Total distance: 5.91m\n",
      "   📅 2024-08-22_14-47-39:\n",
      "      📍 Position range: X=3.04m, Y=2.02m\n",
      "      🛣️  Total distance: 4.21m\n",
      "\n",
      "🔧 MAGNETOMETER Statistics:\n",
      "\n",
      "🔧 WATERTRACK Statistics:\n",
      "\n",
      "📋 Overall Summary:\n",
      "   📊 Total datasets: 17\n",
      "   ⏱️  Total duration: 13.0 minutes\n",
      "\n",
      "📊 Summary Table:\n"
     ]
    },
    {
     "data": {
      "text/html": [
       "<div>\n",
       "<style scoped>\n",
       "    .dataframe tbody tr th:only-of-type {\n",
       "        vertical-align: middle;\n",
       "    }\n",
       "\n",
       "    .dataframe tbody tr th {\n",
       "        vertical-align: top;\n",
       "    }\n",
       "\n",
       "    .dataframe thead th {\n",
       "        text-align: right;\n",
       "    }\n",
       "</style>\n",
       "<table border=\"1\" class=\"dataframe\">\n",
       "  <thead>\n",
       "    <tr style=\"text-align: right;\">\n",
       "      <th></th>\n",
       "      <th>sensor</th>\n",
       "      <th>bag</th>\n",
       "      <th>samples</th>\n",
       "      <th>duration_min</th>\n",
       "      <th>sample_rate_hz</th>\n",
       "      <th>mean_altitude</th>\n",
       "      <th>std_altitude</th>\n",
       "      <th>min_altitude</th>\n",
       "      <th>max_altitude</th>\n",
       "      <th>mean_vx</th>\n",
       "      <th>...</th>\n",
       "      <th>mean_vz</th>\n",
       "      <th>mean_speed</th>\n",
       "      <th>max_speed</th>\n",
       "      <th>std_speed</th>\n",
       "      <th>valid_data_percent</th>\n",
       "      <th>pos_x_range</th>\n",
       "      <th>pos_y_range</th>\n",
       "      <th>total_distance</th>\n",
       "      <th>mean_pos_x</th>\n",
       "      <th>mean_pos_y</th>\n",
       "    </tr>\n",
       "  </thead>\n",
       "  <tbody>\n",
       "    <tr>\n",
       "      <th>0</th>\n",
       "      <td>altimeter</td>\n",
       "      <td>2024-08-22_14-06-43</td>\n",
       "      <td>17</td>\n",
       "      <td>0.564162</td>\n",
       "      <td>0.502220</td>\n",
       "      <td>0.071370</td>\n",
       "      <td>0.294267</td>\n",
       "      <td>0.0</td>\n",
       "      <td>1.213295</td>\n",
       "      <td>NaN</td>\n",
       "      <td>...</td>\n",
       "      <td>NaN</td>\n",
       "      <td>NaN</td>\n",
       "      <td>NaN</td>\n",
       "      <td>NaN</td>\n",
       "      <td>NaN</td>\n",
       "      <td>NaN</td>\n",
       "      <td>NaN</td>\n",
       "      <td>NaN</td>\n",
       "      <td>NaN</td>\n",
       "      <td>NaN</td>\n",
       "    </tr>\n",
       "    <tr>\n",
       "      <th>1</th>\n",
       "      <td>altimeter</td>\n",
       "      <td>2024-08-22_14-29-05</td>\n",
       "      <td>31</td>\n",
       "      <td>1.002527</td>\n",
       "      <td>0.515364</td>\n",
       "      <td>0.034753</td>\n",
       "      <td>0.134554</td>\n",
       "      <td>0.0</td>\n",
       "      <td>0.549783</td>\n",
       "      <td>NaN</td>\n",
       "      <td>...</td>\n",
       "      <td>NaN</td>\n",
       "      <td>NaN</td>\n",
       "      <td>NaN</td>\n",
       "      <td>NaN</td>\n",
       "      <td>NaN</td>\n",
       "      <td>NaN</td>\n",
       "      <td>NaN</td>\n",
       "      <td>NaN</td>\n",
       "      <td>NaN</td>\n",
       "      <td>NaN</td>\n",
       "    </tr>\n",
       "    <tr>\n",
       "      <th>2</th>\n",
       "      <td>altimeter</td>\n",
       "      <td>2024-08-22_14-47-39</td>\n",
       "      <td>20</td>\n",
       "      <td>0.666027</td>\n",
       "      <td>0.500480</td>\n",
       "      <td>0.194140</td>\n",
       "      <td>0.627895</td>\n",
       "      <td>0.0</td>\n",
       "      <td>2.535765</td>\n",
       "      <td>NaN</td>\n",
       "      <td>...</td>\n",
       "      <td>NaN</td>\n",
       "      <td>NaN</td>\n",
       "      <td>NaN</td>\n",
       "      <td>NaN</td>\n",
       "      <td>NaN</td>\n",
       "      <td>NaN</td>\n",
       "      <td>NaN</td>\n",
       "      <td>NaN</td>\n",
       "      <td>NaN</td>\n",
       "      <td>NaN</td>\n",
       "    </tr>\n",
       "    <tr>\n",
       "      <th>3</th>\n",
       "      <td>bottomtrack</td>\n",
       "      <td>2024-08-22_14-06-43</td>\n",
       "      <td>52</td>\n",
       "      <td>0.583144</td>\n",
       "      <td>1.486196</td>\n",
       "      <td>NaN</td>\n",
       "      <td>NaN</td>\n",
       "      <td>NaN</td>\n",
       "      <td>NaN</td>\n",
       "      <td>0.149354</td>\n",
       "      <td>...</td>\n",
       "      <td>0.011192</td>\n",
       "      <td>0.168106</td>\n",
       "      <td>0.279687</td>\n",
       "      <td>0.064454</td>\n",
       "      <td>90.384615</td>\n",
       "      <td>NaN</td>\n",
       "      <td>NaN</td>\n",
       "      <td>NaN</td>\n",
       "      <td>NaN</td>\n",
       "      <td>NaN</td>\n",
       "    </tr>\n",
       "    <tr>\n",
       "      <th>4</th>\n",
       "      <td>bottomtrack</td>\n",
       "      <td>2024-08-22_14-29-05</td>\n",
       "      <td>81</td>\n",
       "      <td>0.955224</td>\n",
       "      <td>1.413281</td>\n",
       "      <td>NaN</td>\n",
       "      <td>NaN</td>\n",
       "      <td>NaN</td>\n",
       "      <td>NaN</td>\n",
       "      <td>0.097312</td>\n",
       "      <td>...</td>\n",
       "      <td>-0.000235</td>\n",
       "      <td>0.103959</td>\n",
       "      <td>0.169978</td>\n",
       "      <td>0.023894</td>\n",
       "      <td>98.765432</td>\n",
       "      <td>NaN</td>\n",
       "      <td>NaN</td>\n",
       "      <td>NaN</td>\n",
       "      <td>NaN</td>\n",
       "      <td>NaN</td>\n",
       "    </tr>\n",
       "    <tr>\n",
       "      <th>5</th>\n",
       "      <td>bottomtrack</td>\n",
       "      <td>2024-08-22_14-47-39</td>\n",
       "      <td>62</td>\n",
       "      <td>0.666893</td>\n",
       "      <td>1.549473</td>\n",
       "      <td>NaN</td>\n",
       "      <td>NaN</td>\n",
       "      <td>NaN</td>\n",
       "      <td>NaN</td>\n",
       "      <td>0.093950</td>\n",
       "      <td>...</td>\n",
       "      <td>0.009455</td>\n",
       "      <td>0.118712</td>\n",
       "      <td>0.309935</td>\n",
       "      <td>0.054261</td>\n",
       "      <td>74.193548</td>\n",
       "      <td>NaN</td>\n",
       "      <td>NaN</td>\n",
       "      <td>NaN</td>\n",
       "      <td>NaN</td>\n",
       "      <td>NaN</td>\n",
       "    </tr>\n",
       "    <tr>\n",
       "      <th>6</th>\n",
       "      <td>imu</td>\n",
       "      <td>2024-08-22_14-06-43</td>\n",
       "      <td>3580</td>\n",
       "      <td>0.624660</td>\n",
       "      <td>95.518665</td>\n",
       "      <td>NaN</td>\n",
       "      <td>NaN</td>\n",
       "      <td>NaN</td>\n",
       "      <td>NaN</td>\n",
       "      <td>NaN</td>\n",
       "      <td>...</td>\n",
       "      <td>NaN</td>\n",
       "      <td>NaN</td>\n",
       "      <td>NaN</td>\n",
       "      <td>NaN</td>\n",
       "      <td>NaN</td>\n",
       "      <td>NaN</td>\n",
       "      <td>NaN</td>\n",
       "      <td>NaN</td>\n",
       "      <td>NaN</td>\n",
       "      <td>NaN</td>\n",
       "    </tr>\n",
       "    <tr>\n",
       "      <th>7</th>\n",
       "      <td>imu</td>\n",
       "      <td>2024-08-22_14-29-05</td>\n",
       "      <td>6034</td>\n",
       "      <td>1.047727</td>\n",
       "      <td>95.985590</td>\n",
       "      <td>NaN</td>\n",
       "      <td>NaN</td>\n",
       "      <td>NaN</td>\n",
       "      <td>NaN</td>\n",
       "      <td>NaN</td>\n",
       "      <td>...</td>\n",
       "      <td>NaN</td>\n",
       "      <td>NaN</td>\n",
       "      <td>NaN</td>\n",
       "      <td>NaN</td>\n",
       "      <td>NaN</td>\n",
       "      <td>NaN</td>\n",
       "      <td>NaN</td>\n",
       "      <td>NaN</td>\n",
       "      <td>NaN</td>\n",
       "      <td>NaN</td>\n",
       "    </tr>\n",
       "    <tr>\n",
       "      <th>8</th>\n",
       "      <td>imu</td>\n",
       "      <td>2024-08-22_14-47-39</td>\n",
       "      <td>4400</td>\n",
       "      <td>0.746314</td>\n",
       "      <td>98.260668</td>\n",
       "      <td>NaN</td>\n",
       "      <td>NaN</td>\n",
       "      <td>NaN</td>\n",
       "      <td>NaN</td>\n",
       "      <td>NaN</td>\n",
       "      <td>...</td>\n",
       "      <td>NaN</td>\n",
       "      <td>NaN</td>\n",
       "      <td>NaN</td>\n",
       "      <td>NaN</td>\n",
       "      <td>NaN</td>\n",
       "      <td>NaN</td>\n",
       "      <td>NaN</td>\n",
       "      <td>NaN</td>\n",
       "      <td>NaN</td>\n",
       "      <td>NaN</td>\n",
       "    </tr>\n",
       "    <tr>\n",
       "      <th>9</th>\n",
       "      <td>ins</td>\n",
       "      <td>2024-08-22_14-06-43</td>\n",
       "      <td>366</td>\n",
       "      <td>0.637416</td>\n",
       "      <td>9.569885</td>\n",
       "      <td>NaN</td>\n",
       "      <td>NaN</td>\n",
       "      <td>NaN</td>\n",
       "      <td>NaN</td>\n",
       "      <td>NaN</td>\n",
       "      <td>...</td>\n",
       "      <td>NaN</td>\n",
       "      <td>NaN</td>\n",
       "      <td>NaN</td>\n",
       "      <td>NaN</td>\n",
       "      <td>NaN</td>\n",
       "      <td>4.355668</td>\n",
       "      <td>2.939591</td>\n",
       "      <td>5.947814</td>\n",
       "      <td>4.421946</td>\n",
       "      <td>10.344578</td>\n",
       "    </tr>\n",
       "  </tbody>\n",
       "</table>\n",
       "<p>10 rows × 21 columns</p>\n",
       "</div>"
      ],
      "text/plain": [
       "        sensor                  bag  samples  duration_min  sample_rate_hz  \\\n",
       "0    altimeter  2024-08-22_14-06-43       17      0.564162        0.502220   \n",
       "1    altimeter  2024-08-22_14-29-05       31      1.002527        0.515364   \n",
       "2    altimeter  2024-08-22_14-47-39       20      0.666027        0.500480   \n",
       "3  bottomtrack  2024-08-22_14-06-43       52      0.583144        1.486196   \n",
       "4  bottomtrack  2024-08-22_14-29-05       81      0.955224        1.413281   \n",
       "5  bottomtrack  2024-08-22_14-47-39       62      0.666893        1.549473   \n",
       "6          imu  2024-08-22_14-06-43     3580      0.624660       95.518665   \n",
       "7          imu  2024-08-22_14-29-05     6034      1.047727       95.985590   \n",
       "8          imu  2024-08-22_14-47-39     4400      0.746314       98.260668   \n",
       "9          ins  2024-08-22_14-06-43      366      0.637416        9.569885   \n",
       "\n",
       "   mean_altitude  std_altitude  min_altitude  max_altitude   mean_vx  ...  \\\n",
       "0       0.071370      0.294267           0.0      1.213295       NaN  ...   \n",
       "1       0.034753      0.134554           0.0      0.549783       NaN  ...   \n",
       "2       0.194140      0.627895           0.0      2.535765       NaN  ...   \n",
       "3            NaN           NaN           NaN           NaN  0.149354  ...   \n",
       "4            NaN           NaN           NaN           NaN  0.097312  ...   \n",
       "5            NaN           NaN           NaN           NaN  0.093950  ...   \n",
       "6            NaN           NaN           NaN           NaN       NaN  ...   \n",
       "7            NaN           NaN           NaN           NaN       NaN  ...   \n",
       "8            NaN           NaN           NaN           NaN       NaN  ...   \n",
       "9            NaN           NaN           NaN           NaN       NaN  ...   \n",
       "\n",
       "    mean_vz  mean_speed  max_speed  std_speed  valid_data_percent  \\\n",
       "0       NaN         NaN        NaN        NaN                 NaN   \n",
       "1       NaN         NaN        NaN        NaN                 NaN   \n",
       "2       NaN         NaN        NaN        NaN                 NaN   \n",
       "3  0.011192    0.168106   0.279687   0.064454           90.384615   \n",
       "4 -0.000235    0.103959   0.169978   0.023894           98.765432   \n",
       "5  0.009455    0.118712   0.309935   0.054261           74.193548   \n",
       "6       NaN         NaN        NaN        NaN                 NaN   \n",
       "7       NaN         NaN        NaN        NaN                 NaN   \n",
       "8       NaN         NaN        NaN        NaN                 NaN   \n",
       "9       NaN         NaN        NaN        NaN                 NaN   \n",
       "\n",
       "   pos_x_range  pos_y_range  total_distance  mean_pos_x  mean_pos_y  \n",
       "0          NaN          NaN             NaN         NaN         NaN  \n",
       "1          NaN          NaN             NaN         NaN         NaN  \n",
       "2          NaN          NaN             NaN         NaN         NaN  \n",
       "3          NaN          NaN             NaN         NaN         NaN  \n",
       "4          NaN          NaN             NaN         NaN         NaN  \n",
       "5          NaN          NaN             NaN         NaN         NaN  \n",
       "6          NaN          NaN             NaN         NaN         NaN  \n",
       "7          NaN          NaN             NaN         NaN         NaN  \n",
       "8          NaN          NaN             NaN         NaN         NaN  \n",
       "9     4.355668     2.939591        5.947814    4.421946   10.344578  \n",
       "\n",
       "[10 rows x 21 columns]"
      ]
     },
     "metadata": {},
     "output_type": "display_data"
    },
    {
     "name": "stdout",
     "output_type": "stream",
     "text": [
      "💾 Summary exported to: exports/outputs/nucleus1000dvl_detailed_summary.csv\n",
      "✅ Statistical analysis complete!\n"
     ]
    }
   ],
   "source": [
    "\n",
    "# 📊 STATISTICAL SUMMARY AND METRICS\n",
    "# ==================================\n",
    "\n",
    "print(\"📊 Calculating statistical summary and metrics...\")\n",
    "\n",
    "# Calculate summary statistics for all sensors and bags\n",
    "summary_stats = []\n",
    "\n",
    "for sensor in analyzer.available_sensors:\n",
    "    print(f\"\\n🔧 {sensor.upper()} Statistics:\")\n",
    "    \n",
    "    for bag in analyzer.available_bags:\n",
    "        data = analyzer.load_sensor_data(sensor, bag, verbose=False)\n",
    "        \n",
    "        if isinstance(data, dict):\n",
    "            data = data.get(bag)\n",
    "        \n",
    "        if data is not None and len(data) > 0:\n",
    "            \n",
    "            # Basic stats\n",
    "            duration_min = data['t_rel'].max() / 60.0 if 't_rel' in data.columns else 0\n",
    "            sample_rate = len(data) / data['t_rel'].max() if 't_rel' in data.columns and data['t_rel'].max() > 0 else 0\n",
    "            \n",
    "            stats = {\n",
    "                'sensor': sensor,\n",
    "                'bag': bag,\n",
    "                'samples': len(data),\n",
    "                'duration_min': duration_min,\n",
    "                'sample_rate_hz': sample_rate\n",
    "            }\n",
    "            \n",
    "            # Sensor-specific statistics\n",
    "            if sensor == 'bottomtrack' and 'dvl_velocity_xyz.x' in data.columns:\n",
    "                # Filter valid data\n",
    "                valid_mask = data.get('data_valid', pd.Series([True] * len(data))) == True\n",
    "                data_valid = data[valid_mask]\n",
    "                \n",
    "                if len(data_valid) > 0:\n",
    "                    # Velocity statistics\n",
    "                    vx_mean = data_valid['dvl_velocity_xyz.x'].mean()\n",
    "                    vy_mean = data_valid['dvl_velocity_xyz.y'].mean() \n",
    "                    vz_mean = data_valid['dvl_velocity_xyz.z'].mean()\n",
    "                    \n",
    "                    speed = np.sqrt(data_valid['dvl_velocity_xyz.x']**2 + \n",
    "                                  data_valid['dvl_velocity_xyz.y']**2 + \n",
    "                                  data_valid['dvl_velocity_xyz.z']**2)\n",
    "                    \n",
    "                    stats.update({\n",
    "                        'mean_vx': vx_mean,\n",
    "                        'mean_vy': vy_mean,\n",
    "                        'mean_vz': vz_mean,\n",
    "                        'mean_speed': speed.mean(),\n",
    "                        'max_speed': speed.max(),\n",
    "                        'std_speed': speed.std(),\n",
    "                        'valid_data_percent': len(data_valid) / len(data) * 100\n",
    "                    })\n",
    "                    \n",
    "                    print(f\"   📅 {bag}:\")\n",
    "                    print(f\"      💨 Mean speed: {speed.mean():.3f} ± {speed.std():.3f} m/s\")\n",
    "                    print(f\"      🚀 Max speed: {speed.max():.3f} m/s\")\n",
    "                    print(f\"      ✅ Valid data: {len(data_valid)/len(data)*100:.1f}%\")\n",
    "            \n",
    "            elif sensor == 'ins' and 'positionFrame.x' in data.columns:\n",
    "                # Position and trajectory statistics\n",
    "                pos_x_range = data['positionFrame.x'].max() - data['positionFrame.x'].min()\n",
    "                pos_y_range = data['positionFrame.y'].max() - data['positionFrame.y'].min()\n",
    "                \n",
    "                # Calculate total distance traveled\n",
    "                dx = np.diff(data['positionFrame.x'])\n",
    "                dy = np.diff(data['positionFrame.y'])\n",
    "                distances = np.sqrt(dx**2 + dy**2)\n",
    "                total_distance = distances.sum()\n",
    "                \n",
    "                stats.update({\n",
    "                    'pos_x_range': pos_x_range,\n",
    "                    'pos_y_range': pos_y_range,\n",
    "                    'total_distance': total_distance,\n",
    "                    'mean_pos_x': data['positionFrame.x'].mean(),\n",
    "                    'mean_pos_y': data['positionFrame.y'].mean()\n",
    "                })\n",
    "                \n",
    "                print(f\"   📅 {bag}:\")\n",
    "                print(f\"      📍 Position range: X={pos_x_range:.2f}m, Y={pos_y_range:.2f}m\")\n",
    "                print(f\"      🛣️  Total distance: {total_distance:.2f}m\")\n",
    "            \n",
    "            elif sensor == 'altimeter' and 'altimeter_distance' in data.columns:\n",
    "                # Altimeter statistics\n",
    "                alt_mean = data['altimeter_distance'].mean()\n",
    "                alt_std = data['altimeter_distance'].std()\n",
    "                alt_min = data['altimeter_distance'].min()\n",
    "                alt_max = data['altimeter_distance'].max()\n",
    "                \n",
    "                stats.update({\n",
    "                    'mean_altitude': alt_mean,\n",
    "                    'std_altitude': alt_std,\n",
    "                    'min_altitude': alt_min,\n",
    "                    'max_altitude': alt_max\n",
    "                })\n",
    "                \n",
    "                print(f\"   📅 {bag}:\")\n",
    "                print(f\"      🌊 Altitude: {alt_mean:.2f} ± {alt_std:.2f}m\")\n",
    "                print(f\"      📏 Range: {alt_min:.2f} - {alt_max:.2f}m\")\n",
    "            \n",
    "            summary_stats.append(stats)\n",
    "\n",
    "# Create summary DataFrame\n",
    "if summary_stats:\n",
    "    summary_df = pd.DataFrame(summary_stats)\n",
    "    \n",
    "    print(f\"\\n📋 Overall Summary:\")\n",
    "    print(f\"   📊 Total datasets: {len(summary_df)}\")\n",
    "    print(f\"   ⏱️  Total duration: {summary_df['duration_min'].sum():.1f} minutes\")\n",
    "    \n",
    "    # Display summary table\n",
    "    print(f\"\\n📊 Summary Table:\")\n",
    "    display(summary_df.head(10))\n",
    "    \n",
    "    # Export summary if requested\n",
    "    if EXPORT_SUMMARY:\n",
    "        output_path = Path(OUTPUT_FOLDER) / \"nucleus1000dvl_detailed_summary.csv\"\n",
    "        output_path.parent.mkdir(parents=True, exist_ok=True)\n",
    "        summary_df.to_csv(output_path, index=False)\n",
    "        print(f\"💾 Summary exported to: {output_path}\")\n",
    "\n",
    "print(\"✅ Statistical analysis complete!\")\n"
   ]
  },
  {
   "cell_type": "code",
   "execution_count": 11,
   "id": "81fc9aa4",
   "metadata": {},
   "outputs": [
    {
     "name": "stdout",
     "output_type": "stream",
     "text": [
      "🎛️ Creating interactive dashboard...\n",
      "📊 Creating dashboard for bag: 2024-08-22_14-06-43\n",
      "📊 Dashboard saved to: exports/outputs/nucleus1000dvl_dashboard.html\n",
      "✅ Interactive dashboard created!\n",
      "🌐 Dashboard saved to exports/outputs/nucleus1000dvl_dashboard.html\n"
     ]
    },
    {
     "data": {
      "application/vnd.plotly.v1+json": {
       "config": {
        "plotlyServerURL": "https://plot.ly"
       },
       "data": [
        {
         "line": {
          "color": "purple"
         },
         "name": "ALT",
         "type": "scatter",
         "x": {
          "bdata": "AAAAAAAAAACJiIiILFOfP7y7u7vp4a8/ERERESa4tz9VVVXVbyrAP////39eisU/393dXep2yT9mZmbmd13OP4mIiAjkJ9E/zczMjGIu0z9mZmamYyvVP3d3d/dwOdc/3t3dXfTb2z9WVVXVBePdP5qZmRkh4d8/ERER8f8L4T8zMzPznA3iPw==",
          "dtype": "f8"
         },
         "xaxis": "x",
         "y": {
          "bdata": "AAAAAAAAAAAAAAAAAAAAAAAAAAAAAAAAAAAAAAAAAAAAAAAAAAAAAAAAAAAAAAAAAAAAAAAAAAAAAAAAAAAAAAAAAAAAAAAAAAAAAAAAAAAAAAAAAAAAAAAAAAAAAAAAAAAAAAAAAAAAAAAAAAAAAAAAAGCoafM/AAAAAAAAAAAAAAAAAAAAAA==",
          "dtype": "f8"
         },
         "yaxis": "y"
        },
        {
         "line": {
          "color": "red"
         },
         "name": "VX",
         "type": "scatter",
         "x": {
          "bdata": "EREREYGCkD/v7u7uhpGYPxERERFtGaA/VVVVVVcMqD/e3d3d+/+rP+7u7u6I7a8/IiIiIjbKsz+amZmZP9G1P83MzMwyx7c/vLu7u8g5vz8iIiKiwp/APwAAAADJmcE/MzMzs5Sfwz/v7u5uLpLEP2dmZub/jMU/7+7ubqSTxz+8u7s7rS7JP+/u7m6dfMo/3t3d3cCDzD+rqqqqiFzNPwAAAIBCXs4/vLu7e8s10D+amZnZw7fQPzMzM7PENNE/AAAAwMdA0j93d3d327nSP1VVVdXaLtM/zczMjNlB1D9VVVXVQMPUP6uqquqdSNU/IyIiIs221z/e3d2dW0HYPwAAAEC1wtg/zczMjDTk2D/NzMzMcmXZP83MzMwi69k/mpmZWUD72j+bmZlZsu3bP3d3d3c/c90/VVVV1Z3w3T9mZmYmBe/eP2ZmZqYAjd8/3t3dPQTS4D+JiIhICQ/hP6uqqiqQmuE/ERERsZlo4j9mZmYmHqniPw==",
          "dtype": "f8"
         },
         "xaxis": "x2",
         "y": {
          "bdata": "/v//30G7zj////+/hZ7LP////x/9mso/////f40j0D/+////RW/KP////9+b2sA/AAAAYIoRzD/9//9/u2PKP/3//z+v1sk//////5cQyz////+/xE7PPwAAAIAQXcg/////f5OPzD8AAAAADFnHP////7/W2Mg/////3yNixD/+////+oLIPwAAAOBnN8g//f//nwLCyT////+ffwbNP/7//z/W38g/AAAAwDSoyj/+//8f/6nHP/3//x/qdMk/AAAAoO++xj8AAABA/obEP/7//3/yHso/////3yePzD/+//8fAw3IPwAAAMD/4sk/AAAAQBoLyD////8f5aPAPwAAAOC6Lbk/+////zFksD/+////xVmmP/z//3/hSqw/4v//X3nQjj////9/eZasPwAAAABNgak/9f//3wnylz/p//9f//CYP/7//3/2Yac/+v//H2IVoj/7//8fCaOsP+7//x/F4Z4/8///3wRRnj/z//+/s5yjPw==",
          "dtype": "f8"
         },
         "yaxis": "y2"
        },
        {
         "line": {
          "color": "green"
         },
         "name": "VY",
         "type": "scatter",
         "x": {
          "bdata": "EREREYGCkD/v7u7uhpGYPxERERFtGaA/VVVVVVcMqD/e3d3d+/+rP+7u7u6I7a8/IiIiIjbKsz+amZmZP9G1P83MzMwyx7c/vLu7u8g5vz8iIiKiwp/APwAAAADJmcE/MzMzs5Sfwz/v7u5uLpLEP2dmZub/jMU/7+7ubqSTxz+8u7s7rS7JP+/u7m6dfMo/3t3d3cCDzD+rqqqqiFzNPwAAAIBCXs4/vLu7e8s10D+amZnZw7fQPzMzM7PENNE/AAAAwMdA0j93d3d327nSP1VVVdXaLtM/zczMjNlB1D9VVVXVQMPUP6uqquqdSNU/IyIiIs221z/e3d2dW0HYPwAAAEC1wtg/zczMjDTk2D/NzMzMcmXZP83MzMwi69k/mpmZWUD72j+bmZlZsu3bP3d3d3c/c90/VVVV1Z3w3T9mZmYmBe/eP2ZmZqYAjd8/3t3dPQTS4D+JiIhICQ/hP6uqqiqQmuE/ERERsZlo4j9mZmYmHqniPw==",
          "dtype": "f8"
         },
         "xaxis": "x2",
         "y": {
          "bdata": "+P//v1wupL/z///fSaqmP/X//z/dHKg//f//P3Qzsb/m//9/vBqRP/3//7+MhaQ/9P//36O4r7/m//8/Go6JP/j//99kRJc/7f//Xyp7k78n////qShmv/f//1/KqY0//v//fy/ooL/w//8/E2efP+X//18Z7JC/////vwMdmz81+v8/Zms1P7P//9/s03S//v//38XTnD/q//9/dchyP+///9+cV52/+P//fwdDlD/z//9fIRiHP9r//58jAIS/8f//nwdCkD/6//9f7LGHv8///19W6oi/8f//n40vcr/e//8/1E12v+7//1/dJ4O/6P7/Py1mRz/8//+f/SmqvwAAAIDbhrS/n///v1tweT////9/sjiRPwAAAGBl56e/SP3//+AoQj/1////AQaov/v//7/c9rG/6f//H3GZkr/8//9f9aGtv/v//58dk7e//P//ny6esr/6//9fp7a0v/r//789lrG/+f//H47Oq7/8////0Hu8vw==",
          "dtype": "f8"
         },
         "yaxis": "y2"
        },
        {
         "line": {
          "color": "blue"
         },
         "name": "VZ",
         "type": "scatter",
         "x": {
          "bdata": "EREREYGCkD/v7u7uhpGYPxERERFtGaA/VVVVVVcMqD/e3d3d+/+rP+7u7u6I7a8/IiIiIjbKsz+amZmZP9G1P83MzMwyx7c/vLu7u8g5vz8iIiKiwp/APwAAAADJmcE/MzMzs5Sfwz/v7u5uLpLEP2dmZub/jMU/7+7ubqSTxz+8u7s7rS7JP+/u7m6dfMo/3t3d3cCDzD+rqqqqiFzNPwAAAIBCXs4/vLu7e8s10D+amZnZw7fQPzMzM7PENNE/AAAAwMdA0j93d3d327nSP1VVVdXaLtM/zczMjNlB1D9VVVXVQMPUP6uqquqdSNU/IyIiIs221z/e3d2dW0HYPwAAAEC1wtg/zczMjDTk2D/NzMzMcmXZP83MzMwi69k/mpmZWUD72j+bmZlZsu3bP3d3d3c/c90/VVVV1Z3w3T9mZmYmBe/eP2ZmZqYAjd8/3t3dPQTS4D+JiIhICQ/hP6uqqiqQmuE/ERERsZlo4j9mZmYmHqniPw==",
          "dtype": "f8"
         },
         "xaxis": "x2",
         "y": {
          "bdata": "/P//37jJvL/t////bs6AP/j//59Au68/AAAAwP/Aub/l//9fGRiXv/z//9/AkrE//P//39BEsL/5//9/FMyqP/P//9+WS6M/3///P7TVfD/d//9fKaWJP////19EnbM/8v//n8+For8AAACg49y1P/v//5/MHaC/+///fx0XuD/T//+/O7mBv/n//98oT64//v//38X2sj/0////ObyeP/T//98RWqI/////P+NeoT/7//+fITugP+H//7/F0YM/+P//35m1kj/9////IqGFv8j+/38nrVM/2v//P85MjT/4//8/IM2Fv+T//5/DDpm/9v//fw6Vq7/+//8/zpG6v/7//1+VHbO/7P//Xylbjj/2//+fCkKoP////1847Ko/////fzjSnj////9fOKycPwAAAABJ2qo//v//n7Foqj/S//8fuVZ3P/j//98bvoE/2v//H53ufj/t//9f/X+LP/L//9+mfZg/4///X2G6ij/6//8fbu6RPw==",
          "dtype": "f8"
         },
         "yaxis": "y2"
        },
        {
         "line": {
          "color": "red"
         },
         "name": "POS_X",
         "type": "scatter",
         "x": {
          "bdata": "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",
          "dtype": "f8"
         },
         "xaxis": "x4",
         "y": {
          "bdata": "AAAAALiLAEAAAAAAZJ0AQAAAAADKrwBAAAAAgDuqAEAAAABALZEAQAAAAMA1eABA/////1NfAEAAAABgN0cAQAAAAKC2QQBAAAAAYApGAEAAAACASUoAQAAAAGBuTgBAAAAAoBBTAEAAAAAgw18AQAAAAIB5bwBAAAAAgNV+AEAAAACgpY0AQAAAAMA/nQBAAAAAwNKrAEAAAADgWroAQAAAAAC6yABAAAAAIC/XAEAAAABgmeYAQAAAAEBl+ABAAAAAoKQJAUAAAABgeRsBQAAAAGDjLAFAAAAAoKM/AUAAAACgRVEBQAAAAIDrXQFAAAAAIElqAUAAAAAgq3YBQAAAAGCIhAFAAAAAACKWAUAAAADgw6YBQAAAAMAGtgFAAAAAAEXDAUAAAABAqs4BQAAAAEBp2AFAAAAA4JvgAUAAAADAd+cBQAAAAGA87QFAAAAAgFPyAUAAAABADRMCQAAAAODCRAJAAAAAoBF3AkAAAACg8akCQAAAAIDI3gJAAAAAQAALA0AAAAAAEC8DQAAAAGA5UwNAAAAAAER3A0AAAAAA2ZsDQAAAACD9vANAAAAAADfZA0AAAABAN/UDQAAAAIABEQRAAAAAoAAuBEAAAAAgAUoEQAAAAIAIZwRAAAAAwAiEBEABAACglKAEQAAAAGCHvgRAAAAAwBbsBEAAAAAgRSEFQAAAAAD7VgVAAAAAoFGMBUAAAABAH8MFQAAAAABM8QVAAAAAgPkYBkAAAABAwUAGQAAAAAAOaAZAAAAAwMqPBkABAADgJasGQAAAAKA1vAZAAAAAoOfMBkAAAABAxtwGQAAAAIBp7AZAAAAAgJ/7BkAAAABAQAoHQAAAAKDpGAdAAAAAIIknB0AAAADg+DYHQAAAAIC+WAdAAAAA4AGGB0AAAABAnrMHQAAAAKAz4QdAAAAA4MwOCEAAAADAIzQIQAAAAGB7UwhA/////1FyCEAAAACAS5EIQAAAAACWsAhAAAAA4JjQCEAAAABgyu8IQAAAAKCWDglAAAAAQEcsCUAAAAAg60kJQAAAAIDCZglAAAAAgJqCCUAAAABApp0JQAAAAIB8uAlAAAAA4OPTCUAAAADAyvIJQAAAAMDHEwpAAAAAgGA0CkAAAADgclUKQAAAAMDfdwpAAAAAgN+eCkAAAABgOcgKQAAAAMAO1QpAAAAAgBEdC0AAAABgw0cLQAAAAIDuZgtAAAAAgEaEC0AAAAAghJ4LQAAAAED1uAtAAAAAIITUC0ABAADg5e8LQAAAAIAVCwxAAAAAwKsmDEAAAADgBkIMQAAAAOBTXQxAAAAAIIeDDEAAAADgsK8MQAAAAECE3AxAAAAA4EcJDUABAABAPTYNQAAAAIAwWQ1A////n0p0DUAAAABgAo8NQAAAACD2qQ1AAAAAQMfFDUAAAADg6OgNQAAAAACIDw5AAAAAoHE2DkAAAAAAIF0OQAEAAGA+hA5AAAAAII+rDkD///8/b9MOQAAAAGBQ+w5AAAAAoOIiD0D///+ffEoPQAAAAOBIaA9AAAAA4K9+D0AAAABgXJQPQAAAAEBFqQ9AAAAAILe9D0ABAAAg7doPQAAAAGCK/g9AAAAAgDAREEAAAADgHyMQQAAAAOABNRBAAAAAIJBEEEAAAABg4FIQQAAAAAAQYRBAAAAAAHRiEEAAAACgQH0QQAAAAEAwixBAAAAAoN+YEEAAAACgvaYQQAAAAMBTtBBAAAAAQBu+EEAAAADADd8QQAAAAIB/7RBAAAAAILb7EEAAAABANwoRQAAAAOBrGxFAAAAAwDwuEUAAAADAIEERQAAAACAXVBFAAAAAYAVnEUAAAAAgOXgRQAAAAMD5hxFAAAAAIKaXEUAAAAAASacRQAAAAGAltxFAAAAAALrGEUAAAAAAU9YRQAAAAGAE5hFAAAAAAJ/1EUAAAABgUwUSQAAAAKDVFRJAAAAAgL4mEkAAAABglTcSQAAAAOBrSBJAAAAAIGRZEkAAAADASmkSQAAAAKA6eBJAAAAAQCWHEkAAAACgEJYSQAAAAKArpRJAAAAAING1EkAAAABgTMcSQAAAAGCs2BJAAAAAgDLqEkAAAAAg1fsSQAAAAEBvDRNAAAAAoOAeE0AAAABAZDATQAAAAAD7QRNAAAAAgLFTE0AAAAAACGQTQAAAAGAYcxNAAAAA4DSCE0AAAADA9ZATQAAAAOAinxNAAAAAoFStE0AAAADA/7oTQAAAAGCLyBNAAAAAQD7WE0AAAACgz+MTQAAAAABu8xNAAAAAQAEEFEAAAADg4BQUQAAAAEDeJRRAAAAAAAE3FEAAAACgQ0gUQAAAAICQWRRAAAAA4BhrFEAAAADg0HwUQAAAACC7jhRAAAAAQGuhFEAAAACgvLQUQAAAAADXxxRAAAAAQFLbFEAAAADADe8UQAAAAACaARVAAAAAoGkTFUAAAABgaiUVQAAAACAVNxVAAAAAgPNIFUAAAACAb1wVQAAAAECtcBVAAAAAoPaEFUAAAACAGJkVQAAAAGAsrRVAAAAAYJvBFUAAAACA49UVQAAAAAAB6hVAAAAAgKj+FUAAAACAThMWQAAAAKBsJxZAAAAAwBE7FkAAAABgx04WQAAAAOB+YhZAAAAAYD92FkAAAAAANYcWQAAAAIBDlhZAAAAAADalFkAAAACgA7QWQAAAAEClwhZAAAAAwJbJFkAAAACAyDUXQAAAAIDEPBdAAAAAwNxDF0AAAAAAHUsXQAAAACD6URdAAAAAoOxXF0AAAAAgAF4XQAAAAAAlZBdAAAAA4FBqF0AAAABgEXAXQAAAAKA9dxdAAAAAwEaAF0AAAABAQokXQAAAAEA9khdAAAAAAOOaF0AAAABAxaMXQAAAAAChrBdAAAAAYGq1F0AAAADgJL4XQAAAAKCXxhdAAAAAgJHLF0AAAADgzc4XQAAAAEAH0hdAAAAAgELVF0AAAABgL9gXQAAAAOCz2hdAAAAAYB3dF0AAAAAAa98XQAAAAACe4RdAAAAAgLfjF0AAAADA9ugXQAAAAICL8BdAAAAAQA/4F0AAAACAqf8XQAAAAOAMBxhAAAAAQJwOGEAAAAAAOxYYQAAAAODZHRhAAAAAgHElGEAAAAAA3SwYQAAAAOCtMxhAAAAAQC46GEAAAADAXUAYQAAAAEBARhhAAAAA4NlLGEAAAABA4FIYQAAAAIA1WxhAAAAAYIRjGEAAAACA1GsYQAAAAMDicxhAAAAAIBV6GEAAAAAgVH8YQAAAAECOhBhAAAAA4MqJGEAAAACA5o4YQAAAAGAQlBhAAAAAYEKZGEAAAAAgdZ4YQAAAAKCjoxhAAAAAIL2oGEAAAABAjawYQAAAAGDhrxhAAAAAgDGzGEAAAADgerYYQAAAAKCbuRhAAAAAgAO+GEAAAACAg8MYQAAAAID5yBhAAAAAAGbOGEAAAABApdMYQAAAAICX2BhAAAAAoEndGEAAAADAu+EYQAAAACDy5RhAAAAAwO/pGEAAAACguO0YQAAAAKBP8RhAAAAAoLf0GEAAAABg8/cYQAAAAKAF+xhAAAAAoPD9GEAAAACAtgAZQAAAAABZAxlAAAAAINoFGUAAAADAOwgZQAAAACB8CxlAAAAAYGwPGUAAAABgXRMZQAAAAMBNFxlAAAAAYC8bGUAAAADgTyAZQAAAAABeJhlAAAAAQGssGUAAAADgdTIZQAAAAOB1OBlAAAAAYHs+GUAAAADAf0QZQAAAAECCShlAAAAAgIJQGUAAAACgfFYZQAAAAKByWxlAAAAAIMRfGUAAAAAgFWQZQAAAAKBkaBlAAAAAILJsGUAAAACAjHAZQAAAAOAhdBlAAAAAALd3GUAAAAAATHsZQAAAAGDgfhlAAAAAgD6DGUAAAAAAJogZQAAAAKAPjRlA",
          "dtype": "f8"
         },
         "yaxis": "y4"
        },
        {
         "line": {
          "color": "green"
         },
         "name": "POS_Y",
         "type": "scatter",
         "x": {
          "bdata": "AAAAAAAAAADFzMzMTFZZP/7///8fJWk/RERERATscz//////jy96PyIiIiKKOYA/VVVVVd1ggz9mZmZmXnqGP97d3d11nYk/VVVVVe24jD8BAAAAUNKPP97d3d1BfJE/AAAAAPwIkz9EREREBJ6UPzIzMzOfM5Y/RERERLQFmD8zMzMzqx2aP97d3d0R7Js/zczMzNjCnT8RERERtVOfPwEAAAA4cqA/RERERIZdoT9VVVVVWwWiP+/u7u7grKI/VVVVVc2Toz+amZmZbV6kP+/u7u7UJqU/zczMzDrKpT93d3d3RXamPwAAAACmPac/VVVVVS0FqD93d3d3ccuoPxERERH1kqk/IiIiIsw6qj+JiIiIlAGrP5qZmZnxyas/VVVVVT21rD8iIiIi8n6tPwAAAAAkSq4/RERERHp4rz8zMzMzPh6wP0VEREQ0hLA/3t3d3QjYsD8iIiIizjuxP83MzMw7wbE/IiIiImslsj/NzMzMEZuyPwAAAADo7bI/ZmZmZrJAsz8AAAAAV6SzP7y7u7vrCbQ/RERERLxutD+rqqqqRtW0P4mIiIgSKrU/EREREZSdtT8AAAAAwwG2PyIiIiISZ7Y/zczMzKzbtj8RERER2j+3P3d3d3f+orc/ERERETQHuD/v7u7ug2y4P83MzMywz7g/AAAAAJcjuT8RERERYZq5PxERERG+/7k/EREREQ5luj/e3d3dD7m6P1VVVVVIHbs/q6qqqtaEuz/v7u7u9ee7P97d3d0FXLw/q6qqqj7AvD+8u7u78RG9P97d3d0Tdb0/7+7u7mLavT9VVVVVmz6+P1VVVVXdor4/MzMzM/8Fvz8zMzMzZ2i/P4mIiIhJvL8/EREREeEXwD8iIiIiTkHAP3d3d/fIc8A/EREREbGmwD9VVVXVQdjAP83MzExeCsE/AAAAAH48wT8RERGR43bBP83MzMw7qME/MzMzs3/awT+rqqqqEhbCPwAAAIBsP8I/iYiIiBtqwj93d3d3M/fCP6uqqirAMcM/zczMzGdkwz9FRETExp/DP4mIiIhY0cM/VVVV1aphxT8RERGR3ZTFP3d3d3fIxsU/3t3dXb/wxT9WVVXV7jPGP2VmZmb8bcY/MzMzMxOgxj+9u7s7L9LGPxIREZGb+8Y/ZmZm5nUuxz//////F2HHP97d3V3jcMc/ERERkdnLxz8zMzMzif7HPyIiIiK/H8g/AAAAgBFayD8AAAAAbZTIP0VERMSvzsg/IiIiokAAyT/d3d3dXDLJP97d3d0pZMk/VVVV1dWWyT/NzMzMfsnJPyIiIiIS+8k/d3d3d0cuyj+JiIiIH2DKPzMzM7OOkco/ioiICADEyj/w7u7uOe7KPwAAAIC7KMs/vLu7uy1byz9VVVXVy43LPwAAAACfyMs/RERExLzxyz93d3d3rRvMP97d3d3ETcw/RERExAiIzD/e3d3dJLrMP7y7uzvR7Mw/7+7ubl0ezT9ERETEkFHNP2ZmZuaVgs0/ioiICCLGzT+bmZkZh+/NP1ZVVVWVGc4/EREREbBUzj+7u7u7US/PP2ZmZuZUYc8/MzMzs0OLzz9ERETEWr3PP5qZmRl3788/VVVV1eEU0D9VVVWVVlfQP4mIiMiQbNA/3t3d3VuF0D/d3d3daZ7QP6uqquokt9A/q6qq6iS30D9VVVUVaOnQPzMzM7OKAtE/3t3dXXMk0T9ERETEyT3RP83MzIyRVtE/q6qqKtBr0T9mZmbmMpXRP5qZmdmKrtE/ERERUVPH0T/e3d1dSdzRP+/u7u4P9dE/mpmZmTcS0j/NzMyMQivSP2ZmZmZURNI/MzMzsyFd0j8RERFRi3rSP7y7uzudl9I/MzMzM3O10j8zMzNzHs7SP7y7u/vQ4tI/REREhLH/0j8AAABAvRjTPwAAAAD4MdM/IiIiYsNK0z/d3d2d0mPTP3d3dzc4gdM/3t3dnWya0z+amZmZMrPTPyMiIqJrzNM/3t3d3cbl0z/e3d1dv/rTPyIiIiJGE9Q/iYiIiKsw1D+JiIhIFU7UP3l3d7fHYtQ/vLu7Ox581D8iIiLiLJXUP8zMzEyWstQ/eXd397zP1D9EREREJu3UP4mIiEi9BtU/ZmZm5oof1T+JiIhIxEDVP4mIiEgYWtU/mpmZWSpz1T8iIiIik4fVP83MzMyjoNU/vLu7e9W51T95d3d3C9PVP2ZmZuY17NU/ERERkegA1j9UVVUVsRnWP97d3V3GMtY/q6qqqrpH1j+8u7t7PWHWP6uqqurrddY/VFVV1Q+T1j+rqqoqx6vWP5uZmdkAzdY/3t3dnRHm1j8iIiKieAPXPzMzM3OUHNc/RERExJQ11z+amZmZylLXP97d3Z3cb9c/q6qq6pKN1z8AAADAWKbXP1VVVVUlv9c/vLu7uzHY1z+rqqrqRvHXPwAAAABpDtg/VlVV1TMn2D+rqqoqbkTYPxEREZH5Xdg/VVVV1eN22D8iIiJi5I/YPxERERHxqNg/q6qq6kLC2D/v7u7uat/YP0REREQc9Ng/7+7urnAN2T8RERFRnyrZPyIiIuK+Q9k/EREREc1c2T8jIiKi0uTaP97d3V3u+do/d3d3d/wS2z9VVVVVZjDbP5qZmZlBVts/REREBF5v2z+HiIgIKIjbP6uqquo6ods/vLu7e0C62z8iIiIiqtfbP7y7u7sT9ds/q6qq6oT92z9VVVXVyS/cP2ZmZmYQTdw/iYiISNdl3D9VVVUVCX/cP5qZmdl1k9w/vLu7u8ms3D/e3d2d8cncPxEREVGT69w/AAAAgCkE3T8zMzOzIxndPxEREREgLt0/ERERkeRG3T9ERETEKWDdPxEREVGPfd0/7+7uLrOa3T+8u7s7Z7jdP3d3d3dw0d0/iYiISGPv3T9mZmYmIQzeP9/d3Z2LKd4/q6qqagxC3j8RERGRX1veP+/u7i63dN4/IiIiYoCN3j8RERFRe6LePzMzM7Mtt94/VVVVFdDU3j9mZmam9O3eP6uqqmoqC98/zczMzBAg3z8QERGRxzTfPxEREZHRTd8/VVVVlZhr3z/e3d3dXYTfPwAAAICxnd8/IiIiYr+23z+7u7s7s9ffP4mIiIgf9d8/VVVV1RYH4D+8u7tbsxPgP1VVVVU8IOA/vLu7O9Is4D9mZmaGgTngPxEREZEURuA/zczMTKFQ4D/e3d1dUl/gPzMzMxPXa+A/AAAAgE544D8iIiJC1ITgP1VVVTV+keA/ZmZmZvqb4D9EREQkYKjgP1VVVVUWt+A/7+7uDpzD4D9VVVUV78/gP0RERERr2uA/7+7uLiLp4D8RERFxqPXgP3d3dxcNAuE/NDMzU4UO4T+JiIgoABnhP2ZmZkZkJeE/7+7uzv0x4T+JiIiI/07hP1VVVbVjW+E/mpmZuThs4T+rqqoK8nzhP6uqquqOjeE/ZmZmpkOc4T93d3e3tarhP+/u7u5Ht+E/q6qqauXD4T/e3d1datDhP1VVVTUf3+E/mpmZOabr4T+8u7t7CvjhP5qZmTmuBuI/AAAAQDUT4j8RERGx0B/iP2ZmZmauLuI/mpmZ2QI54j+rqqpqiUXiP97d3f3sUeI/3t3dHXRe4j/e3d0dBmniP97d3T1vc+I/q6qqymKE4j8zMzNTAJHiP7y7u3uZneI/ZmZmRjio4j93d3eXkbLiPxERERGMx+I/ZmZmJhHU4j8iIiJiduDiPzMzMxMf7eI/IiIiQrL74j+JiIjoTQzjP3d3dxe1GOM/vLu7Wzgn4z+amZkZtjHjP3d3d7cYPOM/3t3dvcJK4z8iIiLiGVfjP97d3f3DY+M/iYiIyND/4z9ERERkFwrkPyIiIkKnFuQ/IiIiggsj5D/e3d29njHkP7y7u5tCQOQ/REREJMtM5D8RERERHlnkP2ZmZsa2ZeQ/",
          "dtype": "f8"
         },
         "xaxis": "x4",
         "y": {
          "bdata": "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",
          "dtype": "f8"
         },
         "yaxis": "y4"
        },
        {
         "line": {
          "color": "blue"
         },
         "name": "POS_Z",
         "type": "scatter",
         "x": {
          "bdata": "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",
          "dtype": "f8"
         },
         "xaxis": "x4",
         "y": {
          "bdata": "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",
          "dtype": "f8"
         },
         "yaxis": "y4"
        }
       ],
       "layout": {
        "annotations": [
         {
          "font": {
           "size": 16
          },
          "showarrow": false,
          "text": "ALTIMETER",
          "x": 0.5,
          "xanchor": "center",
          "xref": "paper",
          "y": 1,
          "yanchor": "bottom",
          "yref": "paper"
         },
         {
          "font": {
           "size": 16
          },
          "showarrow": false,
          "text": "BOTTOMTRACK",
          "x": 0.5,
          "xanchor": "center",
          "xref": "paper",
          "y": 0.825,
          "yanchor": "bottom",
          "yref": "paper"
         },
         {
          "font": {
           "size": 16
          },
          "showarrow": false,
          "text": "IMU",
          "x": 0.5,
          "xanchor": "center",
          "xref": "paper",
          "y": 0.65,
          "yanchor": "bottom",
          "yref": "paper"
         },
         {
          "font": {
           "size": 16
          },
          "showarrow": false,
          "text": "INS",
          "x": 0.5,
          "xanchor": "center",
          "xref": "paper",
          "y": 0.475,
          "yanchor": "bottom",
          "yref": "paper"
         },
         {
          "font": {
           "size": 16
          },
          "showarrow": false,
          "text": "MAGNETOMETER",
          "x": 0.5,
          "xanchor": "center",
          "xref": "paper",
          "y": 0.3,
          "yanchor": "bottom",
          "yref": "paper"
         },
         {
          "font": {
           "size": 16
          },
          "showarrow": false,
          "text": "WATERTRACK",
          "x": 0.5,
          "xanchor": "center",
          "xref": "paper",
          "y": 0.125,
          "yanchor": "bottom",
          "yref": "paper"
         }
        ],
        "height": 1800,
        "hovermode": "x unified",
        "template": {
         "data": {
          "bar": [
           {
            "error_x": {
             "color": "#2a3f5f"
            },
            "error_y": {
             "color": "#2a3f5f"
            },
            "marker": {
             "line": {
              "color": "#E5ECF6",
              "width": 0.5
             },
             "pattern": {
              "fillmode": "overlay",
              "size": 10,
              "solidity": 0.2
             }
            },
            "type": "bar"
           }
          ],
          "barpolar": [
           {
            "marker": {
             "line": {
              "color": "#E5ECF6",
              "width": 0.5
             },
             "pattern": {
              "fillmode": "overlay",
              "size": 10,
              "solidity": 0.2
             }
            },
            "type": "barpolar"
           }
          ],
          "carpet": [
           {
            "aaxis": {
             "endlinecolor": "#2a3f5f",
             "gridcolor": "white",
             "linecolor": "white",
             "minorgridcolor": "white",
             "startlinecolor": "#2a3f5f"
            },
            "baxis": {
             "endlinecolor": "#2a3f5f",
             "gridcolor": "white",
             "linecolor": "white",
             "minorgridcolor": "white",
             "startlinecolor": "#2a3f5f"
            },
            "type": "carpet"
           }
          ],
          "choropleth": [
           {
            "colorbar": {
             "outlinewidth": 0,
             "ticks": ""
            },
            "type": "choropleth"
           }
          ],
          "contour": [
           {
            "colorbar": {
             "outlinewidth": 0,
             "ticks": ""
            },
            "colorscale": [
             [
              0,
              "#0d0887"
             ],
             [
              0.1111111111111111,
              "#46039f"
             ],
             [
              0.2222222222222222,
              "#7201a8"
             ],
             [
              0.3333333333333333,
              "#9c179e"
             ],
             [
              0.4444444444444444,
              "#bd3786"
             ],
             [
              0.5555555555555556,
              "#d8576b"
             ],
             [
              0.6666666666666666,
              "#ed7953"
             ],
             [
              0.7777777777777778,
              "#fb9f3a"
             ],
             [
              0.8888888888888888,
              "#fdca26"
             ],
             [
              1,
              "#f0f921"
             ]
            ],
            "type": "contour"
           }
          ],
          "contourcarpet": [
           {
            "colorbar": {
             "outlinewidth": 0,
             "ticks": ""
            },
            "type": "contourcarpet"
           }
          ],
          "heatmap": [
           {
            "colorbar": {
             "outlinewidth": 0,
             "ticks": ""
            },
            "colorscale": [
             [
              0,
              "#0d0887"
             ],
             [
              0.1111111111111111,
              "#46039f"
             ],
             [
              0.2222222222222222,
              "#7201a8"
             ],
             [
              0.3333333333333333,
              "#9c179e"
             ],
             [
              0.4444444444444444,
              "#bd3786"
             ],
             [
              0.5555555555555556,
              "#d8576b"
             ],
             [
              0.6666666666666666,
              "#ed7953"
             ],
             [
              0.7777777777777778,
              "#fb9f3a"
             ],
             [
              0.8888888888888888,
              "#fdca26"
             ],
             [
              1,
              "#f0f921"
             ]
            ],
            "type": "heatmap"
           }
          ],
          "histogram": [
           {
            "marker": {
             "pattern": {
              "fillmode": "overlay",
              "size": 10,
              "solidity": 0.2
             }
            },
            "type": "histogram"
           }
          ],
          "histogram2d": [
           {
            "colorbar": {
             "outlinewidth": 0,
             "ticks": ""
            },
            "colorscale": [
             [
              0,
              "#0d0887"
             ],
             [
              0.1111111111111111,
              "#46039f"
             ],
             [
              0.2222222222222222,
              "#7201a8"
             ],
             [
              0.3333333333333333,
              "#9c179e"
             ],
             [
              0.4444444444444444,
              "#bd3786"
             ],
             [
              0.5555555555555556,
              "#d8576b"
             ],
             [
              0.6666666666666666,
              "#ed7953"
             ],
             [
              0.7777777777777778,
              "#fb9f3a"
             ],
             [
              0.8888888888888888,
              "#fdca26"
             ],
             [
              1,
              "#f0f921"
             ]
            ],
            "type": "histogram2d"
           }
          ],
          "histogram2dcontour": [
           {
            "colorbar": {
             "outlinewidth": 0,
             "ticks": ""
            },
            "colorscale": [
             [
              0,
              "#0d0887"
             ],
             [
              0.1111111111111111,
              "#46039f"
             ],
             [
              0.2222222222222222,
              "#7201a8"
             ],
             [
              0.3333333333333333,
              "#9c179e"
             ],
             [
              0.4444444444444444,
              "#bd3786"
             ],
             [
              0.5555555555555556,
              "#d8576b"
             ],
             [
              0.6666666666666666,
              "#ed7953"
             ],
             [
              0.7777777777777778,
              "#fb9f3a"
             ],
             [
              0.8888888888888888,
              "#fdca26"
             ],
             [
              1,
              "#f0f921"
             ]
            ],
            "type": "histogram2dcontour"
           }
          ],
          "mesh3d": [
           {
            "colorbar": {
             "outlinewidth": 0,
             "ticks": ""
            },
            "type": "mesh3d"
           }
          ],
          "parcoords": [
           {
            "line": {
             "colorbar": {
              "outlinewidth": 0,
              "ticks": ""
             }
            },
            "type": "parcoords"
           }
          ],
          "pie": [
           {
            "automargin": true,
            "type": "pie"
           }
          ],
          "scatter": [
           {
            "fillpattern": {
             "fillmode": "overlay",
             "size": 10,
             "solidity": 0.2
            },
            "type": "scatter"
           }
          ],
          "scatter3d": [
           {
            "line": {
             "colorbar": {
              "outlinewidth": 0,
              "ticks": ""
             }
            },
            "marker": {
             "colorbar": {
              "outlinewidth": 0,
              "ticks": ""
             }
            },
            "type": "scatter3d"
           }
          ],
          "scattercarpet": [
           {
            "marker": {
             "colorbar": {
              "outlinewidth": 0,
              "ticks": ""
             }
            },
            "type": "scattercarpet"
           }
          ],
          "scattergeo": [
           {
            "marker": {
             "colorbar": {
              "outlinewidth": 0,
              "ticks": ""
             }
            },
            "type": "scattergeo"
           }
          ],
          "scattergl": [
           {
            "marker": {
             "colorbar": {
              "outlinewidth": 0,
              "ticks": ""
             }
            },
            "type": "scattergl"
           }
          ],
          "scattermap": [
           {
            "marker": {
             "colorbar": {
              "outlinewidth": 0,
              "ticks": ""
             }
            },
            "type": "scattermap"
           }
          ],
          "scattermapbox": [
           {
            "marker": {
             "colorbar": {
              "outlinewidth": 0,
              "ticks": ""
             }
            },
            "type": "scattermapbox"
           }
          ],
          "scatterpolar": [
           {
            "marker": {
             "colorbar": {
              "outlinewidth": 0,
              "ticks": ""
             }
            },
            "type": "scatterpolar"
           }
          ],
          "scatterpolargl": [
           {
            "marker": {
             "colorbar": {
              "outlinewidth": 0,
              "ticks": ""
             }
            },
            "type": "scatterpolargl"
           }
          ],
          "scatterternary": [
           {
            "marker": {
             "colorbar": {
              "outlinewidth": 0,
              "ticks": ""
             }
            },
            "type": "scatterternary"
           }
          ],
          "surface": [
           {
            "colorbar": {
             "outlinewidth": 0,
             "ticks": ""
            },
            "colorscale": [
             [
              0,
              "#0d0887"
             ],
             [
              0.1111111111111111,
              "#46039f"
             ],
             [
              0.2222222222222222,
              "#7201a8"
             ],
             [
              0.3333333333333333,
              "#9c179e"
             ],
             [
              0.4444444444444444,
              "#bd3786"
             ],
             [
              0.5555555555555556,
              "#d8576b"
             ],
             [
              0.6666666666666666,
              "#ed7953"
             ],
             [
              0.7777777777777778,
              "#fb9f3a"
             ],
             [
              0.8888888888888888,
              "#fdca26"
             ],
             [
              1,
              "#f0f921"
             ]
            ],
            "type": "surface"
           }
          ],
          "table": [
           {
            "cells": {
             "fill": {
              "color": "#EBF0F8"
             },
             "line": {
              "color": "white"
             }
            },
            "header": {
             "fill": {
              "color": "#C8D4E3"
             },
             "line": {
              "color": "white"
             }
            },
            "type": "table"
           }
          ]
         },
         "layout": {
          "annotationdefaults": {
           "arrowcolor": "#2a3f5f",
           "arrowhead": 0,
           "arrowwidth": 1
          },
          "autotypenumbers": "strict",
          "coloraxis": {
           "colorbar": {
            "outlinewidth": 0,
            "ticks": ""
           }
          },
          "colorscale": {
           "diverging": [
            [
             0,
             "#8e0152"
            ],
            [
             0.1,
             "#c51b7d"
            ],
            [
             0.2,
             "#de77ae"
            ],
            [
             0.3,
             "#f1b6da"
            ],
            [
             0.4,
             "#fde0ef"
            ],
            [
             0.5,
             "#f7f7f7"
            ],
            [
             0.6,
             "#e6f5d0"
            ],
            [
             0.7,
             "#b8e186"
            ],
            [
             0.8,
             "#7fbc41"
            ],
            [
             0.9,
             "#4d9221"
            ],
            [
             1,
             "#276419"
            ]
           ],
           "sequential": [
            [
             0,
             "#0d0887"
            ],
            [
             0.1111111111111111,
             "#46039f"
            ],
            [
             0.2222222222222222,
             "#7201a8"
            ],
            [
             0.3333333333333333,
             "#9c179e"
            ],
            [
             0.4444444444444444,
             "#bd3786"
            ],
            [
             0.5555555555555556,
             "#d8576b"
            ],
            [
             0.6666666666666666,
             "#ed7953"
            ],
            [
             0.7777777777777778,
             "#fb9f3a"
            ],
            [
             0.8888888888888888,
             "#fdca26"
            ],
            [
             1,
             "#f0f921"
            ]
           ],
           "sequentialminus": [
            [
             0,
             "#0d0887"
            ],
            [
             0.1111111111111111,
             "#46039f"
            ],
            [
             0.2222222222222222,
             "#7201a8"
            ],
            [
             0.3333333333333333,
             "#9c179e"
            ],
            [
             0.4444444444444444,
             "#bd3786"
            ],
            [
             0.5555555555555556,
             "#d8576b"
            ],
            [
             0.6666666666666666,
             "#ed7953"
            ],
            [
             0.7777777777777778,
             "#fb9f3a"
            ],
            [
             0.8888888888888888,
             "#fdca26"
            ],
            [
             1,
             "#f0f921"
            ]
           ]
          },
          "colorway": [
           "#636efa",
           "#EF553B",
           "#00cc96",
           "#ab63fa",
           "#FFA15A",
           "#19d3f3",
           "#FF6692",
           "#B6E880",
           "#FF97FF",
           "#FECB52"
          ],
          "font": {
           "color": "#2a3f5f"
          },
          "geo": {
           "bgcolor": "white",
           "lakecolor": "white",
           "landcolor": "#E5ECF6",
           "showlakes": true,
           "showland": true,
           "subunitcolor": "white"
          },
          "hoverlabel": {
           "align": "left"
          },
          "hovermode": "closest",
          "mapbox": {
           "style": "light"
          },
          "paper_bgcolor": "white",
          "plot_bgcolor": "#E5ECF6",
          "polar": {
           "angularaxis": {
            "gridcolor": "white",
            "linecolor": "white",
            "ticks": ""
           },
           "bgcolor": "#E5ECF6",
           "radialaxis": {
            "gridcolor": "white",
            "linecolor": "white",
            "ticks": ""
           }
          },
          "scene": {
           "xaxis": {
            "backgroundcolor": "#E5ECF6",
            "gridcolor": "white",
            "gridwidth": 2,
            "linecolor": "white",
            "showbackground": true,
            "ticks": "",
            "zerolinecolor": "white"
           },
           "yaxis": {
            "backgroundcolor": "#E5ECF6",
            "gridcolor": "white",
            "gridwidth": 2,
            "linecolor": "white",
            "showbackground": true,
            "ticks": "",
            "zerolinecolor": "white"
           },
           "zaxis": {
            "backgroundcolor": "#E5ECF6",
            "gridcolor": "white",
            "gridwidth": 2,
            "linecolor": "white",
            "showbackground": true,
            "ticks": "",
            "zerolinecolor": "white"
           }
          },
          "shapedefaults": {
           "line": {
            "color": "#2a3f5f"
           }
          },
          "ternary": {
           "aaxis": {
            "gridcolor": "white",
            "linecolor": "white",
            "ticks": ""
           },
           "baxis": {
            "gridcolor": "white",
            "linecolor": "white",
            "ticks": ""
           },
           "bgcolor": "#E5ECF6",
           "caxis": {
            "gridcolor": "white",
            "linecolor": "white",
            "ticks": ""
           }
          },
          "title": {
           "x": 0.05
          },
          "xaxis": {
           "automargin": true,
           "gridcolor": "white",
           "linecolor": "white",
           "ticks": "",
           "title": {
            "standoff": 15
           },
           "zerolinecolor": "white",
           "zerolinewidth": 2
          },
          "yaxis": {
           "automargin": true,
           "gridcolor": "white",
           "linecolor": "white",
           "ticks": "",
           "title": {
            "standoff": 15
           },
           "zerolinecolor": "white",
           "zerolinewidth": 2
          }
         }
        },
        "title": {
         "text": "Nucleus1000DVL Dashboard - 2024-08-22_14-06-43"
        },
        "xaxis": {
         "anchor": "y",
         "domain": [
          0,
          1
         ],
         "matches": "x6",
         "showticklabels": false
        },
        "xaxis2": {
         "anchor": "y2",
         "domain": [
          0,
          1
         ],
         "matches": "x6",
         "showticklabels": false
        },
        "xaxis3": {
         "anchor": "y3",
         "domain": [
          0,
          1
         ],
         "matches": "x6",
         "showticklabels": false
        },
        "xaxis4": {
         "anchor": "y4",
         "domain": [
          0,
          1
         ],
         "matches": "x6",
         "showticklabels": false
        },
        "xaxis5": {
         "anchor": "y5",
         "domain": [
          0,
          1
         ],
         "matches": "x6",
         "showticklabels": false
        },
        "xaxis6": {
         "anchor": "y6",
         "domain": [
          0,
          1
         ],
         "title": {
          "text": "Time (minutes)"
         }
        },
        "yaxis": {
         "anchor": "x",
         "domain": [
          0.875,
          1
         ]
        },
        "yaxis2": {
         "anchor": "x2",
         "domain": [
          0.7,
          0.825
         ]
        },
        "yaxis3": {
         "anchor": "x3",
         "domain": [
          0.525,
          0.65
         ]
        },
        "yaxis4": {
         "anchor": "x4",
         "domain": [
          0.35,
          0.475
         ]
        },
        "yaxis5": {
         "anchor": "x5",
         "domain": [
          0.175,
          0.3
         ]
        },
        "yaxis6": {
         "anchor": "x6",
         "domain": [
          0,
          0.125
         ]
        }
       }
      }
     },
     "metadata": {},
     "output_type": "display_data"
    },
    {
     "name": "stdout",
     "output_type": "stream",
     "text": [
      "✅ Dashboard creation complete!\n"
     ]
    }
   ],
   "source": [
    "# 🎛️ INTERACTIVE DASHBOARD CREATION\n",
    "# =================================\n",
    "\n",
    "print(\"🎛️ Creating interactive dashboard...\")\n",
    "\n",
    "if HAS_PLOTLY and analyzer.available_bags:\n",
    "    \n",
    "    # Select bag for dashboard\n",
    "    dashboard_bag = BAG_SELECTION if BAG_SELECTION in analyzer.available_bags else analyzer.available_bags[0]\n",
    "    \n",
    "    print(f\"📊 Creating dashboard for bag: {dashboard_bag}\")\n",
    "    \n",
    "    # Create comprehensive dashboard\n",
    "    try:\n",
    "        dashboard_fig = dvl_utils.create_comprehensive_dvl_dashboard(\n",
    "            analyzer, \n",
    "            bag_name=dashboard_bag,\n",
    "            output_html=\"nucleus1000dvl_dashboard.html\"\n",
    "        )\n",
    "        \n",
    "        print(\"✅ Interactive dashboard created!\")\n",
    "        print(\"🌐 Dashboard saved to exports/outputs/nucleus1000dvl_dashboard.html\")\n",
    "        \n",
    "        # Display the dashboard in notebook\n",
    "        if dashboard_fig:\n",
    "            dashboard_fig.show()\n",
    "        \n",
    "    except Exception as e:\n",
    "        print(f\"⚠️  Dashboard creation failed: {e}\")\n",
    "        print(\"   Falling back to static plots\")\n",
    "\n",
    "else:\n",
    "    print(\"⚠️  Interactive dashboard requires Plotly - using static plots instead\")\n",
    "    \n",
    "    # Create static dashboard alternative\n",
    "    if analyzer.available_bags:\n",
    "        selected_bag = analyzer.available_bags[0]\n",
    "        print(f\"📊 Creating static overview for bag: {selected_bag}\")\n",
    "        \n",
    "        # Create a 2x2 subplot layout\n",
    "        fig, axes = plt.subplots(2, 2, figsize=(16, 12))\n",
    "        fig.suptitle(f'Nucleus1000DVL Overview - {selected_bag}', fontsize=16)\n",
    "        \n",
    "        # Bottom track velocity (if available)\n",
    "        if 'bottomtrack' in analyzer.available_sensors:\n",
    "            data = analyzer.load_sensor_data(\"bottomtrack\", selected_bag, verbose=False)\n",
    "            if isinstance(data, dict):\n",
    "                data = data.get(selected_bag)\n",
    "            \n",
    "            if data is not None and 'dvl_velocity_xyz.x' in data.columns:\n",
    "                valid_mask = data.get('data_valid', pd.Series([True] * len(data))) == True\n",
    "                data_valid = data[valid_mask]\n",
    "                \n",
    "                if len(data_valid) > 0:\n",
    "                    axes[0,0].plot(data_valid['t_rel_min'], data_valid['dvl_velocity_xyz.x'], 'r-', alpha=0.7, label='X')\n",
    "                    axes[0,0].plot(data_valid['t_rel_min'], data_valid['dvl_velocity_xyz.y'], 'g-', alpha=0.7, label='Y')\n",
    "                    axes[0,0].plot(data_valid['t_rel_min'], data_valid['dvl_velocity_xyz.z'], 'b-', alpha=0.7, label='Z')\n",
    "                    axes[0,0].set_title('Bottom Track Velocity')\n",
    "                    axes[0,0].set_ylabel('Velocity (m/s)')\n",
    "                    axes[0,0].legend()\n",
    "                    axes[0,0].grid(True, alpha=0.3)\n",
    "        \n",
    "        # INS trajectory (if available)\n",
    "        if 'ins' in analyzer.available_sensors:\n",
    "            data = analyzer.load_sensor_data(\"ins\", selected_bag, verbose=False)\n",
    "            if isinstance(data, dict):\n",
    "                data = data.get(selected_bag)\n",
    "            \n",
    "            if data is not None and 'positionFrame.x' in data.columns:\n",
    "                axes[0,1].plot(data['positionFrame.x'], data['positionFrame.y'], 'b-', alpha=0.7)\n",
    "                axes[0,1].scatter(data['positionFrame.x'].iloc[0], data['positionFrame.y'].iloc[0], \n",
    "                                c='green', s=100, marker='s', label='Start')\n",
    "                axes[0,1].scatter(data['positionFrame.x'].iloc[-1], data['positionFrame.y'].iloc[-1], \n",
    "                                c='red', s=100, marker='D', label='End')\n",
    "                axes[0,1].set_title('Vehicle Trajectory')\n",
    "                axes[0,1].set_xlabel('X Position (m)')\n",
    "                axes[0,1].set_ylabel('Y Position (m)')\n",
    "                axes[0,1].legend()\n",
    "                axes[0,1].grid(True, alpha=0.3)\n",
    "                axes[0,1].set_aspect('equal', adjustable='box')\n",
    "        \n",
    "        # Altimeter (if available)\n",
    "        if 'altimeter' in analyzer.available_sensors:\n",
    "            data = analyzer.load_sensor_data(\"altimeter\", selected_bag, verbose=False)\n",
    "            if isinstance(data, dict):\n",
    "                data = data.get(selected_bag)\n",
    "            \n",
    "            if data is not None and 'altimeter_distance' in data.columns:\n",
    "                axes[1,0].plot(data['t_rel_min'], data['altimeter_distance'], 'purple', alpha=0.7)\n",
    "                axes[1,0].set_title('Altimeter Distance')\n",
    "                axes[1,0].set_ylabel('Distance (m)')\n",
    "                axes[1,0].set_xlabel('Time (minutes)')\n",
    "                axes[1,0].grid(True, alpha=0.3)\n",
    "        \n",
    "        # Data summary plot\n",
    "        if summary_stats:\n",
    "            sensors = [s['sensor'] for s in summary_stats if s['bag'] == selected_bag]\n",
    "            durations = [s['duration_min'] for s in summary_stats if s['bag'] == selected_bag]\n",
    "            \n",
    "            if sensors and durations:\n",
    "                axes[1,1].bar(sensors, durations, alpha=0.7)\n",
    "                axes[1,1].set_title('Data Duration by Sensor')\n",
    "                axes[1,1].set_ylabel('Duration (minutes)')\n",
    "                axes[1,1].tick_params(axis='x', rotation=45)\n",
    "                axes[1,1].grid(True, alpha=0.3)\n",
    "        \n",
    "        plt.tight_layout()\n",
    "        \n",
    "        if EXPORT_PLOTS:\n",
    "            output_path = Path(OUTPUT_FOLDER) / f\"nucleus1000dvl_overview_{selected_bag}.png\"\n",
    "            output_path.parent.mkdir(parents=True, exist_ok=True)\n",
    "            plt.savefig(output_path, dpi=300, bbox_inches='tight')\n",
    "            print(f\"💾 Saved overview plot: {output_path}\")\n",
    "        \n",
    "        plt.show()\n",
    "\n",
    "print(\"✅ Dashboard creation complete!\")\n"
   ]
  },
  {
   "cell_type": "code",
   "execution_count": null,
   "id": "65335c2b",
   "metadata": {},
   "outputs": [],
   "source": []
  },
  {
   "cell_type": "code",
   "execution_count": 18,
   "id": "7fc7dac6",
   "metadata": {},
   "outputs": [
    {
     "name": "stdout",
     "output_type": "stream",
     "text": [
      "🔍 Found DVL data:\n",
      "   📅 Bags: 5\n",
      "   📊 Sensors: 8\n",
      "   Sensors: altimeter, bottomtrack, imu, ins, magnetometer, sensor_dvl_position, sensor_dvl_velocity, watertrack\n",
      "🔍 DVL Sensor Comparison Analysis\n",
      "==================================================\n",
      "📁 Using bag: 2024-08-22_14-06-43\n",
      "📁 Loaded nucleus1000dvl_bottomtrack__2024-08-22_14-06-43_data.csv: 52 rows, 35 columns\n",
      "📁 Loaded sensor_dvl_position__2024-08-22_14-06-43_data.csv: 154 rows, 25 columns\n",
      "📁 Loaded sensor_dvl_velocity__2024-08-22_14-06-43_data.csv: 311 rows, 26 columns\n",
      "✅ Loaded nucleus1000dvl bottomtrack: 52 samples\n",
      "✅ Loaded sensor_dvl_position: 154 samples\n",
      "✅ Loaded sensor_dvl_velocity: 311 samples\n",
      "🔄 Comparing DVL sensors for bag: 2024-08-22_14-06-43\n"
     ]
    },
    {
     "data": {
      "application/vnd.plotly.v1+json": {
       "config": {
        "plotlyServerURL": "https://plot.ly"
       },
       "data": [
        {
         "line": {
          "color": "red"
         },
         "name": "Nucleus1000 VX",
         "type": "scatter",
         "x": {
          "bdata": "EREREYGCkD/v7u7uhpGYPxERERFtGaA/VVVVVVcMqD/e3d3d+/+rP+7u7u6I7a8/IiIiIjbKsz+amZmZP9G1P83MzMwyx7c/vLu7u8g5vz8iIiKiwp/APwAAAADJmcE/MzMzs5Sfwz/v7u5uLpLEP2dmZub/jMU/7+7ubqSTxz+8u7s7rS7JP+/u7m6dfMo/3t3d3cCDzD+rqqqqiFzNPwAAAIBCXs4/vLu7e8s10D+amZnZw7fQPzMzM7PENNE/AAAAwMdA0j93d3d327nSP1VVVdXaLtM/zczMjNlB1D9VVVXVQMPUP6uqquqdSNU/IyIiIs221z/e3d2dW0HYPwAAAEC1wtg/zczMjDTk2D/NzMzMcmXZP83MzMwi69k/mpmZWUD72j+bmZlZsu3bP3d3d3c/c90/VVVV1Z3w3T9mZmYmBe/eP2ZmZqYAjd8/3t3dPQTS4D+JiIhICQ/hP6uqqiqQmuE/ERERsZlo4j9mZmYmHqniPw==",
          "dtype": "f8"
         },
         "xaxis": "x",
         "y": {
          "bdata": "/v//30G7zj////+/hZ7LP////x/9mso/////f40j0D/+////RW/KP////9+b2sA/AAAAYIoRzD/9//9/u2PKP/3//z+v1sk//////5cQyz////+/xE7PPwAAAIAQXcg/////f5OPzD8AAAAADFnHP////7/W2Mg/////3yNixD/+////+oLIPwAAAOBnN8g//f//nwLCyT////+ffwbNP/7//z/W38g/AAAAwDSoyj/+//8f/6nHP/3//x/qdMk/AAAAoO++xj8AAABA/obEP/7//3/yHso/////3yePzD/+//8fAw3IPwAAAMD/4sk/AAAAQBoLyD////8f5aPAPwAAAOC6Lbk/+////zFksD/+////xVmmP/z//3/hSqw/4v//X3nQjj////9/eZasPwAAAABNgak/9f//3wnylz/p//9f//CYP/7//3/2Yac/+v//H2IVoj/7//8fCaOsP+7//x/F4Z4/8///3wRRnj/z//+/s5yjPw==",
          "dtype": "f8"
         },
         "yaxis": "y"
        },
        {
         "line": {
          "color": "red"
         },
         "name": "Nucleus1000 VY",
         "type": "scatter",
         "x": {
          "bdata": "EREREYGCkD/v7u7uhpGYPxERERFtGaA/VVVVVVcMqD/e3d3d+/+rP+7u7u6I7a8/IiIiIjbKsz+amZmZP9G1P83MzMwyx7c/vLu7u8g5vz8iIiKiwp/APwAAAADJmcE/MzMzs5Sfwz/v7u5uLpLEP2dmZub/jMU/7+7ubqSTxz+8u7s7rS7JP+/u7m6dfMo/3t3d3cCDzD+rqqqqiFzNPwAAAIBCXs4/vLu7e8s10D+amZnZw7fQPzMzM7PENNE/AAAAwMdA0j93d3d327nSP1VVVdXaLtM/zczMjNlB1D9VVVXVQMPUP6uqquqdSNU/IyIiIs221z/e3d2dW0HYPwAAAEC1wtg/zczMjDTk2D/NzMzMcmXZP83MzMwi69k/mpmZWUD72j+bmZlZsu3bP3d3d3c/c90/VVVV1Z3w3T9mZmYmBe/eP2ZmZqYAjd8/3t3dPQTS4D+JiIhICQ/hP6uqqiqQmuE/ERERsZlo4j9mZmYmHqniPw==",
          "dtype": "f8"
         },
         "xaxis": "x2",
         "y": {
          "bdata": "+P//v1wupL/z///fSaqmP/X//z/dHKg//f//P3Qzsb/m//9/vBqRP/3//7+MhaQ/9P//36O4r7/m//8/Go6JP/j//99kRJc/7f//Xyp7k78n////qShmv/f//1/KqY0//v//fy/ooL/w//8/E2efP+X//18Z7JC/////vwMdmz81+v8/Zms1P7P//9/s03S//v//38XTnD/q//9/dchyP+///9+cV52/+P//fwdDlD/z//9fIRiHP9r//58jAIS/8f//nwdCkD/6//9f7LGHv8///19W6oi/8f//n40vcr/e//8/1E12v+7//1/dJ4O/6P7/Py1mRz/8//+f/SmqvwAAAIDbhrS/n///v1tweT////9/sjiRPwAAAGBl56e/SP3//+AoQj/1////AQaov/v//7/c9rG/6f//H3GZkr/8//9f9aGtv/v//58dk7e//P//ny6esr/6//9fp7a0v/r//789lrG/+f//H47Oq7/8////0Hu8vw==",
          "dtype": "f8"
         },
         "yaxis": "y2"
        },
        {
         "line": {
          "color": "red"
         },
         "name": "Nucleus1000 VZ",
         "type": "scatter",
         "x": {
          "bdata": "EREREYGCkD/v7u7uhpGYPxERERFtGaA/VVVVVVcMqD/e3d3d+/+rP+7u7u6I7a8/IiIiIjbKsz+amZmZP9G1P83MzMwyx7c/vLu7u8g5vz8iIiKiwp/APwAAAADJmcE/MzMzs5Sfwz/v7u5uLpLEP2dmZub/jMU/7+7ubqSTxz+8u7s7rS7JP+/u7m6dfMo/3t3d3cCDzD+rqqqqiFzNPwAAAIBCXs4/vLu7e8s10D+amZnZw7fQPzMzM7PENNE/AAAAwMdA0j93d3d327nSP1VVVdXaLtM/zczMjNlB1D9VVVXVQMPUP6uqquqdSNU/IyIiIs221z/e3d2dW0HYPwAAAEC1wtg/zczMjDTk2D/NzMzMcmXZP83MzMwi69k/mpmZWUD72j+bmZlZsu3bP3d3d3c/c90/VVVV1Z3w3T9mZmYmBe/eP2ZmZqYAjd8/3t3dPQTS4D+JiIhICQ/hP6uqqiqQmuE/ERERsZlo4j9mZmYmHqniPw==",
          "dtype": "f8"
         },
         "xaxis": "x3",
         "y": {
          "bdata": "/P//37jJvL/t////bs6AP/j//59Au68/AAAAwP/Aub/l//9fGRiXv/z//9/AkrE//P//39BEsL/5//9/FMyqP/P//9+WS6M/3///P7TVfD/d//9fKaWJP////19EnbM/8v//n8+For8AAACg49y1P/v//5/MHaC/+///fx0XuD/T//+/O7mBv/n//98oT64//v//38X2sj/0////ObyeP/T//98RWqI/////P+NeoT/7//+fITugP+H//7/F0YM/+P//35m1kj/9////IqGFv8j+/38nrVM/2v//P85MjT/4//8/IM2Fv+T//5/DDpm/9v//fw6Vq7/+//8/zpG6v/7//1+VHbO/7P//Xylbjj/2//+fCkKoP////1847Ko/////fzjSnj////9fOKycPwAAAABJ2qo//v//n7Foqj/S//8fuVZ3P/j//98bvoE/2v//H53ufj/t//9f/X+LP/L//9+mfZg/4///X2G6ij/6//8fbu6RPw==",
          "dtype": "f8"
         },
         "yaxis": "y3"
        },
        {
         "line": {
          "color": "green"
         },
         "name": "Nucleus1000 PosX",
         "type": "scatter",
         "x": {
          "bdata": "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",
          "dtype": "f8"
         },
         "xaxis": "x4",
         "y": {
          "bdata": "AAAAALiLAEAAAAAAZJ0AQAAAAADKrwBAAAAAgDuqAEAAAABALZEAQAAAAMA1eABA/////1NfAEAAAABgN0cAQAAAAKC2QQBAAAAAYApGAEAAAACASUoAQAAAAGBuTgBAAAAAoBBTAEAAAAAgw18AQAAAAIB5bwBAAAAAgNV+AEAAAACgpY0AQAAAAMA/nQBAAAAAwNKrAEAAAADgWroAQAAAAAC6yABAAAAAIC/XAEAAAABgmeYAQAAAAEBl+ABAAAAAoKQJAUAAAABgeRsBQAAAAGDjLAFAAAAAoKM/AUAAAACgRVEBQAAAAIDrXQFAAAAAIElqAUAAAAAgq3YBQAAAAGCIhAFAAAAAACKWAUAAAADgw6YBQAAAAMAGtgFAAAAAAEXDAUAAAABAqs4BQAAAAEBp2AFAAAAA4JvgAUAAAADAd+cBQAAAAGA87QFAAAAAgFPyAUAAAABADRMCQAAAAODCRAJAAAAAoBF3AkAAAACg8akCQAAAAIDI3gJAAAAAQAALA0AAAAAAEC8DQAAAAGA5UwNAAAAAAER3A0AAAAAA2ZsDQAAAACD9vANAAAAAADfZA0AAAABAN/UDQAAAAIABEQRAAAAAoAAuBEAAAAAgAUoEQAAAAIAIZwRAAAAAwAiEBEABAACglKAEQAAAAGCHvgRAAAAAwBbsBEAAAAAgRSEFQAAAAAD7VgVAAAAAoFGMBUAAAABAH8MFQAAAAABM8QVAAAAAgPkYBkAAAABAwUAGQAAAAAAOaAZAAAAAwMqPBkABAADgJasGQAAAAKA1vAZAAAAAoOfMBkAAAABAxtwGQAAAAIBp7AZAAAAAgJ/7BkAAAABAQAoHQAAAAKDpGAdAAAAAIIknB0AAAADg+DYHQAAAAIC+WAdAAAAA4AGGB0AAAABAnrMHQAAAAKAz4QdAAAAA4MwOCEAAAADAIzQIQAAAAGB7UwhA/////1FyCEAAAACAS5EIQAAAAACWsAhAAAAA4JjQCEAAAABgyu8IQAAAAKCWDglAAAAAQEcsCUAAAAAg60kJQAAAAIDCZglAAAAAgJqCCUAAAABApp0JQAAAAIB8uAlAAAAA4OPTCUAAAADAyvIJQAAAAMDHEwpAAAAAgGA0CkAAAADgclUKQAAAAMDfdwpAAAAAgN+eCkAAAABgOcgKQAAAAMAO1QpAAAAAgBEdC0AAAABgw0cLQAAAAIDuZgtAAAAAgEaEC0AAAAAghJ4LQAAAAED1uAtAAAAAIITUC0ABAADg5e8LQAAAAIAVCwxAAAAAwKsmDEAAAADgBkIMQAAAAOBTXQxAAAAAIIeDDEAAAADgsK8MQAAAAECE3AxAAAAA4EcJDUABAABAPTYNQAAAAIAwWQ1A////n0p0DUAAAABgAo8NQAAAACD2qQ1AAAAAQMfFDUAAAADg6OgNQAAAAACIDw5AAAAAoHE2DkAAAAAAIF0OQAEAAGA+hA5AAAAAII+rDkD///8/b9MOQAAAAGBQ+w5AAAAAoOIiD0D///+ffEoPQAAAAOBIaA9AAAAA4K9+D0AAAABgXJQPQAAAAEBFqQ9AAAAAILe9D0ABAAAg7doPQAAAAGCK/g9AAAAAgDAREEAAAADgHyMQQAAAAOABNRBAAAAAIJBEEEAAAABg4FIQQAAAAAAQYRBAAAAAAHRiEEAAAACgQH0QQAAAAEAwixBAAAAAoN+YEEAAAACgvaYQQAAAAMBTtBBAAAAAQBu+EEAAAADADd8QQAAAAIB/7RBAAAAAILb7EEAAAABANwoRQAAAAOBrGxFAAAAAwDwuEUAAAADAIEERQAAAACAXVBFAAAAAYAVnEUAAAAAgOXgRQAAAAMD5hxFAAAAAIKaXEUAAAAAASacRQAAAAGAltxFAAAAAALrGEUAAAAAAU9YRQAAAAGAE5hFAAAAAAJ/1EUAAAABgUwUSQAAAAKDVFRJAAAAAgL4mEkAAAABglTcSQAAAAOBrSBJAAAAAIGRZEkAAAADASmkSQAAAAKA6eBJAAAAAQCWHEkAAAACgEJYSQAAAAKArpRJAAAAAING1EkAAAABgTMcSQAAAAGCs2BJAAAAAgDLqEkAAAAAg1fsSQAAAAEBvDRNAAAAAoOAeE0AAAABAZDATQAAAAAD7QRNAAAAAgLFTE0AAAAAACGQTQAAAAGAYcxNAAAAA4DSCE0AAAADA9ZATQAAAAOAinxNAAAAAoFStE0AAAADA/7oTQAAAAGCLyBNAAAAAQD7WE0AAAACgz+MTQAAAAABu8xNAAAAAQAEEFEAAAADg4BQUQAAAAEDeJRRAAAAAAAE3FEAAAACgQ0gUQAAAAICQWRRAAAAA4BhrFEAAAADg0HwUQAAAACC7jhRAAAAAQGuhFEAAAACgvLQUQAAAAADXxxRAAAAAQFLbFEAAAADADe8UQAAAAACaARVAAAAAoGkTFUAAAABgaiUVQAAAACAVNxVAAAAAgPNIFUAAAACAb1wVQAAAAECtcBVAAAAAoPaEFUAAAACAGJkVQAAAAGAsrRVAAAAAYJvBFUAAAACA49UVQAAAAAAB6hVAAAAAgKj+FUAAAACAThMWQAAAAKBsJxZAAAAAwBE7FkAAAABgx04WQAAAAOB+YhZAAAAAYD92FkAAAAAANYcWQAAAAIBDlhZAAAAAADalFkAAAACgA7QWQAAAAEClwhZAAAAAwJbJFkAAAACAyDUXQAAAAIDEPBdAAAAAwNxDF0AAAAAAHUsXQAAAACD6URdAAAAAoOxXF0AAAAAgAF4XQAAAAAAlZBdAAAAA4FBqF0AAAABgEXAXQAAAAKA9dxdAAAAAwEaAF0AAAABAQokXQAAAAEA9khdAAAAAAOOaF0AAAABAxaMXQAAAAAChrBdAAAAAYGq1F0AAAADgJL4XQAAAAKCXxhdAAAAAgJHLF0AAAADgzc4XQAAAAEAH0hdAAAAAgELVF0AAAABgL9gXQAAAAOCz2hdAAAAAYB3dF0AAAAAAa98XQAAAAACe4RdAAAAAgLfjF0AAAADA9ugXQAAAAICL8BdAAAAAQA/4F0AAAACAqf8XQAAAAOAMBxhAAAAAQJwOGEAAAAAAOxYYQAAAAODZHRhAAAAAgHElGEAAAAAA3SwYQAAAAOCtMxhAAAAAQC46GEAAAADAXUAYQAAAAEBARhhAAAAA4NlLGEAAAABA4FIYQAAAAIA1WxhAAAAAYIRjGEAAAACA1GsYQAAAAMDicxhAAAAAIBV6GEAAAAAgVH8YQAAAAECOhBhAAAAA4MqJGEAAAACA5o4YQAAAAGAQlBhAAAAAYEKZGEAAAAAgdZ4YQAAAAKCjoxhAAAAAIL2oGEAAAABAjawYQAAAAGDhrxhAAAAAgDGzGEAAAADgerYYQAAAAKCbuRhAAAAAgAO+GEAAAACAg8MYQAAAAID5yBhAAAAAAGbOGEAAAABApdMYQAAAAICX2BhAAAAAoEndGEAAAADAu+EYQAAAACDy5RhAAAAAwO/pGEAAAACguO0YQAAAAKBP8RhAAAAAoLf0GEAAAABg8/cYQAAAAKAF+xhAAAAAoPD9GEAAAACAtgAZQAAAAABZAxlAAAAAINoFGUAAAADAOwgZQAAAACB8CxlAAAAAYGwPGUAAAABgXRMZQAAAAMBNFxlAAAAAYC8bGUAAAADgTyAZQAAAAABeJhlAAAAAQGssGUAAAADgdTIZQAAAAOB1OBlAAAAAYHs+GUAAAADAf0QZQAAAAECCShlAAAAAgIJQGUAAAACgfFYZQAAAAKByWxlAAAAAIMRfGUAAAAAgFWQZQAAAAKBkaBlAAAAAILJsGUAAAACAjHAZQAAAAOAhdBlAAAAAALd3GUAAAAAATHsZQAAAAGDgfhlAAAAAgD6DGUAAAAAAJogZQAAAAKAPjRlA",
          "dtype": "f8"
         },
         "yaxis": "y4"
        },
        {
         "line": {
          "color": "green"
         },
         "name": "Nucleus1000 PosY",
         "type": "scatter",
         "x": {
          "bdata": "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",
          "dtype": "f8"
         },
         "xaxis": "x5",
         "y": {
          "bdata": "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",
          "dtype": "f8"
         },
         "yaxis": "y5"
        },
        {
         "line": {
          "color": "purple"
         },
         "name": "Nucleus1000 PosZ",
         "type": "scatter",
         "x": {
          "bdata": "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",
          "dtype": "f8"
         },
         "xaxis": "x6",
         "y": {
          "bdata": "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",
          "dtype": "f8"
         },
         "yaxis": "y6"
        }
       ],
       "layout": {
        "annotations": [
         {
          "font": {
           "size": 16
          },
          "showarrow": false,
          "text": "Velocity Comparison (X)",
          "x": 0.225,
          "xanchor": "center",
          "xref": "paper",
          "y": 1,
          "yanchor": "bottom",
          "yref": "paper"
         },
         {
          "font": {
           "size": 16
          },
          "showarrow": false,
          "text": "Velocity Comparison (Y)",
          "x": 0.775,
          "xanchor": "center",
          "xref": "paper",
          "y": 1,
          "yanchor": "bottom",
          "yref": "paper"
         },
         {
          "font": {
           "size": 16
          },
          "showarrow": false,
          "text": "Velocity Comparison (Z)",
          "x": 0.225,
          "xanchor": "center",
          "xref": "paper",
          "y": 0.6399999999999999,
          "yanchor": "bottom",
          "yref": "paper"
         },
         {
          "font": {
           "size": 16
          },
          "showarrow": false,
          "text": "Position Comparison (X)",
          "x": 0.775,
          "xanchor": "center",
          "xref": "paper",
          "y": 0.6399999999999999,
          "yanchor": "bottom",
          "yref": "paper"
         },
         {
          "font": {
           "size": 16
          },
          "showarrow": false,
          "text": "Position Comparison (Y)",
          "x": 0.225,
          "xanchor": "center",
          "xref": "paper",
          "y": 0.27999999999999997,
          "yanchor": "bottom",
          "yref": "paper"
         },
         {
          "font": {
           "size": 16
          },
          "showarrow": false,
          "text": "Altitude/Z Comparison",
          "x": 0.775,
          "xanchor": "center",
          "xref": "paper",
          "y": 0.27999999999999997,
          "yanchor": "bottom",
          "yref": "paper"
         }
        ],
        "height": 900,
        "hovermode": "x unified",
        "template": {
         "data": {
          "bar": [
           {
            "error_x": {
             "color": "#2a3f5f"
            },
            "error_y": {
             "color": "#2a3f5f"
            },
            "marker": {
             "line": {
              "color": "#E5ECF6",
              "width": 0.5
             },
             "pattern": {
              "fillmode": "overlay",
              "size": 10,
              "solidity": 0.2
             }
            },
            "type": "bar"
           }
          ],
          "barpolar": [
           {
            "marker": {
             "line": {
              "color": "#E5ECF6",
              "width": 0.5
             },
             "pattern": {
              "fillmode": "overlay",
              "size": 10,
              "solidity": 0.2
             }
            },
            "type": "barpolar"
           }
          ],
          "carpet": [
           {
            "aaxis": {
             "endlinecolor": "#2a3f5f",
             "gridcolor": "white",
             "linecolor": "white",
             "minorgridcolor": "white",
             "startlinecolor": "#2a3f5f"
            },
            "baxis": {
             "endlinecolor": "#2a3f5f",
             "gridcolor": "white",
             "linecolor": "white",
             "minorgridcolor": "white",
             "startlinecolor": "#2a3f5f"
            },
            "type": "carpet"
           }
          ],
          "choropleth": [
           {
            "colorbar": {
             "outlinewidth": 0,
             "ticks": ""
            },
            "type": "choropleth"
           }
          ],
          "contour": [
           {
            "colorbar": {
             "outlinewidth": 0,
             "ticks": ""
            },
            "colorscale": [
             [
              0,
              "#0d0887"
             ],
             [
              0.1111111111111111,
              "#46039f"
             ],
             [
              0.2222222222222222,
              "#7201a8"
             ],
             [
              0.3333333333333333,
              "#9c179e"
             ],
             [
              0.4444444444444444,
              "#bd3786"
             ],
             [
              0.5555555555555556,
              "#d8576b"
             ],
             [
              0.6666666666666666,
              "#ed7953"
             ],
             [
              0.7777777777777778,
              "#fb9f3a"
             ],
             [
              0.8888888888888888,
              "#fdca26"
             ],
             [
              1,
              "#f0f921"
             ]
            ],
            "type": "contour"
           }
          ],
          "contourcarpet": [
           {
            "colorbar": {
             "outlinewidth": 0,
             "ticks": ""
            },
            "type": "contourcarpet"
           }
          ],
          "heatmap": [
           {
            "colorbar": {
             "outlinewidth": 0,
             "ticks": ""
            },
            "colorscale": [
             [
              0,
              "#0d0887"
             ],
             [
              0.1111111111111111,
              "#46039f"
             ],
             [
              0.2222222222222222,
              "#7201a8"
             ],
             [
              0.3333333333333333,
              "#9c179e"
             ],
             [
              0.4444444444444444,
              "#bd3786"
             ],
             [
              0.5555555555555556,
              "#d8576b"
             ],
             [
              0.6666666666666666,
              "#ed7953"
             ],
             [
              0.7777777777777778,
              "#fb9f3a"
             ],
             [
              0.8888888888888888,
              "#fdca26"
             ],
             [
              1,
              "#f0f921"
             ]
            ],
            "type": "heatmap"
           }
          ],
          "histogram": [
           {
            "marker": {
             "pattern": {
              "fillmode": "overlay",
              "size": 10,
              "solidity": 0.2
             }
            },
            "type": "histogram"
           }
          ],
          "histogram2d": [
           {
            "colorbar": {
             "outlinewidth": 0,
             "ticks": ""
            },
            "colorscale": [
             [
              0,
              "#0d0887"
             ],
             [
              0.1111111111111111,
              "#46039f"
             ],
             [
              0.2222222222222222,
              "#7201a8"
             ],
             [
              0.3333333333333333,
              "#9c179e"
             ],
             [
              0.4444444444444444,
              "#bd3786"
             ],
             [
              0.5555555555555556,
              "#d8576b"
             ],
             [
              0.6666666666666666,
              "#ed7953"
             ],
             [
              0.7777777777777778,
              "#fb9f3a"
             ],
             [
              0.8888888888888888,
              "#fdca26"
             ],
             [
              1,
              "#f0f921"
             ]
            ],
            "type": "histogram2d"
           }
          ],
          "histogram2dcontour": [
           {
            "colorbar": {
             "outlinewidth": 0,
             "ticks": ""
            },
            "colorscale": [
             [
              0,
              "#0d0887"
             ],
             [
              0.1111111111111111,
              "#46039f"
             ],
             [
              0.2222222222222222,
              "#7201a8"
             ],
             [
              0.3333333333333333,
              "#9c179e"
             ],
             [
              0.4444444444444444,
              "#bd3786"
             ],
             [
              0.5555555555555556,
              "#d8576b"
             ],
             [
              0.6666666666666666,
              "#ed7953"
             ],
             [
              0.7777777777777778,
              "#fb9f3a"
             ],
             [
              0.8888888888888888,
              "#fdca26"
             ],
             [
              1,
              "#f0f921"
             ]
            ],
            "type": "histogram2dcontour"
           }
          ],
          "mesh3d": [
           {
            "colorbar": {
             "outlinewidth": 0,
             "ticks": ""
            },
            "type": "mesh3d"
           }
          ],
          "parcoords": [
           {
            "line": {
             "colorbar": {
              "outlinewidth": 0,
              "ticks": ""
             }
            },
            "type": "parcoords"
           }
          ],
          "pie": [
           {
            "automargin": true,
            "type": "pie"
           }
          ],
          "scatter": [
           {
            "fillpattern": {
             "fillmode": "overlay",
             "size": 10,
             "solidity": 0.2
            },
            "type": "scatter"
           }
          ],
          "scatter3d": [
           {
            "line": {
             "colorbar": {
              "outlinewidth": 0,
              "ticks": ""
             }
            },
            "marker": {
             "colorbar": {
              "outlinewidth": 0,
              "ticks": ""
             }
            },
            "type": "scatter3d"
           }
          ],
          "scattercarpet": [
           {
            "marker": {
             "colorbar": {
              "outlinewidth": 0,
              "ticks": ""
             }
            },
            "type": "scattercarpet"
           }
          ],
          "scattergeo": [
           {
            "marker": {
             "colorbar": {
              "outlinewidth": 0,
              "ticks": ""
             }
            },
            "type": "scattergeo"
           }
          ],
          "scattergl": [
           {
            "marker": {
             "colorbar": {
              "outlinewidth": 0,
              "ticks": ""
             }
            },
            "type": "scattergl"
           }
          ],
          "scattermap": [
           {
            "marker": {
             "colorbar": {
              "outlinewidth": 0,
              "ticks": ""
             }
            },
            "type": "scattermap"
           }
          ],
          "scattermapbox": [
           {
            "marker": {
             "colorbar": {
              "outlinewidth": 0,
              "ticks": ""
             }
            },
            "type": "scattermapbox"
           }
          ],
          "scatterpolar": [
           {
            "marker": {
             "colorbar": {
              "outlinewidth": 0,
              "ticks": ""
             }
            },
            "type": "scatterpolar"
           }
          ],
          "scatterpolargl": [
           {
            "marker": {
             "colorbar": {
              "outlinewidth": 0,
              "ticks": ""
             }
            },
            "type": "scatterpolargl"
           }
          ],
          "scatterternary": [
           {
            "marker": {
             "colorbar": {
              "outlinewidth": 0,
              "ticks": ""
             }
            },
            "type": "scatterternary"
           }
          ],
          "surface": [
           {
            "colorbar": {
             "outlinewidth": 0,
             "ticks": ""
            },
            "colorscale": [
             [
              0,
              "#0d0887"
             ],
             [
              0.1111111111111111,
              "#46039f"
             ],
             [
              0.2222222222222222,
              "#7201a8"
             ],
             [
              0.3333333333333333,
              "#9c179e"
             ],
             [
              0.4444444444444444,
              "#bd3786"
             ],
             [
              0.5555555555555556,
              "#d8576b"
             ],
             [
              0.6666666666666666,
              "#ed7953"
             ],
             [
              0.7777777777777778,
              "#fb9f3a"
             ],
             [
              0.8888888888888888,
              "#fdca26"
             ],
             [
              1,
              "#f0f921"
             ]
            ],
            "type": "surface"
           }
          ],
          "table": [
           {
            "cells": {
             "fill": {
              "color": "#EBF0F8"
             },
             "line": {
              "color": "white"
             }
            },
            "header": {
             "fill": {
              "color": "#C8D4E3"
             },
             "line": {
              "color": "white"
             }
            },
            "type": "table"
           }
          ]
         },
         "layout": {
          "annotationdefaults": {
           "arrowcolor": "#2a3f5f",
           "arrowhead": 0,
           "arrowwidth": 1
          },
          "autotypenumbers": "strict",
          "coloraxis": {
           "colorbar": {
            "outlinewidth": 0,
            "ticks": ""
           }
          },
          "colorscale": {
           "diverging": [
            [
             0,
             "#8e0152"
            ],
            [
             0.1,
             "#c51b7d"
            ],
            [
             0.2,
             "#de77ae"
            ],
            [
             0.3,
             "#f1b6da"
            ],
            [
             0.4,
             "#fde0ef"
            ],
            [
             0.5,
             "#f7f7f7"
            ],
            [
             0.6,
             "#e6f5d0"
            ],
            [
             0.7,
             "#b8e186"
            ],
            [
             0.8,
             "#7fbc41"
            ],
            [
             0.9,
             "#4d9221"
            ],
            [
             1,
             "#276419"
            ]
           ],
           "sequential": [
            [
             0,
             "#0d0887"
            ],
            [
             0.1111111111111111,
             "#46039f"
            ],
            [
             0.2222222222222222,
             "#7201a8"
            ],
            [
             0.3333333333333333,
             "#9c179e"
            ],
            [
             0.4444444444444444,
             "#bd3786"
            ],
            [
             0.5555555555555556,
             "#d8576b"
            ],
            [
             0.6666666666666666,
             "#ed7953"
            ],
            [
             0.7777777777777778,
             "#fb9f3a"
            ],
            [
             0.8888888888888888,
             "#fdca26"
            ],
            [
             1,
             "#f0f921"
            ]
           ],
           "sequentialminus": [
            [
             0,
             "#0d0887"
            ],
            [
             0.1111111111111111,
             "#46039f"
            ],
            [
             0.2222222222222222,
             "#7201a8"
            ],
            [
             0.3333333333333333,
             "#9c179e"
            ],
            [
             0.4444444444444444,
             "#bd3786"
            ],
            [
             0.5555555555555556,
             "#d8576b"
            ],
            [
             0.6666666666666666,
             "#ed7953"
            ],
            [
             0.7777777777777778,
             "#fb9f3a"
            ],
            [
             0.8888888888888888,
             "#fdca26"
            ],
            [
             1,
             "#f0f921"
            ]
           ]
          },
          "colorway": [
           "#636efa",
           "#EF553B",
           "#00cc96",
           "#ab63fa",
           "#FFA15A",
           "#19d3f3",
           "#FF6692",
           "#B6E880",
           "#FF97FF",
           "#FECB52"
          ],
          "font": {
           "color": "#2a3f5f"
          },
          "geo": {
           "bgcolor": "white",
           "lakecolor": "white",
           "landcolor": "#E5ECF6",
           "showlakes": true,
           "showland": true,
           "subunitcolor": "white"
          },
          "hoverlabel": {
           "align": "left"
          },
          "hovermode": "closest",
          "mapbox": {
           "style": "light"
          },
          "paper_bgcolor": "white",
          "plot_bgcolor": "#E5ECF6",
          "polar": {
           "angularaxis": {
            "gridcolor": "white",
            "linecolor": "white",
            "ticks": ""
           },
           "bgcolor": "#E5ECF6",
           "radialaxis": {
            "gridcolor": "white",
            "linecolor": "white",
            "ticks": ""
           }
          },
          "scene": {
           "xaxis": {
            "backgroundcolor": "#E5ECF6",
            "gridcolor": "white",
            "gridwidth": 2,
            "linecolor": "white",
            "showbackground": true,
            "ticks": "",
            "zerolinecolor": "white"
           },
           "yaxis": {
            "backgroundcolor": "#E5ECF6",
            "gridcolor": "white",
            "gridwidth": 2,
            "linecolor": "white",
            "showbackground": true,
            "ticks": "",
            "zerolinecolor": "white"
           },
           "zaxis": {
            "backgroundcolor": "#E5ECF6",
            "gridcolor": "white",
            "gridwidth": 2,
            "linecolor": "white",
            "showbackground": true,
            "ticks": "",
            "zerolinecolor": "white"
           }
          },
          "shapedefaults": {
           "line": {
            "color": "#2a3f5f"
           }
          },
          "ternary": {
           "aaxis": {
            "gridcolor": "white",
            "linecolor": "white",
            "ticks": ""
           },
           "baxis": {
            "gridcolor": "white",
            "linecolor": "white",
            "ticks": ""
           },
           "bgcolor": "#E5ECF6",
           "caxis": {
            "gridcolor": "white",
            "linecolor": "white",
            "ticks": ""
           }
          },
          "title": {
           "x": 0.05
          },
          "xaxis": {
           "automargin": true,
           "gridcolor": "white",
           "linecolor": "white",
           "ticks": "",
           "title": {
            "standoff": 15
           },
           "zerolinecolor": "white",
           "zerolinewidth": 2
          },
          "yaxis": {
           "automargin": true,
           "gridcolor": "white",
           "linecolor": "white",
           "ticks": "",
           "title": {
            "standoff": 15
           },
           "zerolinecolor": "white",
           "zerolinewidth": 2
          }
         }
        },
        "title": {
         "text": "DVL Sensor Comparison - 2024-08-22_14-06-43"
        },
        "xaxis": {
         "anchor": "y",
         "domain": [
          0,
          0.45
         ],
         "matches": "x5",
         "showticklabels": false
        },
        "xaxis2": {
         "anchor": "y2",
         "domain": [
          0.55,
          1
         ],
         "matches": "x6",
         "showticklabels": false
        },
        "xaxis3": {
         "anchor": "y3",
         "domain": [
          0,
          0.45
         ],
         "matches": "x5",
         "showticklabels": false
        },
        "xaxis4": {
         "anchor": "y4",
         "domain": [
          0.55,
          1
         ],
         "matches": "x6",
         "showticklabels": false
        },
        "xaxis5": {
         "anchor": "y5",
         "domain": [
          0,
          0.45
         ],
         "title": {
          "text": "Time (minutes)"
         }
        },
        "xaxis6": {
         "anchor": "y6",
         "domain": [
          0.55,
          1
         ],
         "title": {
          "text": "Time (minutes)"
         }
        },
        "yaxis": {
         "anchor": "x",
         "domain": [
          0.72,
          1
         ]
        },
        "yaxis2": {
         "anchor": "x2",
         "domain": [
          0.72,
          1
         ]
        },
        "yaxis3": {
         "anchor": "x3",
         "domain": [
          0.36,
          0.6399999999999999
         ]
        },
        "yaxis4": {
         "anchor": "x4",
         "domain": [
          0.36,
          0.6399999999999999
         ]
        },
        "yaxis5": {
         "anchor": "x5",
         "domain": [
          0,
          0.27999999999999997
         ]
        },
        "yaxis6": {
         "anchor": "x6",
         "domain": [
          0,
          0.27999999999999997
         ]
        }
       }
      }
     },
     "metadata": {},
     "output_type": "display_data"
    },
    {
     "name": "stdout",
     "output_type": "stream",
     "text": [
      "\n",
      "📈 Data Quality Summary:\n",
      "------------------------------\n",
      "Nucleus1000DVL bottomtrack valid samples: 52/52 (100.0%)\n",
      "  - Velocity X range: -32.768 to 0.252 m/s\n",
      "  - Velocity Y range: -32.768 to 0.047 m/s\n",
      "  - Velocity Z range: -32.768 to 0.094 m/s\n",
      "\n",
      "Traditional sensor_dvl statistics:\n",
      "  - Position valid samples: 154/154 (100.0%)\n",
      "  - Velocity valid samples: 311/311 (100.0%)\n",
      "  - Velocity X range: 0.010 to 0.273 m/s\n",
      "  - Velocity Y range: -0.211 to 0.045 m/s\n",
      "  - Velocity Z range: -0.110 to 0.092 m/s\n",
      "  - Position X range: -0.020 to 4.125 m\n",
      "  - Position Y range: -0.425 to 0.008 m\n",
      "  - Position Z range: -3.057 to 0.133 m\n",
      "\n",
      "🕐 Sampling Rate Comparison:\n",
      "  - Nucleus1000DVL rate: 89.2 samples/min\n",
      "  - Sensor DVL velocity rate: 553.2 samples/min\n",
      "  - Sensor DVL position rate: 277.3 samples/min\n",
      "\n",
      "✅ DVL Sensor Comparison Complete!\n"
     ]
    }
   ],
   "source": [
    "# 📊 DVL SENSOR COMPARISON ANALYSIS\n",
    "# =================================\n",
    "# Compare nucleus1000dvl bottomtrack data with traditional sensor_dvl position/velocity\n",
    "\n",
    "# Reload the utility module to get latest updates\n",
    "import importlib\n",
    "importlib.reload(dvl_utils)\n",
    "\n",
    "# Recreate analyzer with updated methods\n",
    "analyzer = dvl_utils.Nucleus1000DVLAnalyzer(BY_BAG_FOLDER)\n",
    "\n",
    "print(\"🔍 DVL Sensor Comparison Analysis\")\n",
    "print(\"=\" * 50)\n",
    "\n",
    "# Check available bags for comparison\n",
    "selected_bag = first_bag  # Use the same bag as before\n",
    "print(f\"📁 Using bag: {selected_bag}\")\n",
    "\n",
    "# Load nucleus1000dvl bottomtrack data (primary DVL sensor)\n",
    "nucleus_bt = analyzer.load_sensor_data(\"bottomtrack\", selected_bag)\n",
    "\n",
    "# Load traditional sensor DVL data for comparison\n",
    "sensor_dvl_pos = analyzer._load_single_file(\"sensor_dvl_position\", selected_bag)\n",
    "sensor_dvl_vel = analyzer._load_single_file(\"sensor_dvl_velocity\", selected_bag)\n",
    "\n",
    "if nucleus_bt is not None and sensor_dvl_pos is not None and sensor_dvl_vel is not None:\n",
    "    print(f\"✅ Loaded nucleus1000dvl bottomtrack: {len(nucleus_bt)} samples\")\n",
    "    print(f\"✅ Loaded sensor_dvl_position: {len(sensor_dvl_pos)} samples\")\n",
    "    print(f\"✅ Loaded sensor_dvl_velocity: {len(sensor_dvl_vel)} samples\")\n",
    "    \n",
    "    # Use the comparison function from our analyzer\n",
    "    analyzer.compare_dvl_sensors(selected_bag, interactive=HAS_PLOTLY)\n",
    "    \n",
    "    # Data quality comparison\n",
    "    print(\"\\n📈 Data Quality Summary:\")\n",
    "    print(\"-\" * 30)\n",
    "    \n",
    "    # Focus on key velocity columns\n",
    "    nucleus_vel_cols = ['dvl_velocity_xyz.x', 'dvl_velocity_xyz.y', 'dvl_velocity_xyz.z']\n",
    "    sensor_vel_cols = ['velocity.x', 'velocity.y', 'velocity.z']\n",
    "    sensor_pos_cols = ['x', 'y', 'z']\n",
    "    \n",
    "    # Nucleus1000DVL bottomtrack statistics\n",
    "    nucleus_valid = nucleus_bt.dropna(subset=nucleus_vel_cols)\n",
    "    print(f\"Nucleus1000DVL bottomtrack valid samples: {len(nucleus_valid)}/{len(nucleus_bt)} ({100*len(nucleus_valid)/len(nucleus_bt):.1f}%)\")\n",
    "    \n",
    "    if len(nucleus_valid) > 0:\n",
    "        print(f\"  - Velocity X range: {nucleus_valid['dvl_velocity_xyz.x'].min():.3f} to {nucleus_valid['dvl_velocity_xyz.x'].max():.3f} m/s\")\n",
    "        print(f\"  - Velocity Y range: {nucleus_valid['dvl_velocity_xyz.y'].min():.3f} to {nucleus_valid['dvl_velocity_xyz.y'].max():.3f} m/s\") \n",
    "        print(f\"  - Velocity Z range: {nucleus_valid['dvl_velocity_xyz.z'].min():.3f} to {nucleus_valid['dvl_velocity_xyz.z'].max():.3f} m/s\")\n",
    "    \n",
    "    # Sensor DVL statistics\n",
    "    sensor_vel_valid = sensor_dvl_vel.dropna(subset=sensor_vel_cols)\n",
    "    sensor_pos_valid = sensor_dvl_pos.dropna(subset=sensor_pos_cols)\n",
    "    \n",
    "    print(f\"\\nTraditional sensor_dvl statistics:\")\n",
    "    print(f\"  - Position valid samples: {len(sensor_pos_valid)}/{len(sensor_dvl_pos)} ({100*len(sensor_pos_valid)/len(sensor_dvl_pos):.1f}%)\")\n",
    "    print(f\"  - Velocity valid samples: {len(sensor_vel_valid)}/{len(sensor_dvl_vel)} ({100*len(sensor_vel_valid)/len(sensor_dvl_vel):.1f}%)\")\n",
    "    \n",
    "    if len(sensor_vel_valid) > 0:\n",
    "        print(f\"  - Velocity X range: {sensor_vel_valid['velocity.x'].min():.3f} to {sensor_vel_valid['velocity.x'].max():.3f} m/s\")\n",
    "        print(f\"  - Velocity Y range: {sensor_vel_valid['velocity.y'].min():.3f} to {sensor_vel_valid['velocity.y'].max():.3f} m/s\")\n",
    "        print(f\"  - Velocity Z range: {sensor_vel_valid['velocity.z'].min():.3f} to {sensor_vel_valid['velocity.z'].max():.3f} m/s\")\n",
    "    \n",
    "    if len(sensor_pos_valid) > 0:\n",
    "        print(f\"  - Position X range: {sensor_pos_valid['x'].min():.3f} to {sensor_pos_valid['x'].max():.3f} m\")\n",
    "        print(f\"  - Position Y range: {sensor_pos_valid['y'].min():.3f} to {sensor_pos_valid['y'].max():.3f} m\")\n",
    "        print(f\"  - Position Z range: {sensor_pos_valid['z'].min():.3f} to {sensor_pos_valid['z'].max():.3f} m\")\n",
    "    \n",
    "    # Data rate comparison\n",
    "    print(f\"\\n🕐 Sampling Rate Comparison:\")\n",
    "    nucleus_duration = nucleus_bt['t_rel'].max() / 60.0  # minutes\n",
    "    sensor_vel_duration = sensor_dvl_vel['t_rel'].max() / 60.0\n",
    "    sensor_pos_duration = sensor_dvl_pos['t_rel'].max() / 60.0\n",
    "    \n",
    "    print(f\"  - Nucleus1000DVL rate: {len(nucleus_bt)/nucleus_duration:.1f} samples/min\")\n",
    "    print(f\"  - Sensor DVL velocity rate: {len(sensor_dvl_vel)/sensor_vel_duration:.1f} samples/min\")\n",
    "    print(f\"  - Sensor DVL position rate: {len(sensor_dvl_pos)/sensor_pos_duration:.1f} samples/min\")\n",
    "    \n",
    "else:\n",
    "    missing = []\n",
    "    if nucleus_bt is None:\n",
    "        missing.append(\"nucleus1000dvl_bottomtrack\")\n",
    "    if sensor_dvl_pos is None:\n",
    "        missing.append(\"sensor_dvl_position\")\n",
    "    if sensor_dvl_vel is None:\n",
    "        missing.append(\"sensor_dvl_velocity\")\n",
    "    \n",
    "    print(f\"❌ Missing data files: {', '.join(missing)}\")\n",
    "    print(\"Cannot perform comparison analysis\")\n",
    "\n",
    "print(\"\\n✅ DVL Sensor Comparison Complete!\")"
   ]
  },
  {
   "cell_type": "code",
   "execution_count": 19,
   "id": "c83b17cd",
   "metadata": {},
   "outputs": [
    {
     "name": "stdout",
     "output_type": "stream",
     "text": [
      "🧭 Navigation and Guidance System Analysis\n",
      "============================================================\n",
      "🔍 Found Navigation/Guidance data:\n",
      "   📅 Bags: 5\n",
      "   📊 Sensors: 3\n",
      "   Sensors: guidance, navigation_plane_approximation, navigation_plane_approximation_position\n",
      "📁 Analyzing bag: 2024-08-22_14-06-43\n",
      "\n",
      "🎯 GUIDANCE SYSTEM ERROR ANALYSIS\n",
      "----------------------------------------\n",
      "📁 Loaded guidance__2024-08-22_14-06-43_data.csv: 317 rows, 30 columns\n",
      "🎯 Analyzing guidance errors for bag: 2024-08-22_14-06-43\n"
     ]
    },
    {
     "data": {
      "application/vnd.plotly.v1+json": {
       "config": {
        "plotlyServerURL": "https://plot.ly"
       },
       "data": [
        {
         "line": {
          "color": "rgb(228,26,28)"
         },
         "name": "x",
         "type": "scatter",
         "x": {
          "bdata": "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",
          "dtype": "f8"
         },
         "xaxis": "x",
         "y": {
          "bdata": "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",
          "dtype": "f8"
         },
         "yaxis": "y"
        },
        {
         "line": {
          "color": "rgb(55,126,184)"
         },
         "name": "y",
         "type": "scatter",
         "x": {
          "bdata": "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",
          "dtype": "f8"
         },
         "xaxis": "x",
         "y": {
          "bdata": "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",
          "dtype": "f8"
         },
         "yaxis": "y"
        },
        {
         "line": {
          "color": "rgb(77,175,74)"
         },
         "name": "z",
         "type": "scatter",
         "x": {
          "bdata": "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",
          "dtype": "f8"
         },
         "xaxis": "x",
         "y": {
          "bdata": "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",
          "dtype": "f8"
         },
         "yaxis": "y"
        },
        {
         "line": {
          "color": "blue"
         },
         "name": "Desired Surge",
         "type": "scatter",
         "x": {
          "bdata": "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",
          "dtype": "f8"
         },
         "xaxis": "x2",
         "y": {
          "bdata": "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",
          "dtype": "f8"
         },
         "yaxis": "y2"
        },
        {
         "line": {
          "color": "red"
         },
         "name": "Error Surge",
         "type": "scatter",
         "x": {
          "bdata": "AAAAAAAAAAAQERERUSJSPwAAAABgRWk/u7u7u6vocT/NzMzMrDd6P+7u7u4udX8/VVVVVUVthD8RERERmXyGPyIiIiJ6h4g/MzMzM+tRjT+ZmZmZsX+PP97d3d1JC5E/AAAAAEQjkz+amZmZ+XaUP97d3d0ReJU/ZmZmZr7Vlz+JiIiIkN+YP7y7u7sP8pk/IyIiImJLnD+sqqqq1o2dPxEREREtqp8/vLu7u9V8oD8iIiIiUo2hP5qZmZnlMqI/AAAAAHJDoz+8u7u7Q+ijPwAAAAAG8aQ/q6qqqkh6pT+8u7u7S6qmP5qZmZmxTac/MzMzM61ZqD9EREREFP2oP83MzMxqDao/7+7u7ra7qj9mZmZm1uGrP1VVVVWjrqw/RERERKyNrT9mZmZmzHauP+/u7u5gWa8/d3d3d30nsD+rqqqq2ZOwPxEREREzHrE/q6qqqmaOsT9mZmZmDQSyP4mIiIiRabI/d3d3d1Xlsj93d3d3r6WzP3d3d3fBJ7Q/IiIiIjqbtD+JiIiIEge1P3d3d3f5i7U/7+7u7vTytT+JiIiIVmW2P97d3d0X0LY/ZmZmZixXtz/e3d3dIMS3P1VVVVUeSrg/AAAAADi9uD+amZmZ0TC5P7y7u7uBsLk/q6qqql81uj9VVVVV76m6P4mIiIjXGrs/mpmZmS+Uuz+8u7u7UhW8PyIiIiLYfLw/3t3d3RruvD/e3d3dR2W9P5qZmZld1L0/MzMzM3Fbvj8AAAAARtO+P0REREReTr8/Z2ZmZijQvz8zMzMzWRzAP7y7uztrU8A/ZmZmZj6OwD+JiIiIP8vAPzMzMzPBC8E/zczMzFRDwT8iIiKixX/BP6uqqipXvcE/ZmZmZgTzwT+8u7s75jXCP5qZmRmXa8I/7+7ubpelwj8RERERjOXCP0RERMRUHMM/7+7u7g5cwz/e3d1dCJzDP+/u7m4L08M/7+7u7nMYxD+sqqqqqVTEP87MzExmjsQ/MzMzM5nBxD9mZmZmVfvEP5qZmZmJOsU/zczMzOV1xT8QERERFq/FP1VVVVV948U/IyIiohcnxj8iIiIiiWPGPzQzM7OipMY/AAAAAAbgxj+7u7s7RBPHP4mIiIgRTsc/iYiIiBCRxz+9u7u70crHP2dmZuYtAMg/AAAAALhDyD+amZmZfHnIP83MzEzvucg/mpmZmUf8yD/NzMxMIjHJP+/u7m49bMk/7u7u7q6myT8iIiIibt3JP6uqqqolI8o/AQAAABJZyj/NzMxMzpLKPzMzMzNGyco/dnd3d6oEyz93d3f3XkTLP3l3d3ekhMs/q6qqqhy7yz+sqqqqqfjLP2ZmZuasL8w/vLu7u6hrzD8AAACAUJ7MP0RERERZ18w/7u7u7u8XzT8QERERElnNP5qZmZk+ns0/ZmZmZobYzT9WVVVV5QnOP1VVVVWGTs4/ZmZmZnKEzj/e3d1diMjOPxERERHqAM8/m5mZGZpIzz/e3d3d14fPPxIREZEGx88/MzMzs1X7zz+rqqoqsx/QP6uqqirvQNA/zczMTBZb0D+amZkZrXfQP3d3dzfPmtA/VVVVVWi00D8zMzMzjc7QP1VVVVVv7tA/iYiICKkP0T/v7u7uzCzRPyIiIqIfSdE/VVVV1f1l0T+amZnZWofRP97d3d3todE/IiIiYr+80T+amZmZ9eDRPzMzM7M0/NE/REREBOQZ0j8RERHRMzTSP0RERIRtVdI/mpmZWalw0j+JiIjIX4zSP97d3R2Xs9I/AAAAQHrK0j/v7u6uPenSP2ZmZqYyB9M/IiIi4m4o0z8zMzPzBULTPzMzM/O5X9M/ERER0cd40z9EREQEjpfTP+/u7m79t9M/ZmZmJsTT0z9mZmYmR+/TP1VVVRU+DNQ/q6qqat4s1D+amZnZakfUP+/u7m6qadQ/h4iISIyD1D+amZkZPKTUP6uqqirqwdQ/8O7ubiXg1D8QERFRD/rUP5qZmZlyGdU/AAAAgDc11T93d3e35VXVPzMzM7MHcNU/zczMjEKO1T/v7u6u8avVP+/u7u7ow9U/RUREBJ7i1T9ERETE2ADWPwAAAMDQItY/d3d3t/U81j8RERGRpl3WPzMzM7P3dtY/d3d3t5qY1j/v7u4uQLTWP4mIiIhu1tY/EREREQfz1j+8u7t7KxPXP////3/zLtc/q6qqqt9I1z93d3f3XmrXP0RERMSAjdc/REREhLyo1z/v7u6ussPXP4mIiMiP49c/d3d3tyX+1z9ERESETiDYP0RERAQDONg/iYiIiANS2D8iIiKiyXDYP1VVVdV3kdg/AAAAgGKt2D8RERFRLcjYPzMzM3MH69g/iYiIyLcF2T9ERESEaSPZP3Z3d/cDQdk/q6qqKpxd2T/v7u4uqXnZP5qZmVnNnNk/q6qqKpK42T+rqqpqVNTZP0RERIQR7tk/vLu7u8IO2j8iIiKiti/aP2ZmZqbwnNo/VVVVlfO02j/NzMzMudPaP83MzMx+9do/3t3d3boQ2z8SEREREC3bPxERERGLSts/7+7uLpZs2z/e3d2dGIvbP0RERASZo9s/ERER0WDF2z/e3d2ds+HbPyIiIqLs+ts/AAAAAOIY3D8RERERJDbcP7y7u/uAV9w/ZmZm5lRy3D+JiIjIP47cP0RERIThsdw/MzMzM2TQ3D+JiIiIhe3cPxEREdFkB90/NDMz8x0l3T+JiIgIakfdP4mIiMg6Zd0/zczMTLuD3T9mZmbm3KbdPzMzM7MYwt0/zMzMTJrd3T9EREQEz/zdPwAAAAAJHt4/7+7uLvkz3j+rqqpqplHeP6uqqqrGcd4/ZmZmZu6L3j9mZmYmU63eP7y7u3smx94/zczMDI/n3j8yMzPzEAPfPwAAAED1It8/3t3dHYNF3z8iIiKiG2LfP0NERMQRfd8/iYiIiHua3z/w7u7uKr7fP+/u7i6r1t8/iYiIiCHz3z/e3d19wgjgPxEREdH3FeA/RERE5H0o4D+rqqqKvjfgP+/u7o6sROA/AAAA4AxT4D/NzMwMjmTgP6uqqgrHcuA/iYiIKGN/4D/NzMwsN43gPzMzMzPJm+A/MzMzUwiu4D9ERESEg77gP7y7uxtzy+A/zczMzAPa4D/e3d2duOjgP7y7u1vA9uA/zMzMLDAI4T8zMzNzvxXhP2ZmZmY5JuE/ZmZmJkE04T9EREQki0HhP6uqqqq0T+E/REREhFFg4T+8u7ubwG7hP1VVVVXHf+E/d3d3Nx6N4T8zMzNTjZvhPzMzM5PZqeE/mpmZmWC24T8zMzOzt8bhP6uqqqo91uE/3t3dncPl4T8zMzPTcfPhPwAAAACYAuI/mpmZOeQQ4j93d3cXjSDiP97d3b0PMuI/RERERMs+4j+JiIgoEU/iPw==",
          "dtype": "f8"
         },
         "xaxis": "x2",
         "y": {
          "bdata": "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",
          "dtype": "f8"
         },
         "yaxis": "y2"
        },
        {
         "line": {
          "color": "green"
         },
         "name": "Yaw Error",
         "type": "scatter",
         "x": {
          "bdata": "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",
          "dtype": "f8"
         },
         "xaxis": "x3",
         "y": {
          "bdata": "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",
          "dtype": "f8"
         },
         "yaxis": "y3"
        },
        {
         "line": {
          "color": "purple"
         },
         "name": "Net Distance Error",
         "type": "scatter",
         "x": {
          "bdata": "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",
          "dtype": "f8"
         },
         "xaxis": "x4",
         "y": {
          "bdata": "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",
          "dtype": "f8"
         },
         "yaxis": "y4"
        },
        {
         "line": {
          "color": "rgb(102,194,165)"
         },
         "name": "surge",
         "type": "scatter",
         "x": {
          "bdata": "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",
          "dtype": "f8"
         },
         "xaxis": "x5",
         "y": {
          "bdata": "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",
          "dtype": "f8"
         },
         "yaxis": "y5"
        },
        {
         "line": {
          "color": "rgb(252,141,98)"
         },
         "name": "sway",
         "type": "scatter",
         "x": {
          "bdata": "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",
          "dtype": "f8"
         },
         "xaxis": "x5",
         "y": {
          "bdata": "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",
          "dtype": "f8"
         },
         "yaxis": "y5"
        },
        {
         "line": {
          "color": "rgb(141,160,203)"
         },
         "name": "heave",
         "type": "scatter",
         "x": {
          "bdata": "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",
          "dtype": "f8"
         },
         "xaxis": "x5",
         "y": {
          "bdata": "AAAAAAAAAAAAAAAAAAAAAAAAAAAAAAAAAAAAAAAAAAAAAAAAAAAAAAAAAAAAAAAAAAAAAAAAAAAAAAAAAAAAAAAAAAAAAAAAAAAAAAAAAAAAAAAAAAAAAAAAAAAAAAAAAAAAAAAAAAAAAAAAAAAAAAAAAAAAAAAAAAAAAAAAAAAAAAAAAAAAAAAAAAAAAAAAAAAAAAAAAAAAAAAAAAAAAAAAAAAAAAAAAAAAAAAAAAAAAAAAAAAAAAAAAAAAAAAAAAAAAAAAAAAAAAAAAAAAAAAAAAAAAAAAAAAAAAAAAAAAAAAAAAAAAAAAAAAAAAAAAAAAAAAAAAAAAAAAAAAAAAAAAAAAAAAAAAAAAAAAAAAAAAAAAAAAAAAAAAAAAAAAAAAAAAAAAAAAAAAAAAAAAAAAAAAAAAAAAAAAAAAAAAAAAAAAAAAAAAAAAAAAAAAAAAAAAAAAAAAAAAAAAAAAAAAAAAAAAAAAAAAAAAAAAAAAAAAAAAAAAAAAAAAAAAAAAAAAAAAAAAAAAAAAAAAAAAAAAAAAAAAAAAAAAAAAAAAAAAAAAAAAAAAAAAAAAAAAAAAAAAAAAAAAAAAAAAAAAAAAAAAAAAAAAAAAAAAAAAAAAAAAAAAAAAAAAAAAAAAAAAAAAAAAAAAAAAAAAAAAAAAAAAAAAAAAAAAAAAAAAAAAAAAAAAAAAAAAAAAAAAAAAAAAAAAAAAAAAAAAAAAAAAAAAAAAAAAAAAAAAAAAAAAAAAAAAAAAAAAAAAAAAAAAAAAAAAAAAAAAAAAAAAAAAAAAAAAAAAAAAAAAAAAAAAAAAAAAAAAAAAAAAAAAAAAAAAAAAAAAAAAAAAAAAAAAAAAAAAAAAAAAAAAAAAAAAAAAAAAAAAAAAAAAAAAAAAAAAAAAAAAAAAAAAAAAAAAAAAAAAAAAAAAAAAAAAAAAAAAAAAAAAAAAAAAAAAAAAAAAAAAAAAAAAAAAAAAAAAAAAAAAAAAAAAAAAAAAAAAAAAAAAAAAAAAAAAAAAAAAAAAAAAAAAAAAAAAAAAAAAAAAAAAAAAAAAAAAAAAAAAAAAAAAAAAAAAAAAAAAAAAAAAAAAAAAAAAAAAAAAAAAAAAAAAAAAAAAAAAAAAAAAAAAAAAAAAAAAAAAAAAAAAAAAAAAAAAAAAAAAAAAAAAAAAAAAAAAAAAAAAAAAAAAAAAAAAAAAAAAAAAAAAAAAAAAAAAAAAAAAAAAAAAAAAAAAAAAAAAAAAAAAAAAAAAAAAAAAAAAAAAAAAAAAAAAAAAAAAAAAAAAAAAAAAAAAAAAAAAAAAAAAAAAAAAAAAAAAAAAAAAAAAAAAAAAAAAAAAAAAAAAAAAAAAAAAAAAAAAAAAAAAAAAAAAAAAAAAAAAAAAAAAAAAAAAAAAAAAAAAAAAAAAAAAAAAAAAAAAAAAAAAAAAAAAAAAAAAAAAAAAAAAAAAAAAAAAAAAAAAAAAAAAAAAAAAAAAAAAAAAAAAAAAAAAAAAAAAAAAAAAAAAAAAAAAAAAAAAAAAAAAAAAAAAAAAAAAAAAAAAAAAAAAAAAAAAAAAAAAAAAAAAAAAAAAAAAAAAAAAAAAAAAAAAAAAAAAAAAAAAAAAAAAAAAAAAAAAAAAAAAAAAAAAAAAAAAAAAAAAAAAAAAAAAAAAAAAAAAAAAAAAAAAAAAAAAAAAAAAAAAAAAAAAAAAAAAAAAAAAAAAAAAAAAAAAAAAAAAAAAAAAAAAAAAAAAAAAAAAAAAAAAAAAAAAAAAAAAAAAAAAAAAAAAAAAAAAAAAAAAAAAAAAAAAAAAAAAAAAAAAAAAAAAAAAAAAAAAAAAAAAAAAAAAAAAAAAAAAAAAAAAAAAAAAAAAAAAAAAAAAAAAAAAAAAAAAAAAAAAAAAAAAAAAAAAAAAAAAAAAAAAAAAAAAAAAAAAAAAAAAAAAAAAAAAAAAAAAAAAAAAAAAAAAAAAAAAAAAAAAAAAAAAAAAAAAAAAAAAAAAAAAAAAAAAAAAAAAAAAAAAAAAAAAAAAAAAAAAAAAAAAAAAAAAAAAAAAAAAAAAAAAAAAAAAAAAAAAAAAAAAAAAAAAAAAAAAAAAAAAAAAAAAAAAAAAAAAAAAAAAAAAAAAAAAAAAAAAAAAAAAAAAAAAAAAAAAAAAAAAAAAAAAAAAAAAAAAAAAAAAAAAAAAAAAAAAAAAAAAAAAAAAAAAAAAAAAAAAAAAAAAAAAAAAAAAAAAAAAAAAAAAAAAAAAAAAAAAAAAAAAAAAAAAAAAAAAAAAAAAAAAAAAAAAAAAAAAAAAAAAAAAAAAAAAAAAAAAAAAAAAAAAAAAAAAAAAAAAAAAAAAAAAAAAAAAAAAAAAAAAAAAAAAAAAAAAAAAAAAAAAAAAAAAAAAAAAAAAAAAAAAAAAAAAAAAAAAAAAAAAAAAAAAAAAAAAAAAAAAAAAAAAAAAAAAAAAAAAAAAAAAAAAAAAAAAAAAAAAAAAAAAAAAAAAAAAAAAAAAAAAAAAAAAAAAAAAAAAAAAAAAAAAAAAAAAAAAAAAAAAAAAAAAAAAAAAAAAAAAAAAAAAAAAAAAAAAAAAAAAAAAAAAAAAAAAAAAAAAAAAAAAAAAAAAAAAAAAAAAAAAAAAAAAAAAAAAAAAAAAAAAAAAAAAAAAAAAAAAAAAAAAAAAAAAAAAAAAAAAAAAAAAAAAAAAAAAAAAAAAAAAAAAAAAAAAAAAAAAAAAAAAAAAAAAAAAAAAAAAAAAAAAAAAAAAAAAAAAAAAAAAAAAAAAAAAAAAAAAAAAAAAAAAAAAAAAAAAAAAAAAAAAAAAAAAAAAAAAAAAAAAAAAAAAAAAAAAAAAAAAAAAAAAAAAAAAAAAAAAAAAAAAAAAAAAAAAAAAAAAAAAAAAAAAAAAAAAAAAAAAAAAAAAAAAAAAAAAAAAAAAAAAAAAAAAAAAAAAAAAAAAAAAAAAAAAAAAAAAAAAAAAAAAAAAAAAAAAAAAAAAAAAAAAAAAAAAAAAAAAAAAAAAAAAAAAAAAAAAAAAAAAAAAAAAAAAAAAAAAAAAAAAAAAAAAAAAAAAAAAAAAAAAAAAAAAAAAAAAAAAAAAAAAAAAAAAAAAAAAAAAAAAAAAAAAAAAAAAAAAAAAAAAAAAAAAAAAAAAAAAAAAAAAAAAAAAAAAAAAAAAAAAAAAAAAAAAAAAAAAAAAAAAAAAAAAAAAAAAAAAAAAAAAAAAAAAAAAAAAAAAAAAAAAAAAAAAAAAAAAAAAAAAAAAAAAAAAAAAAAAAAAAAAAAAAAAAAAAAAAAAAAAAAAAAAAAAAAAAAAAAAAAAAAAAAAAAAAAAAAAAAAAAAAAAAAAAAAAAAAAAAAAAAAAAAAAAAAAAAAAAAAAAAAAAAAAAAAAAAAAAAAAAAAAAAAAAAAAAAA==",
          "dtype": "f8"
         },
         "yaxis": "y5"
        },
        {
         "name": "Mean Absolute Error",
         "type": "bar",
         "x": [
          "x",
          "y",
          "z",
          "net_distance",
          "surge",
          "sway",
          "heave",
          "depth",
          "yaw"
         ],
         "xaxis": "x6",
         "y": [
          1.4299893026307742,
          2.4483783777600467,
          0.15283779286003113,
          0.14883280430306392,
          0.12056043489369021,
          0.07682112190719655,
          0,
          0,
          22.267418480069857
         ],
         "yaxis": "y6"
        }
       ],
       "layout": {
        "annotations": [
         {
          "font": {
           "size": 16
          },
          "showarrow": false,
          "text": "Position Errors (m)",
          "x": 0.225,
          "xanchor": "center",
          "xref": "paper",
          "y": 1,
          "yanchor": "bottom",
          "yref": "paper"
         },
         {
          "font": {
           "size": 16
          },
          "showarrow": false,
          "text": "Desired vs Error",
          "x": 0.775,
          "xanchor": "center",
          "xref": "paper",
          "y": 1,
          "yanchor": "bottom",
          "yref": "paper"
         },
         {
          "font": {
           "size": 16
          },
          "showarrow": false,
          "text": "Attitude Errors (deg)",
          "x": 0.225,
          "xanchor": "center",
          "xref": "paper",
          "y": 0.6111111111111112,
          "yanchor": "bottom",
          "yref": "paper"
         },
         {
          "font": {
           "size": 16
          },
          "showarrow": false,
          "text": "Net Distance Error",
          "x": 0.775,
          "xanchor": "center",
          "xref": "paper",
          "y": 0.6111111111111112,
          "yanchor": "bottom",
          "yref": "paper"
         },
         {
          "font": {
           "size": 16
          },
          "showarrow": false,
          "text": "Velocity Errors (m/s)",
          "x": 0.225,
          "xanchor": "center",
          "xref": "paper",
          "y": 0.22222222222222224,
          "yanchor": "bottom",
          "yref": "paper"
         },
         {
          "font": {
           "size": 16
          },
          "showarrow": false,
          "text": "Error Statistics",
          "x": 0.775,
          "xanchor": "center",
          "xref": "paper",
          "y": 0.22222222222222224,
          "yanchor": "bottom",
          "yref": "paper"
         }
        ],
        "height": 900,
        "showlegend": true,
        "template": {
         "data": {
          "bar": [
           {
            "error_x": {
             "color": "#2a3f5f"
            },
            "error_y": {
             "color": "#2a3f5f"
            },
            "marker": {
             "line": {
              "color": "#E5ECF6",
              "width": 0.5
             },
             "pattern": {
              "fillmode": "overlay",
              "size": 10,
              "solidity": 0.2
             }
            },
            "type": "bar"
           }
          ],
          "barpolar": [
           {
            "marker": {
             "line": {
              "color": "#E5ECF6",
              "width": 0.5
             },
             "pattern": {
              "fillmode": "overlay",
              "size": 10,
              "solidity": 0.2
             }
            },
            "type": "barpolar"
           }
          ],
          "carpet": [
           {
            "aaxis": {
             "endlinecolor": "#2a3f5f",
             "gridcolor": "white",
             "linecolor": "white",
             "minorgridcolor": "white",
             "startlinecolor": "#2a3f5f"
            },
            "baxis": {
             "endlinecolor": "#2a3f5f",
             "gridcolor": "white",
             "linecolor": "white",
             "minorgridcolor": "white",
             "startlinecolor": "#2a3f5f"
            },
            "type": "carpet"
           }
          ],
          "choropleth": [
           {
            "colorbar": {
             "outlinewidth": 0,
             "ticks": ""
            },
            "type": "choropleth"
           }
          ],
          "contour": [
           {
            "colorbar": {
             "outlinewidth": 0,
             "ticks": ""
            },
            "colorscale": [
             [
              0,
              "#0d0887"
             ],
             [
              0.1111111111111111,
              "#46039f"
             ],
             [
              0.2222222222222222,
              "#7201a8"
             ],
             [
              0.3333333333333333,
              "#9c179e"
             ],
             [
              0.4444444444444444,
              "#bd3786"
             ],
             [
              0.5555555555555556,
              "#d8576b"
             ],
             [
              0.6666666666666666,
              "#ed7953"
             ],
             [
              0.7777777777777778,
              "#fb9f3a"
             ],
             [
              0.8888888888888888,
              "#fdca26"
             ],
             [
              1,
              "#f0f921"
             ]
            ],
            "type": "contour"
           }
          ],
          "contourcarpet": [
           {
            "colorbar": {
             "outlinewidth": 0,
             "ticks": ""
            },
            "type": "contourcarpet"
           }
          ],
          "heatmap": [
           {
            "colorbar": {
             "outlinewidth": 0,
             "ticks": ""
            },
            "colorscale": [
             [
              0,
              "#0d0887"
             ],
             [
              0.1111111111111111,
              "#46039f"
             ],
             [
              0.2222222222222222,
              "#7201a8"
             ],
             [
              0.3333333333333333,
              "#9c179e"
             ],
             [
              0.4444444444444444,
              "#bd3786"
             ],
             [
              0.5555555555555556,
              "#d8576b"
             ],
             [
              0.6666666666666666,
              "#ed7953"
             ],
             [
              0.7777777777777778,
              "#fb9f3a"
             ],
             [
              0.8888888888888888,
              "#fdca26"
             ],
             [
              1,
              "#f0f921"
             ]
            ],
            "type": "heatmap"
           }
          ],
          "histogram": [
           {
            "marker": {
             "pattern": {
              "fillmode": "overlay",
              "size": 10,
              "solidity": 0.2
             }
            },
            "type": "histogram"
           }
          ],
          "histogram2d": [
           {
            "colorbar": {
             "outlinewidth": 0,
             "ticks": ""
            },
            "colorscale": [
             [
              0,
              "#0d0887"
             ],
             [
              0.1111111111111111,
              "#46039f"
             ],
             [
              0.2222222222222222,
              "#7201a8"
             ],
             [
              0.3333333333333333,
              "#9c179e"
             ],
             [
              0.4444444444444444,
              "#bd3786"
             ],
             [
              0.5555555555555556,
              "#d8576b"
             ],
             [
              0.6666666666666666,
              "#ed7953"
             ],
             [
              0.7777777777777778,
              "#fb9f3a"
             ],
             [
              0.8888888888888888,
              "#fdca26"
             ],
             [
              1,
              "#f0f921"
             ]
            ],
            "type": "histogram2d"
           }
          ],
          "histogram2dcontour": [
           {
            "colorbar": {
             "outlinewidth": 0,
             "ticks": ""
            },
            "colorscale": [
             [
              0,
              "#0d0887"
             ],
             [
              0.1111111111111111,
              "#46039f"
             ],
             [
              0.2222222222222222,
              "#7201a8"
             ],
             [
              0.3333333333333333,
              "#9c179e"
             ],
             [
              0.4444444444444444,
              "#bd3786"
             ],
             [
              0.5555555555555556,
              "#d8576b"
             ],
             [
              0.6666666666666666,
              "#ed7953"
             ],
             [
              0.7777777777777778,
              "#fb9f3a"
             ],
             [
              0.8888888888888888,
              "#fdca26"
             ],
             [
              1,
              "#f0f921"
             ]
            ],
            "type": "histogram2dcontour"
           }
          ],
          "mesh3d": [
           {
            "colorbar": {
             "outlinewidth": 0,
             "ticks": ""
            },
            "type": "mesh3d"
           }
          ],
          "parcoords": [
           {
            "line": {
             "colorbar": {
              "outlinewidth": 0,
              "ticks": ""
             }
            },
            "type": "parcoords"
           }
          ],
          "pie": [
           {
            "automargin": true,
            "type": "pie"
           }
          ],
          "scatter": [
           {
            "fillpattern": {
             "fillmode": "overlay",
             "size": 10,
             "solidity": 0.2
            },
            "type": "scatter"
           }
          ],
          "scatter3d": [
           {
            "line": {
             "colorbar": {
              "outlinewidth": 0,
              "ticks": ""
             }
            },
            "marker": {
             "colorbar": {
              "outlinewidth": 0,
              "ticks": ""
             }
            },
            "type": "scatter3d"
           }
          ],
          "scattercarpet": [
           {
            "marker": {
             "colorbar": {
              "outlinewidth": 0,
              "ticks": ""
             }
            },
            "type": "scattercarpet"
           }
          ],
          "scattergeo": [
           {
            "marker": {
             "colorbar": {
              "outlinewidth": 0,
              "ticks": ""
             }
            },
            "type": "scattergeo"
           }
          ],
          "scattergl": [
           {
            "marker": {
             "colorbar": {
              "outlinewidth": 0,
              "ticks": ""
             }
            },
            "type": "scattergl"
           }
          ],
          "scattermap": [
           {
            "marker": {
             "colorbar": {
              "outlinewidth": 0,
              "ticks": ""
             }
            },
            "type": "scattermap"
           }
          ],
          "scattermapbox": [
           {
            "marker": {
             "colorbar": {
              "outlinewidth": 0,
              "ticks": ""
             }
            },
            "type": "scattermapbox"
           }
          ],
          "scatterpolar": [
           {
            "marker": {
             "colorbar": {
              "outlinewidth": 0,
              "ticks": ""
             }
            },
            "type": "scatterpolar"
           }
          ],
          "scatterpolargl": [
           {
            "marker": {
             "colorbar": {
              "outlinewidth": 0,
              "ticks": ""
             }
            },
            "type": "scatterpolargl"
           }
          ],
          "scatterternary": [
           {
            "marker": {
             "colorbar": {
              "outlinewidth": 0,
              "ticks": ""
             }
            },
            "type": "scatterternary"
           }
          ],
          "surface": [
           {
            "colorbar": {
             "outlinewidth": 0,
             "ticks": ""
            },
            "colorscale": [
             [
              0,
              "#0d0887"
             ],
             [
              0.1111111111111111,
              "#46039f"
             ],
             [
              0.2222222222222222,
              "#7201a8"
             ],
             [
              0.3333333333333333,
              "#9c179e"
             ],
             [
              0.4444444444444444,
              "#bd3786"
             ],
             [
              0.5555555555555556,
              "#d8576b"
             ],
             [
              0.6666666666666666,
              "#ed7953"
             ],
             [
              0.7777777777777778,
              "#fb9f3a"
             ],
             [
              0.8888888888888888,
              "#fdca26"
             ],
             [
              1,
              "#f0f921"
             ]
            ],
            "type": "surface"
           }
          ],
          "table": [
           {
            "cells": {
             "fill": {
              "color": "#EBF0F8"
             },
             "line": {
              "color": "white"
             }
            },
            "header": {
             "fill": {
              "color": "#C8D4E3"
             },
             "line": {
              "color": "white"
             }
            },
            "type": "table"
           }
          ]
         },
         "layout": {
          "annotationdefaults": {
           "arrowcolor": "#2a3f5f",
           "arrowhead": 0,
           "arrowwidth": 1
          },
          "autotypenumbers": "strict",
          "coloraxis": {
           "colorbar": {
            "outlinewidth": 0,
            "ticks": ""
           }
          },
          "colorscale": {
           "diverging": [
            [
             0,
             "#8e0152"
            ],
            [
             0.1,
             "#c51b7d"
            ],
            [
             0.2,
             "#de77ae"
            ],
            [
             0.3,
             "#f1b6da"
            ],
            [
             0.4,
             "#fde0ef"
            ],
            [
             0.5,
             "#f7f7f7"
            ],
            [
             0.6,
             "#e6f5d0"
            ],
            [
             0.7,
             "#b8e186"
            ],
            [
             0.8,
             "#7fbc41"
            ],
            [
             0.9,
             "#4d9221"
            ],
            [
             1,
             "#276419"
            ]
           ],
           "sequential": [
            [
             0,
             "#0d0887"
            ],
            [
             0.1111111111111111,
             "#46039f"
            ],
            [
             0.2222222222222222,
             "#7201a8"
            ],
            [
             0.3333333333333333,
             "#9c179e"
            ],
            [
             0.4444444444444444,
             "#bd3786"
            ],
            [
             0.5555555555555556,
             "#d8576b"
            ],
            [
             0.6666666666666666,
             "#ed7953"
            ],
            [
             0.7777777777777778,
             "#fb9f3a"
            ],
            [
             0.8888888888888888,
             "#fdca26"
            ],
            [
             1,
             "#f0f921"
            ]
           ],
           "sequentialminus": [
            [
             0,
             "#0d0887"
            ],
            [
             0.1111111111111111,
             "#46039f"
            ],
            [
             0.2222222222222222,
             "#7201a8"
            ],
            [
             0.3333333333333333,
             "#9c179e"
            ],
            [
             0.4444444444444444,
             "#bd3786"
            ],
            [
             0.5555555555555556,
             "#d8576b"
            ],
            [
             0.6666666666666666,
             "#ed7953"
            ],
            [
             0.7777777777777778,
             "#fb9f3a"
            ],
            [
             0.8888888888888888,
             "#fdca26"
            ],
            [
             1,
             "#f0f921"
            ]
           ]
          },
          "colorway": [
           "#636efa",
           "#EF553B",
           "#00cc96",
           "#ab63fa",
           "#FFA15A",
           "#19d3f3",
           "#FF6692",
           "#B6E880",
           "#FF97FF",
           "#FECB52"
          ],
          "font": {
           "color": "#2a3f5f"
          },
          "geo": {
           "bgcolor": "white",
           "lakecolor": "white",
           "landcolor": "#E5ECF6",
           "showlakes": true,
           "showland": true,
           "subunitcolor": "white"
          },
          "hoverlabel": {
           "align": "left"
          },
          "hovermode": "closest",
          "mapbox": {
           "style": "light"
          },
          "paper_bgcolor": "white",
          "plot_bgcolor": "#E5ECF6",
          "polar": {
           "angularaxis": {
            "gridcolor": "white",
            "linecolor": "white",
            "ticks": ""
           },
           "bgcolor": "#E5ECF6",
           "radialaxis": {
            "gridcolor": "white",
            "linecolor": "white",
            "ticks": ""
           }
          },
          "scene": {
           "xaxis": {
            "backgroundcolor": "#E5ECF6",
            "gridcolor": "white",
            "gridwidth": 2,
            "linecolor": "white",
            "showbackground": true,
            "ticks": "",
            "zerolinecolor": "white"
           },
           "yaxis": {
            "backgroundcolor": "#E5ECF6",
            "gridcolor": "white",
            "gridwidth": 2,
            "linecolor": "white",
            "showbackground": true,
            "ticks": "",
            "zerolinecolor": "white"
           },
           "zaxis": {
            "backgroundcolor": "#E5ECF6",
            "gridcolor": "white",
            "gridwidth": 2,
            "linecolor": "white",
            "showbackground": true,
            "ticks": "",
            "zerolinecolor": "white"
           }
          },
          "shapedefaults": {
           "line": {
            "color": "#2a3f5f"
           }
          },
          "ternary": {
           "aaxis": {
            "gridcolor": "white",
            "linecolor": "white",
            "ticks": ""
           },
           "baxis": {
            "gridcolor": "white",
            "linecolor": "white",
            "ticks": ""
           },
           "bgcolor": "#E5ECF6",
           "caxis": {
            "gridcolor": "white",
            "linecolor": "white",
            "ticks": ""
           }
          },
          "title": {
           "x": 0.05
          },
          "xaxis": {
           "automargin": true,
           "gridcolor": "white",
           "linecolor": "white",
           "ticks": "",
           "title": {
            "standoff": 15
           },
           "zerolinecolor": "white",
           "zerolinewidth": 2
          },
          "yaxis": {
           "automargin": true,
           "gridcolor": "white",
           "linecolor": "white",
           "ticks": "",
           "title": {
            "standoff": 15
           },
           "zerolinecolor": "white",
           "zerolinewidth": 2
          }
         }
        },
        "title": {
         "text": "Guidance System Error Analysis"
        },
        "xaxis": {
         "anchor": "y",
         "domain": [
          0,
          0.45
         ],
         "title": {
          "text": "Time (minutes)"
         }
        },
        "xaxis2": {
         "anchor": "y2",
         "domain": [
          0.55,
          1
         ],
         "title": {
          "text": "Time (minutes)"
         }
        },
        "xaxis3": {
         "anchor": "y3",
         "domain": [
          0,
          0.45
         ],
         "title": {
          "text": "Time (minutes)"
         }
        },
        "xaxis4": {
         "anchor": "y4",
         "domain": [
          0.55,
          1
         ],
         "title": {
          "text": "Time (minutes)"
         }
        },
        "xaxis5": {
         "anchor": "y5",
         "domain": [
          0,
          0.45
         ],
         "title": {
          "text": "Time (minutes)"
         }
        },
        "xaxis6": {
         "anchor": "y6",
         "domain": [
          0.55,
          1
         ],
         "title": {
          "text": "Time (minutes)"
         }
        },
        "yaxis": {
         "anchor": "x",
         "domain": [
          0.7777777777777778,
          1
         ]
        },
        "yaxis2": {
         "anchor": "x2",
         "domain": [
          0.7777777777777778,
          1
         ]
        },
        "yaxis3": {
         "anchor": "x3",
         "domain": [
          0.3888888888888889,
          0.6111111111111112
         ]
        },
        "yaxis4": {
         "anchor": "x4",
         "domain": [
          0.3888888888888889,
          0.6111111111111112
         ]
        },
        "yaxis5": {
         "anchor": "x5",
         "domain": [
          0,
          0.22222222222222224
         ]
        },
        "yaxis6": {
         "anchor": "x6",
         "domain": [
          0,
          0.22222222222222224
         ]
        }
       }
      }
     },
     "metadata": {},
     "output_type": "display_data"
    },
    {
     "name": "stdout",
     "output_type": "stream",
     "text": [
      "\n",
      "🧭 NAVIGATION PLANE APPROXIMATION ANALYSIS\n",
      "---------------------------------------------\n",
      "📁 Loaded navigation_plane_approximation__2024-08-22_14-06-43_data.csv: 322 rows, 23 columns\n",
      "📁 Loaded navigation_plane_approximation_position__2024-08-22_14-06-43_data.csv: 156 rows, 22 columns\n",
      "🧭 Analyzing navigation plane for bag: 2024-08-22_14-06-43\n"
     ]
    },
    {
     "data": {
      "application/vnd.plotly.v1+json": {
       "config": {
        "plotlyServerURL": "https://plot.ly"
       },
       "data": [
        {
         "line": {
          "color": "blue"
         },
         "name": "Net Distance",
         "type": "scatter",
         "x": {
          "bdata": "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",
          "dtype": "f8"
         },
         "xaxis": "x",
         "y": {
          "bdata": "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",
          "dtype": "f8"
         },
         "yaxis": "y"
        },
        {
         "line": {
          "color": "red"
         },
         "name": "Altitude",
         "type": "scatter",
         "x": {
          "bdata": "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",
          "dtype": "f8"
         },
         "xaxis": "x",
         "y": {
          "bdata": "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",
          "dtype": "f8"
         },
         "yaxis": "y2"
        },
        {
         "line": {
          "color": "blue"
         },
         "name": "NetVelocity_u",
         "type": "scatter",
         "x": {
          "bdata": "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",
          "dtype": "f8"
         },
         "xaxis": "x2",
         "y": {
          "bdata": "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",
          "dtype": "f8"
         },
         "yaxis": "y3"
        },
        {
         "line": {
          "color": "green"
         },
         "name": "NetVelocity_v",
         "type": "scatter",
         "x": {
          "bdata": "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",
          "dtype": "f8"
         },
         "xaxis": "x2",
         "y": {
          "bdata": "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",
          "dtype": "f8"
         },
         "yaxis": "y3"
        },
        {
         "line": {
          "color": "red"
         },
         "name": "NetVelocity_w",
         "type": "scatter",
         "x": {
          "bdata": "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",
          "dtype": "f8"
         },
         "xaxis": "x2",
         "y": {
          "bdata": "7///3x6wgj+n//9/Cgd5v+v//3/8MYO/AAAAgKqGob/n///fHjGfv/D//7+dRZ6/9v//n4CZq7/6////IBOqv////7/CsKq/8///P277qL/6//8/bqKmv/L//79ZPqe/9P//n+AvpL/s//+/s/ucv+b////gn5a/oP//f8F1db/+//+fN/yhP/j//3+NiJY/9v///y7Rpj/4//+/F+mjP/f//z/eXqY//f//3x4Epj/8//8/mMaZP3v//79fJmQ//v//nyeMgj/1//8/Z3eKPyL//z8ZGWu/6f//PzQkf7/y//+/FPmkv////7+J5qW/+f//P/zzor/3//8/G3Cgv/H//791M52/4f//v7V9gL/v//+/S5F0P/P//5/4PaY/////v9rqsD////9fvsayP////5+V5a8/////P/9GsD/3//8fF9uoP/P//9+3U6M/6////9tJgT/S/v8fObpVP+///99PhJa/7P//vzl9i7////8/KEqcv/z////cO5m//////2AggL/H//9/w9CGv8z//z95aXy/L/3//wdmQ7+u//9/xdRDv9D//79KlYE/9P//nwEgkT/2//9f7o6TP+///z+lk5Q/+f//v9sblT/x//+f/xuMP+f///+0IJU/8///H4/fkz/////fod6VP+f//98iDpA/9f//XxI8k79l///fi2Zvv+7//3/ZiJO/8f///xeUl7/x//9/KMSSvwP5/x9YQDa/8v////dfej/p//9f+8eMP+v///9t7pg/6P//HxuAkj/W//9f7P6KP97//5+fzoo/2P//f/GpjD/y//+/YS6aP2r//7+KQ0G/AAAAQHxuEz/p////ZGyYv/L//x/wT42/+P//H2Wgm7/q//9f2x+Bv/X////E1pA//v//vwKvoD/+//+fHwKgP/r//z+bF6A/9f//3zbjoj8AAABg32mUP9f//193CY4/ff7/XwleUD/i//8fKEiGv/T//z9vyYu/+////2rrmr/w///fH9ifv+T//1+315y/+f//n+fUnL/Y//8fzUKGvwAAAIDrsny/7f//f4steD/O//9fBA5wP/3//z+5upc/9v//HyeZkj+C//8fzUZWP5/////93HQ/5///3wHSkD/n//8/DluEP7H+/3+YHEu/of//nw97UL/o//9/fKqBv/X//797/Hq//P///xmvnb8AAABgGJigv////79E1Ze/6f//v/IvnL/q//8fouGdv83//1+aY1Q/Jv3//085Rz/0//+/k7JxP////x84KIg/9///3yfdkD/s//+fNaacP/f//z+hZ6A/+f//H02wpj/7//8/PjqgP/H//z/zKp8/9P//X39XqD/x//+fQISWP////19MsYk/6///v+MHez/j//9/HMuHv+z///8Ap5G//f//X9EOlb/l//+/r9eTv/n////C6ZK/+P//38Yknb/1//9fFm2Vv+j//1/mEni/9f//n7CTkz/k//8/6OmCP+b//x8i/pg/6v//X124ij/n//8fvWiQP/v//x/AmoU/0f7/f/tgWL+f//+/lC5zP5z//x8tS3S/+////6t7hr/7//+/bqiSv/z////E8Yq/5f//X1oAi7/i//9/UOBIP4r//x/qfGQ/AAAAQBRRij/v//+fOzOSP/f//3/SJZg/+///n9jEkz/w//9/C1GYP+T//z/0zIM/1v//f+zYjj82//+/cTRjP4T//39csGI/pv//H8Uvez/z//8fWgqDP+n//x//FIa/sf//X8+EaL/8//+/CT96v+j//3+9cou/6v//n33cjL/I//+fu3CAv5D//z8a+mU/5f//33LWhj9q//9ft8htP6f//59Tq30/3///v8iigD/V//+/nkGAP+L//99YyIo//P//37i0mD/o//9ffECSP9X//x/LooU/////P753mj/S//9ffPt5P7b//7/qAHK/+f//P7vDdr+j//9/u6NzP+L//x+qkHc/zv//vxT4gz/8//9fHiqdP////x+ePaA//P//X6Bepj/2//8f5v6qP/f///+trq8/AAAAYNM4sD/+//8/Hy60P/z//1+o77M//v//X6l+tj/5//8fr7mxP/7//z8PL7E/AAAAgGX7tj/8//8/1RCyP/T//98hHqw/9f///06JpT/x////VJeaP8f//389r4E/z///fyXYd7/q////kQOSv/z///8BTZu/8v//PwwFnL/3//9/I8aav8///9/8A46/Uv7/v04bTT/n//9/4f+RP/b//x8fwaA/+////0HDqD/5//+/GH2tP/r//99dFrE//v//X6Hmrz/z///fTfuqPwAAAAC7wKM/9v//v18tkz/G/v/fVj9GP7P+/18bO0c/9v//X7Fze7+G///fqjlqv9H//3+smWu/5v//f/1Cgj/+//8/G3eZP/n//x+O+qQ//v//34zTrT/8////l+qxPwAAAEAUB7A/9f//f7A7rD/2///fJqOoP////3+6kqU//v//Hx/ymT/w///fcJSBPwAAACDH64w/+f//H0ktmD/1///fwKWiP/P//385+KU/9f//304Lrj/4//8/26utP/P///9+Zas/9P//327HqD/9//9/U6mkP/n//z897qE/9v//X8nVmT/l//+fKVSUP/L///9tiZY//f///zI1kD/r//8/NUyOP/n///88MIs/3P//P9+wjT/u///fb3iUP/T//z+Hn5k/7v///3PTlz/5//+/qvWiP/T///9uCak/9P//X3f3rD/8//+/OhGyP////x/zwLM/AAAAoOczuD8AAABAGA+4P////x/rxr0/AAAAAIKGsj8AAABg46WxP////z/rpKk/9///fyPWpT/z//8/KZyjP/7//19QfKE/////H+OAoT/2//+/2XmiP/P//x8ZzKc/+P//HzQarT/5//9fkpuuP/v//78lOrI/+///X5tCsz////+/zouyP/r//5+/erM//f//n5DMuD////9/hfzKP/v////w7LM/+///P/masz/+//+f5p+yP/z//3/xbbQ//f///7RAsz////8/vj+0P/3//3+EgLQ//f//v93btD/9//8fweS0P////384zLM/+v//n6tTtT/+//8/HxexP/r//z+ft7E/+///f1bysD/9//+/3eetP/3//39Lsa8/+v//f7+Yrz/////fiXSuP/z//5/9oLE//v//X+Kcsj/////fG/K0P////78X0bU/+v///4Z7uz/5////KM+6P/r////DI7w/////v0Qvvz/8//+/9Ta9PwAAAIBhJ7w/+v//f6MyuD/9//+/nMO3P/v////ox7Q/////n1SWsz/+////Nza1P/7//38vb7I/AAAAwGkTsz/7//8fi4mxP/z//9+0mLE/+///H8RZsT/////fqeexP/3//x/+PbM/////P2XItD8=",
          "dtype": "f8"
         },
         "yaxis": "y3"
        },
        {
         "line": {
          "color": "blue",
          "width": 4
         },
         "marker": {
          "size": 3
         },
         "mode": "lines+markers",
         "name": "3D Trajectory",
         "scene": "scene",
         "type": "scatter3d",
         "x": {
          "bdata": "AAAAAMOHwb/+//9/8knDv/7//9+xkMW/AAAAoKiJyL/+//+/QQLOvwAAAOCsxNK/AAAA4CgY1r8AAACApPvYvwAAAGBh/tq/AAAAoHAs3L////+/m7zcvwAAACAEHN2/AAAAoKQ43r8AAAAAAy3gvwAAAABgguG/AAAA4Fmr4r8AAABgQoDjvwAAAGDlHOS/AAAAADeo5L8AAABgQljlvwAAAEBbPea/AAAAoDUs578AAADg7hDovwAAAADt1+i/AAAA4FKH6b8AAADgiofqvwAAAKBVSOu/AAAAYJ+6678AAADAezfsvwAAAICZ7ey/AAAAgM/a7b8AAACAobzuvwAAAMCBxu+/////P2aH8L8AAAAgFu3wvwAAAMAeM/G/AAAAoF6n8b8AAAAgyjXyvwAAAMD04PK/AAAAIK5p878AAADghsXzvwAAAGDhAPS/AAAAYJw09L8AAAAg5Ir0vwEAACAxBvW/AAAAwDp59b////8f3tD1vwAAAID+JPa/AAAAgPB09r8AAACgncT2vwAAACBcDve/AAAAYOJd97////9/9sD3vwAAAIABL/i/AQAAwNuY+L8AAADAqAH5vwAAAECvZPm/AAAAYPfN+b8AAABAgTn6vwAAAEDaofq/AAAAYMwH+7/////fC2f7vwAAAGDGyvu/AAAAINwx/L8AAACAKKH8vwEAAGD2Ff2/AAAAYNKl/b8AAADgcR3+v////587nP6/////v1YO/78AAAAAu3j/vwAAAIAC3/+/AAAA4FwhAMAAAACAMFUAwAAAAIBiiQDA////H9rCAMD///+/ggMBwP////8TSAHAAAAAoIeMAcAAAADAk88BwAAAAMC0EgLAAAAAgAFaAsD///8/Y6ECwAAAACDD7gLA////n3s9A8AAAAAAJIsDwAAAAMDq2wPAAAAAAPMvBMAAAACg/n8EwAAAAIC2vwTAAAAAoOD2BMAAAADA7ygFwAAAAMC8WAXAAAAAoHWDBcAAAAAgnLQFwAAAAAAm3wXAAAAAQFT9BcAAAABA5BUGwAAAAIBpKgbAAAAAgGI8BsAAAAAgS1IGwAAAAODwawbAAAAAIO2IBsAAAAAAtaIGwAAAAOAktgbAAAAAAFDCBsAAAAAARs8GwAAAAMAs2gbAAAAAIGfsBsAAAABADgYHwAAAAMDNHgfAAQAA4CUyB8AAAAAA3TsHwAAAAAA5UAfAAAAA4I5hB8AAAAAAqXkHwAAAAEBSmAfAAAAAIBK3B8AAAABA3NMHwAAAAKCS6wfAAAAAAH7/B8AAAAAAPRIIwAAAACBXIwjAAAAAIMkvCMAAAACAtUEIwAAAAEDqVwjAAAAAoBN1CMAAAACgE3UIwPH//99cV54/8///n+S0oj/6//8/l3SmP/X///+PXao/9f//PwaFrT/2////nKCvP/z//9/EMrA//f//X5BksD/9//9fsRSxP/v////sOLA/+///P7x9sD/8////GXixPwAAAMCy5rI//v//X2B9tD/7//8/8ea1PwAAAGDf67Y/AAAAwCCdtz/5//8frxa4P/r//9+/mrg/+/////AvuT////9/D/i5P/z//7+0xLo/+///P495uz////9/eVy8P/z//7/Idr0/+v//H2Ibvz/+//9/dlDAPwAAAKB5CME/",
          "dtype": "f8"
         },
         "y": {
          "bdata": "AQAAgInn8L8AAAAgI5rxvwAAACD5SfK/AAAAAH3a8r8AAAAAMXrzvwAAAMBlD/S/AAAAwPKL9L8AAACgSgD1vwAAAIBMd/W/AAAA4Kru9b8AAAAg6Wb2vwAAAKBK2Pa/AAAAQLQ/978AAABAX6b3vwAAAEBCIfi/////v0ev+L8AAACA60j5vwAAACDn6/m/AAAAwC6N+r8AAACgpzH7vwAAAAC12Pu/AAAAAH9D/L8BAADgZbT8v////3+3SP2/AAAAoHfq/b////9/vqX+v////x9eZ/+/AAAAoC8UAMABAAAALWIAwAAAAICYngDA////X2rWAMAAAADgbAsBwAAAACATSgHAAAAAwNGfAcAAAACgM/QBwAAAAICnPALAAAAAQJ1xAsAAAACAzZ4CwAAAACDEywLAAAAAABn/AsAAAADAfz4DwAAAAODEiQPAAAAAYBrOA8ABAAAAbQwEwAAAACD3SgTAAAAAYMKSBMAAAAAAwuAEwAAAAMCVNQXAAAAAoIiHBcAAAACg2d0FwAAAAABCNwbAAAAAABuVBsAAAAAgc/MGwAAAAKBeRAfAAAAAgBWLB8AAAADAHdIHwAAAAED8GAjAAAAAgN1jCMAAAABAaq8IwAAAAGDY+gjAAAAAYE5GCcAAAABAc44JwAAAAACd1gnAAAAAgBsZCsAAAADglVkKwAAAAECblgrAAAAAYD/mCsAAAADgTiQLwAAAAEAQZQvAAAAAoCGmC8AAAADglN4LwAAAAECxCAzAAAAAQKE5DMAAAACglnwMwAAAAMALzgzAAAAAwJ0rDcAAAACAa4kNwP///5/83g3AAAAAgKkwDsAAAAAAcnYOwP///1/5rw7AAQAAwFflDsAAAADAJxQPwAAAACCxQg/AAQAAQC1vD8AAAAAAGpQPwAEAAGC5tQ/AAAAAoPXND8AAAABA3NsPwAAAAEAs3A/AAAAAAATYD8AAAABgYdIPwAEAAIAKzQ/A////n7vID8AAAADgp8oPwAEAAGA/0w/AAAAAoJffD8D/////UvEPwAAAAMBJAxDAAAAAYG8MEMAAAADgsRIQwAAAAECZFhDAAAAAYDUZEMAAAAAAfBwQwAAAAODJIhDAAAAAAGEqEMAAAACgyTEQwAAAAMAIOBDAAAAA4OA8EMAAAACAtT8QwAAAAOBSQhDAAAAAYCpFEMAAAADATksQwAAAAKC7ThDAAAAAIJ1SEMAAAABAHVYQwAAAAGAnWRDAAAAAoG5dEMAAAAAghGMQwAAAAMC7ahDAAAAAoEhyEMAAAADgGnkQwAAAAECLfRDAAAAAgBqAEMAAAABA730QwAAAAKBveBDAAAAAwFhwEMAAAADAWHAQwP3//9/hOpQ/1///v1afgj89///fOAdgv9H//x8C8Yu/7///vwYsmb/z///fvw2hv////59AOKW/9///f+5aqL8AAACgbQmqv/r//79JBLC/+v//vwQ3sr/8//8/Lri0v/z//x+Ujre//v//3/aeur/+///f9jC9vwAAAGAoe7+/AAAAIAaGwL/9//8/OTDBv/3//99j5MG/AAAAAEF8wr////8f61/Dv////9+NZsS/////3xdUxb////+/xDbGv/7//x8+K8e//f//n8cryL8AAAAgOQjJv/7//99F2cm/",
          "dtype": "f8"
         },
         "z": {
          "bdata": "7///f+rgkz/x///f+6aEP8D+/18/AlQ/b/7/v9BXM7/7//8/NrqGP/r//z8tnJY/+///v2ZWmT/4//9/TKSbP/P//992SZk/+f//f2lHkT/3//+f6u2FP+H//783boI/9///37Uskj/2////1dygP/3///9r/6c/9v//f3zuqz/+//8/oXCsP/f////+lqo/9P//X8ijqD////+/0mCoP/r//39Feqg/9///n2hnqj/////f5p+sP/3//58WZK8/+///n9D2sD////8fLH+yP/z//3/purI//f//36hzsj/5//8/u7axP/v//1/YJbI/AAAAIPhbsz/9//9fvVu0PwAAAMAkvLU/+v//P2J8tj/7//9/FRu2P/r///9lMrU//f//X4gItj/7//9/xK63P/3//1/6q7k//P//Xxqiuj/6//9//Ha6P/3//x9kmLk/+///n+BEuD/5//+/HL23P/7//58z+7c/+v//n0E2uT/7//8/cwW6P/z//1/t6bo//v//3098uz/+//9/ZGu7P/7//3/yrbo//f//n1PNuT/8//9/Mjy5PwAAACAIy7k//v//34yYuj8AAABAwzS8P////19MZb4//f//n0c7wD/9//+/jgvBP/7//19sTsE//v///1XqwD8AAABABn7AP////3+F5L8/////X4m7vz/+//8/aEXAP////3865MA//v//v2w/wT////9fwGPBPwAAAKD5PME/AAAAwPH1wD/+//+f/MnAP/////+tG8E//v//363BwT////9/0lXCP////59WrMI//v///w7xwj/+//8fERfDP/3//3/FB8M/AAAAwCbSwj/+//9/tbTCPwAAAMAmCcM//v//3zs0wz8AAABAjpHDP/7//z9gK8Q/AAAAIMGqxD/9//9/hPLEP/3///8i08Q//v//Pyf1xD8AAACAYWrFP////3+RTsY//v//Hw17xz////+/VNLIP/3//79RRMo//v//X9p6yz/+//9/I6LMPwAAAICaIM0/////f0zzzD/+//+/pSrMP/7//z/aScs/////HxrQyj8AAABgChnLP/7//9/FFMw/AAAAgJaOzT/9//9f/L7OP/7//x/UR88/////3ytczz/+//+fbFrPP////1/Ivc8/////n0Vt0D////+fgU/RP/////+SDtI/AAAAQA+j0j8AAABAiH3SPwAAAGBGONM/AAAAQIyU0z/////fJDPUPwAAAMAv+tQ/AAAAgCui1T////9/zCXWPwAAAICohNY/////X/rf1j8AAABACinXPwAAACC4ftc/////n5Ll1z////+/mGTYP////9/gJ9k/////vw4q2j////+/DiraP/v//9/0e4C/Pf//v8b4bj/9///fXyaJP/j//9+ZvZQ/5////yZFnz/4///fWI+mP/P//x/Uvq4/AAAAQGGlsz8AAAAA+EK4P/z//7+P47s//v///9UWwD////9fAUrCP/7//z9mk8Q/////fzjgxj8AAAAg0d7IPwAAAMC0q8o/////v59mzD////9fLijOP////396H9A/AAAAgN9c0T8AAABAiNXSP////z8xeNQ/AAAAgGzz1T8AAABg1DHXP////18ESNg/AAAAgJNe2T////9/+k3aPwAAAGDTOts/",
          "dtype": "f8"
         }
        },
        {
         "line": {
          "color": "purple"
         },
         "name": "Net Heading (deg)",
         "type": "scatter",
         "x": {
          "bdata": "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",
          "dtype": "f8"
         },
         "xaxis": "x3",
         "y": {
          "bdata": "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",
          "dtype": "f8"
         },
         "yaxis": "y4"
        },
        {
         "line": {
          "color": "orange"
         },
         "name": "Net Pitch (deg)",
         "type": "scatter",
         "x": {
          "bdata": "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",
          "dtype": "f8"
         },
         "xaxis": "x3",
         "y": {
          "bdata": "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",
          "dtype": "f8"
         },
         "yaxis": "y4"
        }
       ],
       "layout": {
        "annotations": [
         {
          "font": {
           "size": 16
          },
          "showarrow": false,
          "text": "Net Distance & Altitude",
          "x": 0.185,
          "xanchor": "center",
          "xref": "paper",
          "y": 1,
          "yanchor": "bottom",
          "yref": "paper"
         },
         {
          "font": {
           "size": 16
          },
          "showarrow": false,
          "text": "Net Velocity Components",
          "x": 0.7550000000000001,
          "xanchor": "center",
          "xref": "paper",
          "y": 1,
          "yanchor": "bottom",
          "yref": "paper"
         },
         {
          "font": {
           "size": 16
          },
          "showarrow": false,
          "text": "3D Position Trajectory",
          "x": 0.185,
          "xanchor": "center",
          "xref": "paper",
          "y": 0.375,
          "yanchor": "bottom",
          "yref": "paper"
         },
         {
          "font": {
           "size": 16
          },
          "showarrow": false,
          "text": "Net Heading & Pitch",
          "x": 0.7550000000000001,
          "xanchor": "center",
          "xref": "paper",
          "y": 0.375,
          "yanchor": "bottom",
          "yref": "paper"
         }
        ],
        "height": 800,
        "scene": {
         "domain": {
          "x": [
           0,
           0.37
          ],
          "y": [
           0,
           0.375
          ]
         }
        },
        "showlegend": true,
        "template": {
         "data": {
          "bar": [
           {
            "error_x": {
             "color": "#2a3f5f"
            },
            "error_y": {
             "color": "#2a3f5f"
            },
            "marker": {
             "line": {
              "color": "#E5ECF6",
              "width": 0.5
             },
             "pattern": {
              "fillmode": "overlay",
              "size": 10,
              "solidity": 0.2
             }
            },
            "type": "bar"
           }
          ],
          "barpolar": [
           {
            "marker": {
             "line": {
              "color": "#E5ECF6",
              "width": 0.5
             },
             "pattern": {
              "fillmode": "overlay",
              "size": 10,
              "solidity": 0.2
             }
            },
            "type": "barpolar"
           }
          ],
          "carpet": [
           {
            "aaxis": {
             "endlinecolor": "#2a3f5f",
             "gridcolor": "white",
             "linecolor": "white",
             "minorgridcolor": "white",
             "startlinecolor": "#2a3f5f"
            },
            "baxis": {
             "endlinecolor": "#2a3f5f",
             "gridcolor": "white",
             "linecolor": "white",
             "minorgridcolor": "white",
             "startlinecolor": "#2a3f5f"
            },
            "type": "carpet"
           }
          ],
          "choropleth": [
           {
            "colorbar": {
             "outlinewidth": 0,
             "ticks": ""
            },
            "type": "choropleth"
           }
          ],
          "contour": [
           {
            "colorbar": {
             "outlinewidth": 0,
             "ticks": ""
            },
            "colorscale": [
             [
              0,
              "#0d0887"
             ],
             [
              0.1111111111111111,
              "#46039f"
             ],
             [
              0.2222222222222222,
              "#7201a8"
             ],
             [
              0.3333333333333333,
              "#9c179e"
             ],
             [
              0.4444444444444444,
              "#bd3786"
             ],
             [
              0.5555555555555556,
              "#d8576b"
             ],
             [
              0.6666666666666666,
              "#ed7953"
             ],
             [
              0.7777777777777778,
              "#fb9f3a"
             ],
             [
              0.8888888888888888,
              "#fdca26"
             ],
             [
              1,
              "#f0f921"
             ]
            ],
            "type": "contour"
           }
          ],
          "contourcarpet": [
           {
            "colorbar": {
             "outlinewidth": 0,
             "ticks": ""
            },
            "type": "contourcarpet"
           }
          ],
          "heatmap": [
           {
            "colorbar": {
             "outlinewidth": 0,
             "ticks": ""
            },
            "colorscale": [
             [
              0,
              "#0d0887"
             ],
             [
              0.1111111111111111,
              "#46039f"
             ],
             [
              0.2222222222222222,
              "#7201a8"
             ],
             [
              0.3333333333333333,
              "#9c179e"
             ],
             [
              0.4444444444444444,
              "#bd3786"
             ],
             [
              0.5555555555555556,
              "#d8576b"
             ],
             [
              0.6666666666666666,
              "#ed7953"
             ],
             [
              0.7777777777777778,
              "#fb9f3a"
             ],
             [
              0.8888888888888888,
              "#fdca26"
             ],
             [
              1,
              "#f0f921"
             ]
            ],
            "type": "heatmap"
           }
          ],
          "histogram": [
           {
            "marker": {
             "pattern": {
              "fillmode": "overlay",
              "size": 10,
              "solidity": 0.2
             }
            },
            "type": "histogram"
           }
          ],
          "histogram2d": [
           {
            "colorbar": {
             "outlinewidth": 0,
             "ticks": ""
            },
            "colorscale": [
             [
              0,
              "#0d0887"
             ],
             [
              0.1111111111111111,
              "#46039f"
             ],
             [
              0.2222222222222222,
              "#7201a8"
             ],
             [
              0.3333333333333333,
              "#9c179e"
             ],
             [
              0.4444444444444444,
              "#bd3786"
             ],
             [
              0.5555555555555556,
              "#d8576b"
             ],
             [
              0.6666666666666666,
              "#ed7953"
             ],
             [
              0.7777777777777778,
              "#fb9f3a"
             ],
             [
              0.8888888888888888,
              "#fdca26"
             ],
             [
              1,
              "#f0f921"
             ]
            ],
            "type": "histogram2d"
           }
          ],
          "histogram2dcontour": [
           {
            "colorbar": {
             "outlinewidth": 0,
             "ticks": ""
            },
            "colorscale": [
             [
              0,
              "#0d0887"
             ],
             [
              0.1111111111111111,
              "#46039f"
             ],
             [
              0.2222222222222222,
              "#7201a8"
             ],
             [
              0.3333333333333333,
              "#9c179e"
             ],
             [
              0.4444444444444444,
              "#bd3786"
             ],
             [
              0.5555555555555556,
              "#d8576b"
             ],
             [
              0.6666666666666666,
              "#ed7953"
             ],
             [
              0.7777777777777778,
              "#fb9f3a"
             ],
             [
              0.8888888888888888,
              "#fdca26"
             ],
             [
              1,
              "#f0f921"
             ]
            ],
            "type": "histogram2dcontour"
           }
          ],
          "mesh3d": [
           {
            "colorbar": {
             "outlinewidth": 0,
             "ticks": ""
            },
            "type": "mesh3d"
           }
          ],
          "parcoords": [
           {
            "line": {
             "colorbar": {
              "outlinewidth": 0,
              "ticks": ""
             }
            },
            "type": "parcoords"
           }
          ],
          "pie": [
           {
            "automargin": true,
            "type": "pie"
           }
          ],
          "scatter": [
           {
            "fillpattern": {
             "fillmode": "overlay",
             "size": 10,
             "solidity": 0.2
            },
            "type": "scatter"
           }
          ],
          "scatter3d": [
           {
            "line": {
             "colorbar": {
              "outlinewidth": 0,
              "ticks": ""
             }
            },
            "marker": {
             "colorbar": {
              "outlinewidth": 0,
              "ticks": ""
             }
            },
            "type": "scatter3d"
           }
          ],
          "scattercarpet": [
           {
            "marker": {
             "colorbar": {
              "outlinewidth": 0,
              "ticks": ""
             }
            },
            "type": "scattercarpet"
           }
          ],
          "scattergeo": [
           {
            "marker": {
             "colorbar": {
              "outlinewidth": 0,
              "ticks": ""
             }
            },
            "type": "scattergeo"
           }
          ],
          "scattergl": [
           {
            "marker": {
             "colorbar": {
              "outlinewidth": 0,
              "ticks": ""
             }
            },
            "type": "scattergl"
           }
          ],
          "scattermap": [
           {
            "marker": {
             "colorbar": {
              "outlinewidth": 0,
              "ticks": ""
             }
            },
            "type": "scattermap"
           }
          ],
          "scattermapbox": [
           {
            "marker": {
             "colorbar": {
              "outlinewidth": 0,
              "ticks": ""
             }
            },
            "type": "scattermapbox"
           }
          ],
          "scatterpolar": [
           {
            "marker": {
             "colorbar": {
              "outlinewidth": 0,
              "ticks": ""
             }
            },
            "type": "scatterpolar"
           }
          ],
          "scatterpolargl": [
           {
            "marker": {
             "colorbar": {
              "outlinewidth": 0,
              "ticks": ""
             }
            },
            "type": "scatterpolargl"
           }
          ],
          "scatterternary": [
           {
            "marker": {
             "colorbar": {
              "outlinewidth": 0,
              "ticks": ""
             }
            },
            "type": "scatterternary"
           }
          ],
          "surface": [
           {
            "colorbar": {
             "outlinewidth": 0,
             "ticks": ""
            },
            "colorscale": [
             [
              0,
              "#0d0887"
             ],
             [
              0.1111111111111111,
              "#46039f"
             ],
             [
              0.2222222222222222,
              "#7201a8"
             ],
             [
              0.3333333333333333,
              "#9c179e"
             ],
             [
              0.4444444444444444,
              "#bd3786"
             ],
             [
              0.5555555555555556,
              "#d8576b"
             ],
             [
              0.6666666666666666,
              "#ed7953"
             ],
             [
              0.7777777777777778,
              "#fb9f3a"
             ],
             [
              0.8888888888888888,
              "#fdca26"
             ],
             [
              1,
              "#f0f921"
             ]
            ],
            "type": "surface"
           }
          ],
          "table": [
           {
            "cells": {
             "fill": {
              "color": "#EBF0F8"
             },
             "line": {
              "color": "white"
             }
            },
            "header": {
             "fill": {
              "color": "#C8D4E3"
             },
             "line": {
              "color": "white"
             }
            },
            "type": "table"
           }
          ]
         },
         "layout": {
          "annotationdefaults": {
           "arrowcolor": "#2a3f5f",
           "arrowhead": 0,
           "arrowwidth": 1
          },
          "autotypenumbers": "strict",
          "coloraxis": {
           "colorbar": {
            "outlinewidth": 0,
            "ticks": ""
           }
          },
          "colorscale": {
           "diverging": [
            [
             0,
             "#8e0152"
            ],
            [
             0.1,
             "#c51b7d"
            ],
            [
             0.2,
             "#de77ae"
            ],
            [
             0.3,
             "#f1b6da"
            ],
            [
             0.4,
             "#fde0ef"
            ],
            [
             0.5,
             "#f7f7f7"
            ],
            [
             0.6,
             "#e6f5d0"
            ],
            [
             0.7,
             "#b8e186"
            ],
            [
             0.8,
             "#7fbc41"
            ],
            [
             0.9,
             "#4d9221"
            ],
            [
             1,
             "#276419"
            ]
           ],
           "sequential": [
            [
             0,
             "#0d0887"
            ],
            [
             0.1111111111111111,
             "#46039f"
            ],
            [
             0.2222222222222222,
             "#7201a8"
            ],
            [
             0.3333333333333333,
             "#9c179e"
            ],
            [
             0.4444444444444444,
             "#bd3786"
            ],
            [
             0.5555555555555556,
             "#d8576b"
            ],
            [
             0.6666666666666666,
             "#ed7953"
            ],
            [
             0.7777777777777778,
             "#fb9f3a"
            ],
            [
             0.8888888888888888,
             "#fdca26"
            ],
            [
             1,
             "#f0f921"
            ]
           ],
           "sequentialminus": [
            [
             0,
             "#0d0887"
            ],
            [
             0.1111111111111111,
             "#46039f"
            ],
            [
             0.2222222222222222,
             "#7201a8"
            ],
            [
             0.3333333333333333,
             "#9c179e"
            ],
            [
             0.4444444444444444,
             "#bd3786"
            ],
            [
             0.5555555555555556,
             "#d8576b"
            ],
            [
             0.6666666666666666,
             "#ed7953"
            ],
            [
             0.7777777777777778,
             "#fb9f3a"
            ],
            [
             0.8888888888888888,
             "#fdca26"
            ],
            [
             1,
             "#f0f921"
            ]
           ]
          },
          "colorway": [
           "#636efa",
           "#EF553B",
           "#00cc96",
           "#ab63fa",
           "#FFA15A",
           "#19d3f3",
           "#FF6692",
           "#B6E880",
           "#FF97FF",
           "#FECB52"
          ],
          "font": {
           "color": "#2a3f5f"
          },
          "geo": {
           "bgcolor": "white",
           "lakecolor": "white",
           "landcolor": "#E5ECF6",
           "showlakes": true,
           "showland": true,
           "subunitcolor": "white"
          },
          "hoverlabel": {
           "align": "left"
          },
          "hovermode": "closest",
          "mapbox": {
           "style": "light"
          },
          "paper_bgcolor": "white",
          "plot_bgcolor": "#E5ECF6",
          "polar": {
           "angularaxis": {
            "gridcolor": "white",
            "linecolor": "white",
            "ticks": ""
           },
           "bgcolor": "#E5ECF6",
           "radialaxis": {
            "gridcolor": "white",
            "linecolor": "white",
            "ticks": ""
           }
          },
          "scene": {
           "xaxis": {
            "backgroundcolor": "#E5ECF6",
            "gridcolor": "white",
            "gridwidth": 2,
            "linecolor": "white",
            "showbackground": true,
            "ticks": "",
            "zerolinecolor": "white"
           },
           "yaxis": {
            "backgroundcolor": "#E5ECF6",
            "gridcolor": "white",
            "gridwidth": 2,
            "linecolor": "white",
            "showbackground": true,
            "ticks": "",
            "zerolinecolor": "white"
           },
           "zaxis": {
            "backgroundcolor": "#E5ECF6",
            "gridcolor": "white",
            "gridwidth": 2,
            "linecolor": "white",
            "showbackground": true,
            "ticks": "",
            "zerolinecolor": "white"
           }
          },
          "shapedefaults": {
           "line": {
            "color": "#2a3f5f"
           }
          },
          "ternary": {
           "aaxis": {
            "gridcolor": "white",
            "linecolor": "white",
            "ticks": ""
           },
           "baxis": {
            "gridcolor": "white",
            "linecolor": "white",
            "ticks": ""
           },
           "bgcolor": "#E5ECF6",
           "caxis": {
            "gridcolor": "white",
            "linecolor": "white",
            "ticks": ""
           }
          },
          "title": {
           "x": 0.05
          },
          "xaxis": {
           "automargin": true,
           "gridcolor": "white",
           "linecolor": "white",
           "ticks": "",
           "title": {
            "standoff": 15
           },
           "zerolinecolor": "white",
           "zerolinewidth": 2
          },
          "yaxis": {
           "automargin": true,
           "gridcolor": "white",
           "linecolor": "white",
           "ticks": "",
           "title": {
            "standoff": 15
           },
           "zerolinecolor": "white",
           "zerolinewidth": 2
          }
         }
        },
        "title": {
         "text": "Navigation Plane Approximation Analysis"
        },
        "xaxis": {
         "anchor": "y",
         "domain": [
          0,
          0.37
         ],
         "title": {
          "text": "Time (minutes)"
         }
        },
        "xaxis2": {
         "anchor": "y3",
         "domain": [
          0.5700000000000001,
          0.9400000000000001
         ],
         "title": {
          "text": "Time (minutes)"
         }
        },
        "xaxis3": {
         "anchor": "y4",
         "domain": [
          0.5700000000000001,
          0.9400000000000001
         ],
         "title": {
          "text": "Time (minutes)"
         }
        },
        "yaxis": {
         "anchor": "x",
         "domain": [
          0.625,
          1
         ]
        },
        "yaxis2": {
         "anchor": "x",
         "overlaying": "y",
         "side": "right"
        },
        "yaxis3": {
         "anchor": "x2",
         "domain": [
          0.625,
          1
         ]
        },
        "yaxis4": {
         "anchor": "x3",
         "domain": [
          0,
          0.375
         ]
        }
       }
      }
     },
     "metadata": {},
     "output_type": "display_data"
    },
    {
     "name": "stdout",
     "output_type": "stream",
     "text": [
      "\n",
      "⚖️  NAVIGATION vs GUIDANCE COMPARISON\n",
      "----------------------------------------\n",
      "📁 Loaded guidance__2024-08-22_14-06-43_data.csv: 317 rows, 30 columns\n",
      "📁 Loaded navigation_plane_approximation__2024-08-22_14-06-43_data.csv: 322 rows, 23 columns\n",
      "📁 Loaded navigation_plane_approximation_position__2024-08-22_14-06-43_data.csv: 156 rows, 22 columns\n",
      "⚖️  Comparing navigation and guidance for bag: 2024-08-22_14-06-43\n",
      "\n",
      "📊 Data Summary:\n",
      "  - Guidance samples: 317\n",
      "  - Navigation plane samples: 322\n",
      "  - Navigation position samples: 156\n",
      "\n",
      "🕐 Sampling Rates:\n",
      "  - Guidance: 554.0 samples/min\n",
      "  - Navigation plane: 555.2 samples/min\n"
     ]
    },
    {
     "data": {
      "application/vnd.plotly.v1+json": {
       "config": {
        "plotlyServerURL": "https://plot.ly"
       },
       "data": [
        {
         "line": {
          "color": "red"
         },
         "mode": "lines",
         "name": "Guidance Errors",
         "type": "scatter",
         "x": {
          "bdata": "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",
          "dtype": "f8"
         },
         "xaxis": "x",
         "y": {
          "bdata": "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",
          "dtype": "f8"
         },
         "yaxis": "y"
        },
        {
         "line": {
          "color": "blue"
         },
         "mode": "lines",
         "name": "Navigation Position",
         "type": "scatter",
         "x": {
          "bdata": "AAAgED769D8AACAg+MH0PwAAIDQgefQ/AAAgXAEa9D8AACA47mrzPwAAIDgLevI/AAAgOCyl8T8AACBQTezwPwAAIBiea/A/AAAgSBog8D8AAEAAH/jvPwAAQNBqyO8/AABAkBo67z8AAEDgaSnuPwAAQOAM1Ow/AABAABOr6z8AAECAKtbqPwAAQICHOeo/AABA4DWu6T8AAECAKv7oPwAAQKARGeg/AABAQDcq5z8AAEAAfkXmPwAAQOB/fuU/AABAABrP5D8AAEAA4s7jPwAAQEAXDuM/AABAgM2b4j8AAEAg8R7iPwAAQGDTaOE/AABAYJ174D8AAIDAljPfPwAAgEDWH90/BACAwECP2j8AAIBAgfjYPwAAgMBe4Nc/AACAQF8P1j8AAIBAsdXTPwAAgMAGKdE/AAAAgUIMzj8AAACBfC3LPwAAAIGoUsk/AAAAgdC0xz8AAACBkgLFP/j//4AqKME/AAAAArsfuz8QAAAChaW1PwAAAAJ/Y7A/AAAABL7Ipj8AAAAINKaZPwAAACBQ2nw/AAAA8PdVib/g///7AbiivwAAAP6wPLC/EAAA/lTatr8AAAD+JGe9vwAAAH/Gy8G/AAAAfwcWxb8AAAB/VnLIvwAAAH8etcu/AAAAf6/kzr/8/3+/Ve/QvwAAgL8/ftK/AACAv5Ya1L8AAIA/yNfVvwQAgL//qte/AACAv2/q2b8AAIC/7cjbv/z/f78UxN2//P9/P4GM378AAMAfCZvgvwAAwB+YZ+G/AADAnwYv4r8AAMAfVf7ivwAAwB8dz+O//P+/n/u05L/8/78fnrflv/z/vx/jyea/AADAn7Hb578AAMAf4ufovwAAwB9m9Om/AADAH5kR67/8/78fIC/svwAAwJ+fZO2//P+/n4Gf7r8AAMAfI9bvvwAA4A+fjPC/AADgj6808b8AAODPxtTxvwAA4I82VPK/AADgz4rC8r8AAOAPqSbzvwAA4A9DhvO/AADgz7Tb878AAODPAT70vwAA4I8Vk/S/AADgD3LP9L8AAOAPkgD1vwAA4I+cKfW/AADgj45N9b8AAODPX3n1vwAA4E+rrPW/AADgz6Pm9b8AAOCPMxr2vwAA4E8TQfa/AADgj2lZ9r8AAOCPVXP2vwAA4A8jifa/AADgz5et9r8AAOAP5uD2vwAA4A9lEve/AgDgTxU5978AAOCPg0z3vwAA4I87dfe/AADgT+eX978AAOCPG8j3vwAA4A9uBfi/AADgz+1C+L8AAOAPgnz4vwAA4M/uq/i/AADgj8XT+L8AAOCPQ/n4vwAA4M93G/m/AADgz1s0+b8AAOCPNFj5vwAA4A+ehPm/AADgz/C++b8AAODP8L75vwAAoOOTpPc/AAAgld3A9z8AACAq2973PwAAIPAi/vc/AAAgol4X+D8AACBYOyj4PwAAIL5iLvg/AAAgdn8x+D8AACCGgTz4PwAAIEDFLvg/AAAgNBIz+D8AACAQuEL4PwAAIJyhWfg/AAAgdgxz+D8AACCEpYn4PwAAIGb0mfg/AAAgfAil+D8AACBioaz4PwAAIG7itPg/AAAggDW++D8AACBot8r4PwAAILyB1/g/AAAgZM/i+D8AACAI/vD4PwAAIPyiAvk/AAAgkuwc+T8AACBARTX5PwAAIKRFTPk/",
          "dtype": "f8"
         },
         "xaxis": "x",
         "y": {
          "bdata": "sRNvhb8T9z+yE2/lJWH2P7ITb+VPsfU/shNvBcwg9T+yE28FGIH0P7ITb0Xj6/M/shNvRVZv8z+yE29l/vryP7ITb4X8g/I/shNvJZ4M8j+yE2/lX5TxP7ITb2X+IvE/shNvxZS78D+yE2/F6VTwP2Qn3ooNtO8/ZifeigKY7j9kJ94Ku2TtP2Qn3srDHuw/ZCfeijTc6j9kJ97KQpPpP2Qn3gooReg/ZCfeCpRv5z9iJ95Kxo3mP2Yn3gojZeU/ZCfeyqIh5D9mJ94KFaviP2Yn3srVJ+E/yE68FadL3z/ATrwVvNvcP8hOvBVg+No/0E68FdE52T/ITrwVvZHXP8hOvBWLnNU/yE68FZbu0j/ITrwVh0vQP5CdeCvQD8w/kJ14K3TAyD+QnXgrcO3FP5CdeCsGHsM/IDvxVnDRvz8gO/FWmOS3P0B24q3o96w/gOzEWxHFlz8AUOyQ+pB9v8CJHVKnVKO/4MQOqbujsr/gxA6pr2O8v3Bih9QTf8O/cGKH1EGeyL9wYofUUQPOvzixQ+rrzNG/OLFD6rO71L84sUPqdK7XvzixQ+rQNdq/OLFD6odr3L84sUPqyaPev5zYIfVebeC/nNgh9eOY4b+c2CH1Fsfiv5zYIXXP9OO/nNghdaci5b+c2CH1OkPmv5zYIfXhY+e/nNgh9dtt6L+c2CF1xW/pv5zYIfXaY+q/nNghdWui67+c2CF1qZrsv5zYIfWune2/nNghdfSh7r+c2CF1wYPvv07skHoZFvC/TuyQevl38L9O7JA65P3wv07skHrOoPG/TuyQevJb8r9O7JD6jRfzv0zskDqwwvO/TuyQ+glm9L9O7JD6mvH0v0zskLqpZPW/UOyQembP9b9O7JB6Bi32v07skDoZiva/UOyQehHj9r9O7JD66iz3v1DskLopcPe/TuyQOqKg979O7JB6b7z3v07skHoPvfe/TuyQ+r60979O7JC6ean3v1DskPrLnve/TOyQOi6W979O7JC6Bpr3v1DskLo1q/e/TuyQOubD979M7JD6XOf3v07skPrdEfi/TuyQenQ2+L9O7JB6fk/4v07skPobX/i/TuyQeoxp+L9O7JD6pnb4v07skHrej/i/TuyQ+jqu+L9O7JB63cv4v07skPrZ5Pi/TuyQejr4+L9O7JD6jAP5v07skHoCDvm/TuyQemAZ+b9O7JD68TH5v07skHqlP/m/TuyQeitP+b9O7JD6K135v07skHpUafm/TuyQenF6+b9O7JB6x5L5v07skPqlr/m/TuyQetnN+b9O7JB6Iun5v07skPrj+vm/TuyQ+iAF+r9O7JD6c/z5v07skHp15vm/TuyQ+hnG+b9O7JD6Gcb5v9mJd0YaJgRA2Yl32UMQBEDZiX+0ovkDQNmJl4Cz4QNA2Yk3dUzLA0DZiTeDbbkDQNmJN4DDqANA2Ym3yDicA0DZiTfMfpUDQNmJtzSCfQNA2Ym3XOxrA0DZibcQ41cDQNmJt+EvQQNA2Ym3y6woA0DZibfLHBQDQNmJtz/LAQNA2Ym3IET1AkDZibfuoOoCQNmJt0Re3wJA2Ym3cuDVAkDZibfQpccCQNmJt6Q7twJA2Ym3BGOoAkDZibc2OJoCQNmJt6DwigJA2Ym3COh6AkDZibfwIG0CQNmJtyQQYAJA",
          "dtype": "f8"
         },
         "yaxis": "y"
        },
        {
         "line": {
          "color": "blue"
         },
         "name": "Nav Velocity U",
         "type": "scatter",
         "x": {
          "bdata": "AAAAAAAAAAAQERER0ctiPyEiIiLiPGs/VFVVVSXFcT/MzMzM/Bh7P5mZmZk5FoA/VVVVVX1agj/NzMzMRHCGP+/u7u7GCok/MzMzM8M6jT9FREREhNmPP7y7u7u/QZI/ZmZmZmZJkz93d3d3M1OUP+/u7u4StJY/vLu7u/PKlz+JiIiIPBaZP2ZmZma6Mps/AAAAAHCGnD9EREREiIedP83MzMw05Z8/3t3d3VN1oD8RERERwwChP+/u7u4+K6I/iYiIiKbOoj+amZmZodqjP0RERERmgqQ/zczMzN6SpT8iIiIidDimP97d3d37SKc/7+7u7v7vpz8zMzMzwfioP97d3d0Dgqk/VVVVVdmvqj/NzMzMbFWrP+/u7u46X6w/d3d3d88ErT8AAAAA+BKuP97d3d1Dwa4/mpmZmZHprz9EREREL1uwP7y7u7uzyrA/vLu7uyw+sT9VVVVVd6+xPxERERFbK7I/RERERLeXsj+rqqqq+SCzP0REREREkrM/AAAAAOsHtD8iIiIib220P97d3d0l6LQ/RERERHaotT8RERERnyu2P7y7u7sXn7Y/IiIiIvAKtz8RERERqY23P4mIiIjS9rc/IiIiIjRpuD9mZmZm6NK4P1VVVVXzWbk/MzMzM9DFuT+JiIiI5Ey6P5qZmZn+v7o/7+7u7pgzuz9VVVVVX7S7P0REREQ9Obw/7+7u7sytvD8RERERnh29P0RERET2lr0/VVVVVTAZvj+8u7u7tYC+P5qZmZnh8L4/d3d3dyVpvz9VVVVVI9e/P+/u7u4bL8A/zczMzJFrwD8RERGRkqjAPwAAAAAD6sA/MzMzs7wdwT+JiIgIWlXBP3d3d/ehj8E/EREREaPMwT+JiIiIJA3CP5qZmZlDRcI/zczMzCiBwj8RERGRur7CPzMzMzPz9MI/MzMzs0Q3wz8zMzMz+WzDP7y7uzuGp8M/vLu7O+/mwz+amZkZuB3EP2ZmZmZyXcQ/q6qqKvedxD+8u7s7+tTEP2ZmZmbXGcU/d3d3d5hWxT////9/yY/FP83MzEz8wsU/RERExLj8xT+amZmZ5zvGP4mIiAhJd8Y/mpmZGXmwxj/e3d3d4OTGP2ZmZuaAKMc/zczMzOxkxz/e3d3dBabHP83MzMz04cc/7+7u7qEUyD9mZmbmdE/IP1VVVVX/ksg/iYiIiMDMyD8hIiIilgHJP83MzMymRck/ZmZmZgd7yT8zMzMzUrvJP2ZmZmY2/sk/m5mZGREzyj+8u7s7LG7KP7y7u7udqMo/iYiICNHeyj+7u7s7iSTLP2ZmZubpWcs/mpmZGb2Uyz8AAAAANcvLP0NERESZBsw/RERExE1GzD8zMzOzB4bMP0RERMSDvMw/iYiICA36zD8zMzMzEDHNP4mIiIiXbc0/IiIiIrSfzT8RERERSNnNP87MzExTGc4/3t3d3QBbzj+JiIgIop/OPzIzMzN12s4/MzMzs0gLzz8jIiIidVDPP1VVVdXVhc8/zczMzOvJzz+8u7u7JgHQPzMzM3NEJdA/VVVVlZ1E0D+rqqrqNGTQPwAAAECiftA/iYiIyGSg0D8SERGR5sHQPzMzM7MN3NA/AAAAwF740D9mZmZmgBvRP2ZmZuYZNdE/mpmZmYRP0T+8u7u7Zm/RP+/u7m6gkNE/VVVVVcSt0T+JiIgIF8rRP7y7uzv15tE/AAAAQFII0j9ERERE5SLSP4mIiMi2PdI/AAAAQKdh0j+amZkZLH3SP6uqqmrbmtI/d3d3Nyu10j93d3c3H9bSPwAAAABb8dI/7+7uLlcN0z9ERESEjjTTP2dmZqZxS9M/EhERke9p0z/NzMwMKojTP4eIiEhmqdM/mpmZWf3C0z+amZlZseDTP3d3dze/+dM/q6qqaoUY1D9UVVXV9DjUP83MzIy7VNQ/VFVV1fhv1D/e3d2d8ozUP97d3V2SrdQ/ioiIiBzI1D+rqqoqXOrUP+/u7q6DBNU/ERERkekk1T9VVVXVm0LVP1ZVVdUcYdU/zczMDMF61T8AAADAIZrVP2ZmZuYuttU/3t3dHd3W1T+amZkZ//DVP83MzAz0DtY/ERER0aYs1j+ZmZmZmkTWP6yqqmqVY9Y/REREhIqB1j9mZmYmyKPWP9/d3R3tvdY/IiIiolne1j+rqqpqqffWP97d3R2SGdc/VVVVlTc11z8zMzNz2lbXP3d3d3f+c9c/3t3d3d2T1z9mZmbm6q/XPxERERHXydc/IiIiohDr1z/e3d1dMg7YP6uqquqzKdg/VVVVFapE2D8AAACAQWTYP97d3R0df9g/AAAAwP2g2D+rqqpq+rjYP97d3R220tg/h4iICMHx2D+8u7s7bxLZP+/u7i4ULtk/d3d3tyRJ2T+ZmZnZ/mvZP+/u7i6vhtk/q6qq6mCk2T9ERESEtcHZPxEREZGT3tk/VVVVlaD62T8BAADAxB3aPyIiIuJDOdo/ERER0UtV2j+rqqrqCG/aPyIiIiK6j9o/mpmZWWyw2j8iIiIioh3bP4mIiMinNds/d3d3t2tU2z8zMzMzdnbbP5qZmVlvkds/d3d3N7+t2z93d3d3gsvbP2dmZqZH7ds/iYiISMgL3D+rqqpqkCTcPzMzM3MSRtw/vLu7O2Vi3D+JiIgI5HvcP2ZmZmbZmdw/d3d3dxu33D/e3d2dMtjcP83MzExM89w/IiIiYvEO3T+rqqrq2DLdP1ZVVVUTUd0/7+7u7nxu3T93d3c3XIjdP4mIiEjJpd0/7+7ubmHI3T/e3d1d7+XdP2ZmZmZvBN4/zczMTNQn3j+amZkZEEPePzIzM7ORXt4/q6qqasZ93j9mZmZmAJ/eP87MzIyotN4/ERER0Z3S3j9mZmbm7PHePyIiImKdDN8/zczMjEou3z8iIiLiHUjfPyIiIqJAaN8/d3d3N8KD3z9mZmam7KPfP0RERIR6xt8/zczMTM3i3z/f3d3dxf3fP3d3d3e5DeA/q6qqKpEf4D9ERERkrivgP3d3d3cMOuA/ERERMT5J4D9mZmbGUFbgP3d3d5f5aOA/3t3dPTp44D8iIiJCKIXgPzMzM5OIk+A/AAAAwAml4D+8u7v7/LLgP7y7u9vev+A/AAAA4LLN4D/e3d39IdzgP1VVVRVh7uA/d3d3N//+4D/v7u7O7gvhPwAAAIB/GuE/7+7ubhEp4T/v7u4OPDfhP7y7u/uISOE/ZmZmJjtW4T+amZkZtWbhP5qZmdm8dOE/d3d31waC4T9mZmaGDZDhP3d3dzfNoOE/7+7uTjyv4T9VVVXVHsDhP6uqquqZzeE/REREJObb4T9mZmZGVerhP3d3d3e59uE/MzMzkxAH4j/e3d19lhbiPxEREVE/JuI/IiIiosoz4j8zMzOzE0PiP83MzOxfUeI/q6qqyghh4j8RERFxi3LiP3d3d/dGf+I/vLu724yP4j8=",
          "dtype": "f8"
         },
         "xaxis": "x2",
         "y": {
          "bdata": "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",
          "dtype": "f8"
         },
         "yaxis": "y2"
        },
        {
         "line": {
          "color": "red",
          "dash": "dash"
         },
         "name": "Guidance Desired Surge",
         "type": "scatter",
         "x": {
          "bdata": "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",
          "dtype": "f8"
         },
         "xaxis": "x2",
         "y": {
          "bdata": "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",
          "dtype": "f8"
         },
         "yaxis": "y2"
        },
        {
         "line": {
          "color": "red"
         },
         "name": "Guidance Error",
         "type": "scatter",
         "x": {
          "bdata": "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",
          "dtype": "f8"
         },
         "xaxis": "x3",
         "y": {
          "bdata": "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",
          "dtype": "f8"
         },
         "yaxis": "y3"
        },
        {
         "line": {
          "color": "blue"
         },
         "name": "Navigation Distance",
         "type": "scatter",
         "x": {
          "bdata": "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",
          "dtype": "f8"
         },
         "xaxis": "x3",
         "y": {
          "bdata": "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",
          "dtype": "f8"
         },
         "yaxis": "y3"
        },
        {
         "line": {
          "color": "green",
          "dash": "dash"
         },
         "name": "Desired Yaw",
         "type": "scatter",
         "x": {
          "bdata": "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",
          "dtype": "f8"
         },
         "xaxis": "x4",
         "y": {
          "bdata": "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",
          "dtype": "f8"
         },
         "yaxis": "y4"
        },
        {
         "line": {
          "color": "blue"
         },
         "name": "Actual Heading",
         "type": "scatter",
         "x": {
          "bdata": "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",
          "dtype": "f8"
         },
         "xaxis": "x4",
         "y": {
          "bdata": "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",
          "dtype": "f8"
         },
         "yaxis": "y4"
        }
       ],
       "layout": {
        "annotations": [
         {
          "font": {
           "size": 16
          },
          "showarrow": false,
          "text": "Position: Guidance vs Navigation",
          "x": 0.225,
          "xanchor": "center",
          "xref": "paper",
          "y": 1,
          "yanchor": "bottom",
          "yref": "paper"
         },
         {
          "font": {
           "size": 16
          },
          "showarrow": false,
          "text": "Velocity Comparison",
          "x": 0.775,
          "xanchor": "center",
          "xref": "paper",
          "y": 1,
          "yanchor": "bottom",
          "yref": "paper"
         },
         {
          "font": {
           "size": 16
          },
          "showarrow": false,
          "text": "Error vs Net Distance",
          "x": 0.225,
          "xanchor": "center",
          "xref": "paper",
          "y": 0.375,
          "yanchor": "bottom",
          "yref": "paper"
         },
         {
          "font": {
           "size": 16
          },
          "showarrow": false,
          "text": "Guidance Desired vs Navigation Actual",
          "x": 0.775,
          "xanchor": "center",
          "xref": "paper",
          "y": 0.375,
          "yanchor": "bottom",
          "yref": "paper"
         }
        ],
        "height": 800,
        "showlegend": true,
        "template": {
         "data": {
          "bar": [
           {
            "error_x": {
             "color": "#2a3f5f"
            },
            "error_y": {
             "color": "#2a3f5f"
            },
            "marker": {
             "line": {
              "color": "#E5ECF6",
              "width": 0.5
             },
             "pattern": {
              "fillmode": "overlay",
              "size": 10,
              "solidity": 0.2
             }
            },
            "type": "bar"
           }
          ],
          "barpolar": [
           {
            "marker": {
             "line": {
              "color": "#E5ECF6",
              "width": 0.5
             },
             "pattern": {
              "fillmode": "overlay",
              "size": 10,
              "solidity": 0.2
             }
            },
            "type": "barpolar"
           }
          ],
          "carpet": [
           {
            "aaxis": {
             "endlinecolor": "#2a3f5f",
             "gridcolor": "white",
             "linecolor": "white",
             "minorgridcolor": "white",
             "startlinecolor": "#2a3f5f"
            },
            "baxis": {
             "endlinecolor": "#2a3f5f",
             "gridcolor": "white",
             "linecolor": "white",
             "minorgridcolor": "white",
             "startlinecolor": "#2a3f5f"
            },
            "type": "carpet"
           }
          ],
          "choropleth": [
           {
            "colorbar": {
             "outlinewidth": 0,
             "ticks": ""
            },
            "type": "choropleth"
           }
          ],
          "contour": [
           {
            "colorbar": {
             "outlinewidth": 0,
             "ticks": ""
            },
            "colorscale": [
             [
              0,
              "#0d0887"
             ],
             [
              0.1111111111111111,
              "#46039f"
             ],
             [
              0.2222222222222222,
              "#7201a8"
             ],
             [
              0.3333333333333333,
              "#9c179e"
             ],
             [
              0.4444444444444444,
              "#bd3786"
             ],
             [
              0.5555555555555556,
              "#d8576b"
             ],
             [
              0.6666666666666666,
              "#ed7953"
             ],
             [
              0.7777777777777778,
              "#fb9f3a"
             ],
             [
              0.8888888888888888,
              "#fdca26"
             ],
             [
              1,
              "#f0f921"
             ]
            ],
            "type": "contour"
           }
          ],
          "contourcarpet": [
           {
            "colorbar": {
             "outlinewidth": 0,
             "ticks": ""
            },
            "type": "contourcarpet"
           }
          ],
          "heatmap": [
           {
            "colorbar": {
             "outlinewidth": 0,
             "ticks": ""
            },
            "colorscale": [
             [
              0,
              "#0d0887"
             ],
             [
              0.1111111111111111,
              "#46039f"
             ],
             [
              0.2222222222222222,
              "#7201a8"
             ],
             [
              0.3333333333333333,
              "#9c179e"
             ],
             [
              0.4444444444444444,
              "#bd3786"
             ],
             [
              0.5555555555555556,
              "#d8576b"
             ],
             [
              0.6666666666666666,
              "#ed7953"
             ],
             [
              0.7777777777777778,
              "#fb9f3a"
             ],
             [
              0.8888888888888888,
              "#fdca26"
             ],
             [
              1,
              "#f0f921"
             ]
            ],
            "type": "heatmap"
           }
          ],
          "histogram": [
           {
            "marker": {
             "pattern": {
              "fillmode": "overlay",
              "size": 10,
              "solidity": 0.2
             }
            },
            "type": "histogram"
           }
          ],
          "histogram2d": [
           {
            "colorbar": {
             "outlinewidth": 0,
             "ticks": ""
            },
            "colorscale": [
             [
              0,
              "#0d0887"
             ],
             [
              0.1111111111111111,
              "#46039f"
             ],
             [
              0.2222222222222222,
              "#7201a8"
             ],
             [
              0.3333333333333333,
              "#9c179e"
             ],
             [
              0.4444444444444444,
              "#bd3786"
             ],
             [
              0.5555555555555556,
              "#d8576b"
             ],
             [
              0.6666666666666666,
              "#ed7953"
             ],
             [
              0.7777777777777778,
              "#fb9f3a"
             ],
             [
              0.8888888888888888,
              "#fdca26"
             ],
             [
              1,
              "#f0f921"
             ]
            ],
            "type": "histogram2d"
           }
          ],
          "histogram2dcontour": [
           {
            "colorbar": {
             "outlinewidth": 0,
             "ticks": ""
            },
            "colorscale": [
             [
              0,
              "#0d0887"
             ],
             [
              0.1111111111111111,
              "#46039f"
             ],
             [
              0.2222222222222222,
              "#7201a8"
             ],
             [
              0.3333333333333333,
              "#9c179e"
             ],
             [
              0.4444444444444444,
              "#bd3786"
             ],
             [
              0.5555555555555556,
              "#d8576b"
             ],
             [
              0.6666666666666666,
              "#ed7953"
             ],
             [
              0.7777777777777778,
              "#fb9f3a"
             ],
             [
              0.8888888888888888,
              "#fdca26"
             ],
             [
              1,
              "#f0f921"
             ]
            ],
            "type": "histogram2dcontour"
           }
          ],
          "mesh3d": [
           {
            "colorbar": {
             "outlinewidth": 0,
             "ticks": ""
            },
            "type": "mesh3d"
           }
          ],
          "parcoords": [
           {
            "line": {
             "colorbar": {
              "outlinewidth": 0,
              "ticks": ""
             }
            },
            "type": "parcoords"
           }
          ],
          "pie": [
           {
            "automargin": true,
            "type": "pie"
           }
          ],
          "scatter": [
           {
            "fillpattern": {
             "fillmode": "overlay",
             "size": 10,
             "solidity": 0.2
            },
            "type": "scatter"
           }
          ],
          "scatter3d": [
           {
            "line": {
             "colorbar": {
              "outlinewidth": 0,
              "ticks": ""
             }
            },
            "marker": {
             "colorbar": {
              "outlinewidth": 0,
              "ticks": ""
             }
            },
            "type": "scatter3d"
           }
          ],
          "scattercarpet": [
           {
            "marker": {
             "colorbar": {
              "outlinewidth": 0,
              "ticks": ""
             }
            },
            "type": "scattercarpet"
           }
          ],
          "scattergeo": [
           {
            "marker": {
             "colorbar": {
              "outlinewidth": 0,
              "ticks": ""
             }
            },
            "type": "scattergeo"
           }
          ],
          "scattergl": [
           {
            "marker": {
             "colorbar": {
              "outlinewidth": 0,
              "ticks": ""
             }
            },
            "type": "scattergl"
           }
          ],
          "scattermap": [
           {
            "marker": {
             "colorbar": {
              "outlinewidth": 0,
              "ticks": ""
             }
            },
            "type": "scattermap"
           }
          ],
          "scattermapbox": [
           {
            "marker": {
             "colorbar": {
              "outlinewidth": 0,
              "ticks": ""
             }
            },
            "type": "scattermapbox"
           }
          ],
          "scatterpolar": [
           {
            "marker": {
             "colorbar": {
              "outlinewidth": 0,
              "ticks": ""
             }
            },
            "type": "scatterpolar"
           }
          ],
          "scatterpolargl": [
           {
            "marker": {
             "colorbar": {
              "outlinewidth": 0,
              "ticks": ""
             }
            },
            "type": "scatterpolargl"
           }
          ],
          "scatterternary": [
           {
            "marker": {
             "colorbar": {
              "outlinewidth": 0,
              "ticks": ""
             }
            },
            "type": "scatterternary"
           }
          ],
          "surface": [
           {
            "colorbar": {
             "outlinewidth": 0,
             "ticks": ""
            },
            "colorscale": [
             [
              0,
              "#0d0887"
             ],
             [
              0.1111111111111111,
              "#46039f"
             ],
             [
              0.2222222222222222,
              "#7201a8"
             ],
             [
              0.3333333333333333,
              "#9c179e"
             ],
             [
              0.4444444444444444,
              "#bd3786"
             ],
             [
              0.5555555555555556,
              "#d8576b"
             ],
             [
              0.6666666666666666,
              "#ed7953"
             ],
             [
              0.7777777777777778,
              "#fb9f3a"
             ],
             [
              0.8888888888888888,
              "#fdca26"
             ],
             [
              1,
              "#f0f921"
             ]
            ],
            "type": "surface"
           }
          ],
          "table": [
           {
            "cells": {
             "fill": {
              "color": "#EBF0F8"
             },
             "line": {
              "color": "white"
             }
            },
            "header": {
             "fill": {
              "color": "#C8D4E3"
             },
             "line": {
              "color": "white"
             }
            },
            "type": "table"
           }
          ]
         },
         "layout": {
          "annotationdefaults": {
           "arrowcolor": "#2a3f5f",
           "arrowhead": 0,
           "arrowwidth": 1
          },
          "autotypenumbers": "strict",
          "coloraxis": {
           "colorbar": {
            "outlinewidth": 0,
            "ticks": ""
           }
          },
          "colorscale": {
           "diverging": [
            [
             0,
             "#8e0152"
            ],
            [
             0.1,
             "#c51b7d"
            ],
            [
             0.2,
             "#de77ae"
            ],
            [
             0.3,
             "#f1b6da"
            ],
            [
             0.4,
             "#fde0ef"
            ],
            [
             0.5,
             "#f7f7f7"
            ],
            [
             0.6,
             "#e6f5d0"
            ],
            [
             0.7,
             "#b8e186"
            ],
            [
             0.8,
             "#7fbc41"
            ],
            [
             0.9,
             "#4d9221"
            ],
            [
             1,
             "#276419"
            ]
           ],
           "sequential": [
            [
             0,
             "#0d0887"
            ],
            [
             0.1111111111111111,
             "#46039f"
            ],
            [
             0.2222222222222222,
             "#7201a8"
            ],
            [
             0.3333333333333333,
             "#9c179e"
            ],
            [
             0.4444444444444444,
             "#bd3786"
            ],
            [
             0.5555555555555556,
             "#d8576b"
            ],
            [
             0.6666666666666666,
             "#ed7953"
            ],
            [
             0.7777777777777778,
             "#fb9f3a"
            ],
            [
             0.8888888888888888,
             "#fdca26"
            ],
            [
             1,
             "#f0f921"
            ]
           ],
           "sequentialminus": [
            [
             0,
             "#0d0887"
            ],
            [
             0.1111111111111111,
             "#46039f"
            ],
            [
             0.2222222222222222,
             "#7201a8"
            ],
            [
             0.3333333333333333,
             "#9c179e"
            ],
            [
             0.4444444444444444,
             "#bd3786"
            ],
            [
             0.5555555555555556,
             "#d8576b"
            ],
            [
             0.6666666666666666,
             "#ed7953"
            ],
            [
             0.7777777777777778,
             "#fb9f3a"
            ],
            [
             0.8888888888888888,
             "#fdca26"
            ],
            [
             1,
             "#f0f921"
            ]
           ]
          },
          "colorway": [
           "#636efa",
           "#EF553B",
           "#00cc96",
           "#ab63fa",
           "#FFA15A",
           "#19d3f3",
           "#FF6692",
           "#B6E880",
           "#FF97FF",
           "#FECB52"
          ],
          "font": {
           "color": "#2a3f5f"
          },
          "geo": {
           "bgcolor": "white",
           "lakecolor": "white",
           "landcolor": "#E5ECF6",
           "showlakes": true,
           "showland": true,
           "subunitcolor": "white"
          },
          "hoverlabel": {
           "align": "left"
          },
          "hovermode": "closest",
          "mapbox": {
           "style": "light"
          },
          "paper_bgcolor": "white",
          "plot_bgcolor": "#E5ECF6",
          "polar": {
           "angularaxis": {
            "gridcolor": "white",
            "linecolor": "white",
            "ticks": ""
           },
           "bgcolor": "#E5ECF6",
           "radialaxis": {
            "gridcolor": "white",
            "linecolor": "white",
            "ticks": ""
           }
          },
          "scene": {
           "xaxis": {
            "backgroundcolor": "#E5ECF6",
            "gridcolor": "white",
            "gridwidth": 2,
            "linecolor": "white",
            "showbackground": true,
            "ticks": "",
            "zerolinecolor": "white"
           },
           "yaxis": {
            "backgroundcolor": "#E5ECF6",
            "gridcolor": "white",
            "gridwidth": 2,
            "linecolor": "white",
            "showbackground": true,
            "ticks": "",
            "zerolinecolor": "white"
           },
           "zaxis": {
            "backgroundcolor": "#E5ECF6",
            "gridcolor": "white",
            "gridwidth": 2,
            "linecolor": "white",
            "showbackground": true,
            "ticks": "",
            "zerolinecolor": "white"
           }
          },
          "shapedefaults": {
           "line": {
            "color": "#2a3f5f"
           }
          },
          "ternary": {
           "aaxis": {
            "gridcolor": "white",
            "linecolor": "white",
            "ticks": ""
           },
           "baxis": {
            "gridcolor": "white",
            "linecolor": "white",
            "ticks": ""
           },
           "bgcolor": "#E5ECF6",
           "caxis": {
            "gridcolor": "white",
            "linecolor": "white",
            "ticks": ""
           }
          },
          "title": {
           "x": 0.05
          },
          "xaxis": {
           "automargin": true,
           "gridcolor": "white",
           "linecolor": "white",
           "ticks": "",
           "title": {
            "standoff": 15
           },
           "zerolinecolor": "white",
           "zerolinewidth": 2
          },
          "yaxis": {
           "automargin": true,
           "gridcolor": "white",
           "linecolor": "white",
           "ticks": "",
           "title": {
            "standoff": 15
           },
           "zerolinecolor": "white",
           "zerolinewidth": 2
          }
         }
        },
        "title": {
         "text": "Navigation vs Guidance System Comparison"
        },
        "xaxis": {
         "anchor": "y",
         "domain": [
          0,
          0.45
         ]
        },
        "xaxis2": {
         "anchor": "y2",
         "domain": [
          0.55,
          1
         ]
        },
        "xaxis3": {
         "anchor": "y3",
         "domain": [
          0,
          0.45
         ]
        },
        "xaxis4": {
         "anchor": "y4",
         "domain": [
          0.55,
          1
         ]
        },
        "yaxis": {
         "anchor": "x",
         "domain": [
          0.625,
          1
         ]
        },
        "yaxis2": {
         "anchor": "x2",
         "domain": [
          0.625,
          1
         ]
        },
        "yaxis3": {
         "anchor": "x3",
         "domain": [
          0,
          0.375
         ]
        },
        "yaxis4": {
         "anchor": "x4",
         "domain": [
          0,
          0.375
         ]
        }
       }
      }
     },
     "metadata": {},
     "output_type": "display_data"
    },
    {
     "name": "stdout",
     "output_type": "stream",
     "text": [
      "\n",
      "📊 SUMMARY STATISTICS\n",
      "-------------------------\n",
      "📁 Loaded guidance__2024-08-22_14-06-43_data.csv: 317 rows, 30 columns\n",
      "📁 Loaded navigation_plane_approximation__2024-08-22_14-06-43_data.csv: 322 rows, 23 columns\n",
      "📁 Loaded navigation_plane_approximation_position__2024-08-22_14-06-43_data.csv: 156 rows, 22 columns\n",
      "🎯 Guidance System Performance:\n",
      "  - X: Mean=1.430, Std=1.094, Max=3.057\n",
      "  - Y: Mean=2.448, Std=1.444, Max=4.125\n",
      "  - Z: Mean=0.153, Std=0.109, Max=0.425\n",
      "  - Net_Distance: Mean=0.149, Std=0.188, Max=0.520\n",
      "  - Surge: Mean=0.121, Std=0.148, Max=0.361\n",
      "  - Sway: Mean=0.077, Std=0.079, Max=0.190\n",
      "\n",
      "🧭 Navigation System Performance:\n",
      "  - Net Distance Range: 1.160 m\n",
      "  - Net Distance Mean: 0.716 m\n",
      "  - Altitude Range: 1.281 m\n",
      "  - Altitude Mean: 0.773 m\n",
      "  - NetVelocity_u: Mean Speed=0.030 m/s, Max Speed=0.124 m/s\n",
      "  - NetVelocity_v: Mean Speed=0.135 m/s, Max Speed=0.273 m/s\n",
      "  - NetVelocity_w: Mean Speed=0.034 m/s, Max Speed=0.211 m/s\n",
      "\n",
      "📍 Position Trajectory Analysis:\n",
      "  - X Range: 3.19 m\n",
      "  - Y Range: 4.14 m\n",
      "  - Z Range: 0.43 m\n",
      "  - Total Distance Traveled: 10.24 m\n",
      "\n",
      "📈 Data Quality Assessment:\n",
      "  - Guidance Data: 317 samples over 0.6 min\n",
      "  - Navigation Data: 322 samples over 0.6 min\n",
      "  - Guidance Sampling Rate: 554.0 samples/min\n",
      "  - Navigation Sampling Rate: 555.2 samples/min\n",
      "  - Guidance Max Time Gap: 0.40 seconds\n",
      "  - Navigation Max Time Gap: 0.40 seconds\n",
      "\n",
      "✅ Navigation and Guidance Analysis Complete!\n"
     ]
    }
   ],
   "source": [
    "# 🧭 NAVIGATION AND GUIDANCE SYSTEM ANALYSIS\n",
    "# ==========================================\n",
    "# Analyze guidance errors, navigation plane approximation, and system comparison\n",
    "\n",
    "print(\"🧭 Navigation and Guidance System Analysis\")\n",
    "print(\"=\" * 60)\n",
    "\n",
    "# Import the navigation/guidance analysis utility\n",
    "import utils.navigation_guidance_analysis as nav_guidance_utils\n",
    "import importlib\n",
    "importlib.reload(nav_guidance_utils)\n",
    "\n",
    "# Initialize navigation/guidance analyzer\n",
    "nav_analyzer = nav_guidance_utils.NavigationGuidanceAnalyzer(BY_BAG_FOLDER)\n",
    "\n",
    "# Use the same bag as previous analyses\n",
    "analysis_bag = first_bag\n",
    "print(f\"📁 Analyzing bag: {analysis_bag}\")\n",
    "\n",
    "print(\"\\n🎯 GUIDANCE SYSTEM ERROR ANALYSIS\")\n",
    "print(\"-\" * 40)\n",
    "\n",
    "# Analyze guidance system errors\n",
    "nav_analyzer.analyze_guidance_errors(analysis_bag, interactive=HAS_PLOTLY)\n",
    "\n",
    "print(\"\\n🧭 NAVIGATION PLANE APPROXIMATION ANALYSIS\") \n",
    "print(\"-\" * 45)\n",
    "\n",
    "# Analyze navigation plane approximation\n",
    "nav_analyzer.analyze_navigation_plane(analysis_bag, interactive=HAS_PLOTLY)\n",
    "\n",
    "print(\"\\n⚖️  NAVIGATION vs GUIDANCE COMPARISON\")\n",
    "print(\"-\" * 40)\n",
    "\n",
    "# Compare navigation and guidance systems\n",
    "nav_analyzer.compare_navigation_guidance(analysis_bag, interactive=HAS_PLOTLY)\n",
    "\n",
    "print(\"\\n📊 SUMMARY STATISTICS\")\n",
    "print(\"-\" * 25)\n",
    "\n",
    "# Load individual datasets for detailed analysis\n",
    "guidance_data = nav_analyzer.load_sensor_data(\"guidance\", analysis_bag)\n",
    "plane_data = nav_analyzer.load_sensor_data(\"navigation_plane_approximation\", analysis_bag)\n",
    "plane_pos_data = nav_analyzer.load_sensor_data(\"navigation_plane_approximation_position\", analysis_bag)\n",
    "\n",
    "if guidance_data is not None and plane_data is not None:\n",
    "    # Guidance system performance metrics\n",
    "    print(\"🎯 Guidance System Performance:\")\n",
    "    \n",
    "    error_cols = [col for col in guidance_data.columns if col.startswith('error_')]\n",
    "    for col in error_cols[:6]:  # Show first 6 error metrics\n",
    "        if col in guidance_data.columns:\n",
    "            mean_error = guidance_data[col].abs().mean()\n",
    "            std_error = guidance_data[col].std()\n",
    "            max_error = guidance_data[col].abs().max()\n",
    "            print(f\"  - {col.replace('error_', '').title()}: Mean={mean_error:.3f}, Std={std_error:.3f}, Max={max_error:.3f}\")\n",
    "    \n",
    "    print(f\"\\n🧭 Navigation System Performance:\")\n",
    "    if 'NetDistance' in plane_data.columns:\n",
    "        net_dist_range = plane_data['NetDistance'].max() - plane_data['NetDistance'].min()\n",
    "        net_dist_mean = plane_data['NetDistance'].mean()\n",
    "        print(f\"  - Net Distance Range: {net_dist_range:.3f} m\")\n",
    "        print(f\"  - Net Distance Mean: {net_dist_mean:.3f} m\")\n",
    "    \n",
    "    if 'Altitude' in plane_data.columns:\n",
    "        alt_range = plane_data['Altitude'].max() - plane_data['Altitude'].min()\n",
    "        alt_mean = plane_data['Altitude'].mean()\n",
    "        print(f\"  - Altitude Range: {alt_range:.3f} m\")\n",
    "        print(f\"  - Altitude Mean: {alt_mean:.3f} m\")\n",
    "    \n",
    "    # Velocity analysis\n",
    "    vel_cols = ['NetVelocity_u', 'NetVelocity_v', 'NetVelocity_w']\n",
    "    for col in vel_cols:\n",
    "        if col in plane_data.columns:\n",
    "            vel_mean = plane_data[col].abs().mean()\n",
    "            vel_max = plane_data[col].abs().max()\n",
    "            print(f\"  - {col}: Mean Speed={vel_mean:.3f} m/s, Max Speed={vel_max:.3f} m/s\")\n",
    "    \n",
    "    # Position trajectory analysis\n",
    "    if plane_pos_data is not None and all(c in plane_pos_data.columns for c in ['x', 'y', 'z']):\n",
    "        print(f\"\\n📍 Position Trajectory Analysis:\")\n",
    "        x_range = plane_pos_data['x'].max() - plane_pos_data['x'].min()\n",
    "        y_range = plane_pos_data['y'].max() - plane_pos_data['y'].min()\n",
    "        z_range = plane_pos_data['z'].max() - plane_pos_data['z'].min()\n",
    "        \n",
    "        print(f\"  - X Range: {x_range:.2f} m\")\n",
    "        print(f\"  - Y Range: {y_range:.2f} m\") \n",
    "        print(f\"  - Z Range: {z_range:.2f} m\")\n",
    "        \n",
    "        # Calculate total distance traveled\n",
    "        dx = np.diff(plane_pos_data['x'])\n",
    "        dy = np.diff(plane_pos_data['y'])\n",
    "        dz = np.diff(plane_pos_data['z'])\n",
    "        distances = np.sqrt(dx**2 + dy**2 + dz**2)\n",
    "        total_distance = np.sum(distances)\n",
    "        print(f\"  - Total Distance Traveled: {total_distance:.2f} m\")\n",
    "    \n",
    "    # Data quality assessment\n",
    "    print(f\"\\n📈 Data Quality Assessment:\")\n",
    "    guidance_duration = guidance_data['t_rel'].max() / 60.0\n",
    "    plane_duration = plane_data['t_rel'].max() / 60.0\n",
    "    \n",
    "    print(f\"  - Guidance Data: {len(guidance_data)} samples over {guidance_duration:.1f} min\")\n",
    "    print(f\"  - Navigation Data: {len(plane_data)} samples over {plane_duration:.1f} min\")\n",
    "    print(f\"  - Guidance Sampling Rate: {len(guidance_data)/guidance_duration:.1f} samples/min\")\n",
    "    print(f\"  - Navigation Sampling Rate: {len(plane_data)/plane_duration:.1f} samples/min\")\n",
    "    \n",
    "    # Check for data gaps or anomalies\n",
    "    guidance_time_gaps = np.diff(guidance_data['t_rel'])\n",
    "    plane_time_gaps = np.diff(plane_data['t_rel'])\n",
    "    \n",
    "    guidance_max_gap = guidance_time_gaps.max()\n",
    "    plane_max_gap = plane_time_gaps.max()\n",
    "    \n",
    "    print(f\"  - Guidance Max Time Gap: {guidance_max_gap:.2f} seconds\")\n",
    "    print(f\"  - Navigation Max Time Gap: {plane_max_gap:.2f} seconds\")\n",
    "\n",
    "else:\n",
    "    print(\"❌ Could not load guidance or navigation data for analysis\")\n",
    "\n",
    "print(\"\\n✅ Navigation and Guidance Analysis Complete!\")"
   ]
  },
  {
   "cell_type": "code",
   "execution_count": 20,
   "id": "eeb11202",
   "metadata": {},
   "outputs": [
    {
     "name": "stdout",
     "output_type": "stream",
     "text": [
      "📋 Navigation & Guidance System Performance Assessment\n",
      "=================================================================\n",
      "\n",
      "🎯 KEY PERFORMANCE INSIGHTS:\n",
      "-----------------------------------\n",
      "1️⃣ Guidance Position Accuracy:\n",
      "   • Mean 3D position error: 2.872 m\n",
      "   • Maximum 3D position error: 5.138 m\n",
      "\n",
      "2️⃣ Navigation System Consistency:\n",
      "   • Net distance variability (std): 0.280 m\n",
      "   • Altitude variability (std): 0.422 m\n",
      "\n",
      "3️⃣ Vehicle Motion Characteristics:\n",
      "   • Mean velocity magnitude: 0.154 m/s\n",
      "   • Maximum velocity magnitude: 0.290 m/s\n",
      "   • Predominant motion axis: Y-axis (sway)\n",
      "\n",
      "4️⃣ System Synchronization:\n",
      "   • Guidance sampling rate: 554.0 Hz\n",
      "   • Navigation sampling rate: 555.2 Hz\n",
      "   • Rate difference: 1.1 Hz\n",
      "   • Synchronization status: ✅ Good\n",
      "\n",
      "5️⃣ Error Trend Analysis:\n",
      "   • Net distance error trend: 0.001142 m/sample\n",
      "   • Error behavior: ⬆️ Increasing\n",
      "\n",
      "6️⃣ Mission Profile:\n",
      "   • Total trajectory length: 10.24 m\n",
      "   • Direct start-to-end distance: 0.98 m\n",
      "   • Path efficiency: 9.6%\n",
      "   • Mission type: 🔄 Survey/patrol\n",
      "\n",
      "📊 OVERALL SYSTEM ASSESSMENT:\n",
      "-----------------------------------\n",
      "   🎯 Position Accuracy Score: 0.0/100\n",
      "   🧭 Navigation Consistency Score: 72.0/100\n",
      "   ⚡ System Synchronization Score: 97.8/100\n",
      "   📈 Overall System Score: 56.6/100\n",
      "   🏆 Performance Grade: ❌ Poor\n",
      "\n",
      "💡 RECOMMENDATIONS:\n",
      "--------------------\n",
      "   • 🔧 Consider tuning guidance system parameters to reduce position errors\n",
      "   • 📊 System performance below optimal - detailed calibration recommended\n",
      "\n",
      "=================================================================\n",
      "🏁 NAVIGATION & GUIDANCE ANALYSIS COMPLETE\n",
      "=================================================================\n"
     ]
    }
   ],
   "source": [
    "# 📋 NAVIGATION & GUIDANCE SYSTEM PERFORMANCE ASSESSMENT\n",
    "# ======================================================\n",
    "# Key insights and performance evaluation\n",
    "\n",
    "print(\"📋 Navigation & Guidance System Performance Assessment\")\n",
    "print(\"=\" * 65)\n",
    "\n",
    "# Create performance summary\n",
    "if guidance_data is not None and plane_data is not None:\n",
    "    \n",
    "    print(\"\\n🎯 KEY PERFORMANCE INSIGHTS:\")\n",
    "    print(\"-\" * 35)\n",
    "    \n",
    "    # Guidance system accuracy assessment\n",
    "    mean_pos_error = np.sqrt(guidance_data['error_x']**2 + guidance_data['error_y']**2 + guidance_data['error_z']**2).mean()\n",
    "    max_pos_error = np.sqrt(guidance_data['error_x']**2 + guidance_data['error_y']**2 + guidance_data['error_z']**2).max()\n",
    "    \n",
    "    print(f\"1️⃣ Guidance Position Accuracy:\")\n",
    "    print(f\"   • Mean 3D position error: {mean_pos_error:.3f} m\")\n",
    "    print(f\"   • Maximum 3D position error: {max_pos_error:.3f} m\")\n",
    "    \n",
    "    # Navigation system consistency\n",
    "    if 'NetDistance' in plane_data.columns and 'Altitude' in plane_data.columns:\n",
    "        net_dist_std = plane_data['NetDistance'].std()\n",
    "        altitude_std = plane_data['Altitude'].std()\n",
    "        \n",
    "        print(f\"\\n2️⃣ Navigation System Consistency:\")\n",
    "        print(f\"   • Net distance variability (std): {net_dist_std:.3f} m\")\n",
    "        print(f\"   • Altitude variability (std): {altitude_std:.3f} m\")\n",
    "    \n",
    "    # Velocity performance\n",
    "    if all(col in plane_data.columns for col in ['NetVelocity_u', 'NetVelocity_v', 'NetVelocity_w']):\n",
    "        net_speed = np.sqrt(plane_data['NetVelocity_u']**2 + \n",
    "                           plane_data['NetVelocity_v']**2 + \n",
    "                           plane_data['NetVelocity_w']**2)\n",
    "        mean_speed = net_speed.mean()\n",
    "        max_speed = net_speed.max()\n",
    "        \n",
    "        print(f\"\\n3️⃣ Vehicle Motion Characteristics:\")\n",
    "        print(f\"   • Mean velocity magnitude: {mean_speed:.3f} m/s\")\n",
    "        print(f\"   • Maximum velocity magnitude: {max_speed:.3f} m/s\")\n",
    "        print(f\"   • Predominant motion axis: {'Y-axis (sway)' if plane_data['NetVelocity_v'].abs().mean() > plane_data['NetVelocity_u'].abs().mean() else 'X-axis (surge)'}\")\n",
    "    \n",
    "    # System synchronization\n",
    "    guidance_rate = len(guidance_data) / (guidance_data['t_rel'].max() / 60.0)\n",
    "    nav_rate = len(plane_data) / (plane_data['t_rel'].max() / 60.0)\n",
    "    rate_diff = abs(guidance_rate - nav_rate)\n",
    "    \n",
    "    print(f\"\\n4️⃣ System Synchronization:\")\n",
    "    print(f\"   • Guidance sampling rate: {guidance_rate:.1f} Hz\")\n",
    "    print(f\"   • Navigation sampling rate: {nav_rate:.1f} Hz\")\n",
    "    print(f\"   • Rate difference: {rate_diff:.1f} Hz\")\n",
    "    print(f\"   • Synchronization status: {'✅ Good' if rate_diff < 10 else '⚠️ Needs attention'}\")\n",
    "    \n",
    "    # Error trend analysis\n",
    "    if 'error_net_distance' in guidance_data.columns:\n",
    "        error_trend = np.polyfit(range(len(guidance_data)), guidance_data['error_net_distance'], 1)[0]\n",
    "        print(f\"\\n5️⃣ Error Trend Analysis:\")\n",
    "        print(f\"   • Net distance error trend: {error_trend:.6f} m/sample\")\n",
    "        print(f\"   • Error behavior: {'⬆️ Increasing' if error_trend > 0.001 else '⬇️ Decreasing' if error_trend < -0.001 else '➡️ Stable'}\")\n",
    "    \n",
    "    # Mission profile assessment\n",
    "    if plane_pos_data is not None and len(plane_pos_data) > 5:\n",
    "        # Calculate mission characteristics\n",
    "        start_pos = np.array([plane_pos_data['x'].iloc[0], plane_pos_data['y'].iloc[0], plane_pos_data['z'].iloc[0]])\n",
    "        end_pos = np.array([plane_pos_data['x'].iloc[-1], plane_pos_data['y'].iloc[-1], plane_pos_data['z'].iloc[-1]])\n",
    "        direct_distance = np.linalg.norm(end_pos - start_pos)\n",
    "        \n",
    "        print(f\"\\n6️⃣ Mission Profile:\")\n",
    "        print(f\"   • Total trajectory length: {total_distance:.2f} m\")\n",
    "        print(f\"   • Direct start-to-end distance: {direct_distance:.2f} m\")\n",
    "        print(f\"   • Path efficiency: {(direct_distance/total_distance)*100:.1f}%\")\n",
    "        print(f\"   • Mission type: {'🎯 Point-to-point' if direct_distance/total_distance > 0.8 else '🔄 Survey/patrol' if direct_distance/total_distance < 0.3 else '🛤️ Structured path'}\")\n",
    "    \n",
    "    # Data quality score\n",
    "    print(f\"\\n📊 OVERALL SYSTEM ASSESSMENT:\")\n",
    "    print(\"-\" * 35)\n",
    "    \n",
    "    # Calculate composite scores\n",
    "    position_score = max(0, 100 - (mean_pos_error * 50))  # Scale position error\n",
    "    consistency_score = max(0, 100 - (net_dist_std * 100)) if 'NetDistance' in plane_data.columns else 90\n",
    "    sync_score = max(0, 100 - (rate_diff * 2))  # Penalize rate differences\n",
    "    \n",
    "    overall_score = (position_score + consistency_score + sync_score) / 3\n",
    "    \n",
    "    print(f\"   🎯 Position Accuracy Score: {position_score:.1f}/100\")\n",
    "    print(f\"   🧭 Navigation Consistency Score: {consistency_score:.1f}/100\") \n",
    "    print(f\"   ⚡ System Synchronization Score: {sync_score:.1f}/100\")\n",
    "    print(f\"   📈 Overall System Score: {overall_score:.1f}/100\")\n",
    "    \n",
    "    # Performance grade\n",
    "    if overall_score >= 90:\n",
    "        grade = \"🥇 Excellent\"\n",
    "    elif overall_score >= 80:\n",
    "        grade = \"🥈 Good\"\n",
    "    elif overall_score >= 70:\n",
    "        grade = \"🥉 Satisfactory\"\n",
    "    elif overall_score >= 60:\n",
    "        grade = \"⚠️ Needs Improvement\"\n",
    "    else:\n",
    "        grade = \"❌ Poor\"\n",
    "    \n",
    "    print(f\"   🏆 Performance Grade: {grade}\")\n",
    "    \n",
    "    # Recommendations\n",
    "    print(f\"\\n💡 RECOMMENDATIONS:\")\n",
    "    print(\"-\" * 20)\n",
    "    \n",
    "    if mean_pos_error > 1.0:\n",
    "        print(\"   • 🔧 Consider tuning guidance system parameters to reduce position errors\")\n",
    "    \n",
    "    if max_speed < 0.1:\n",
    "        print(\"   • 🐌 Vehicle operating at low speeds - consider mission efficiency\")\n",
    "    elif max_speed > 1.0:\n",
    "        print(\"   • ⚡ High speed operations detected - verify safety margins\")\n",
    "    \n",
    "    if rate_diff > 20:\n",
    "        print(\"   • ⏱️ Large sampling rate differences - check system timing\")\n",
    "    \n",
    "    if overall_score < 80:\n",
    "        print(\"   • 📊 System performance below optimal - detailed calibration recommended\")\n",
    "    else:\n",
    "        print(\"   • ✅ System performing well within expected parameters\")\n",
    "\n",
    "else:\n",
    "    print(\"❌ Cannot perform assessment - missing required data\")\n",
    "\n",
    "print(\"\\n\" + \"=\"*65)\n",
    "print(\"🏁 NAVIGATION & GUIDANCE ANALYSIS COMPLETE\")\n",
    "print(\"=\"*65)"
   ]
  },
  {
   "cell_type": "code",
   "execution_count": null,
   "id": "26bccd78",
   "metadata": {},
   "outputs": [],
   "source": []
  }
 ],
 "metadata": {
  "kernelspec": {
   "display_name": "venv",
   "language": "python",
   "name": "python3"
  },
  "language_info": {
   "codemirror_mode": {
    "name": "ipython",
    "version": 3
   },
   "file_extension": ".py",
   "mimetype": "text/x-python",
   "name": "python",
   "nbconvert_exporter": "python",
   "pygments_lexer": "ipython3",
   "version": "3.13.5"
  }
 },
 "nbformat": 4,
 "nbformat_minor": 5
}
